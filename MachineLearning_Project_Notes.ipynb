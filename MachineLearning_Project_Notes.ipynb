{
 "cells": [
  {
   "cell_type": "markdown",
   "metadata": {},
   "source": [
    "# Notes about the Intro to Machine Learning Project\n",
    "[Marcelo Tyszler](mailto:tyszler.jobs@gmail.com)\n",
    "\n",
    "24/Sep/2017\n",
    "\n",
    "In this notebook I summarize my steps and findings towards the Final Project in the Intro to Machine Learning course. This is in the Scope of the Udacity Data Analyst Nanodegree.\n",
    "\n",
    "# Choice of tools\n",
    "\n",
    "For this project I opted for:\n",
    "* Keep basic documentation and notes in the Jupyter Notebook\n",
    "* Save files in Github\n",
    "* Use PyCharm as Python environment\n"
   ]
  },
  {
   "cell_type": "markdown",
   "metadata": {},
   "source": [
    "# Initial Data Exploration\n",
    "Initially I want to read all data and obtain initial summary statistics to get a feel of the full data and spot potential problems.\n",
    "\n",
    "I first load data for all available features. According to the documentation there should be 21 features:\n",
    "\n",
    "**financial features**: \\['salary', 'deferral_payments', 'total_payments', 'loan_advances', 'bonus', 'restricted_stock_deferred', 'deferred_income', 'total_stock_value', 'expenses', 'exercised_stock_options', 'other', 'long_term_incentive', 'restricted_stock', 'director_fees'] (all units are in US dollars)\n",
    "\n",
    "**email features**: \\['to_messages', 'email_address', 'from_poi_to_this_person', 'from_messages', 'from_this_person_to_poi', 'shared_receipt_with_poi'] (units are generally number of emails messages; notable exception is ‘email_address’, which is a text string)\n",
    "\n",
    "**POI label**: \\[‘poi’] (boolean, represented as integer)"
   ]
  },
  {
   "cell_type": "code",
   "execution_count": 1,
   "metadata": {
    "collapsed": false
   },
   "outputs": [],
   "source": [
    "import pickle\n",
    "\n",
    "enron_data = pickle.load(open(\"final_project_dataset.pkl\", \"r\"))"
   ]
  },
  {
   "cell_type": "code",
   "execution_count": 2,
   "metadata": {
    "collapsed": false
   },
   "outputs": [
    {
     "name": "stdout",
     "output_type": "stream",
     "text": [
      "Number of Persons: 146\n",
      "Features per Persons: 21\n"
     ]
    }
   ],
   "source": [
    "print \"Number of Persons: \" + str(len(enron_data))\n",
    "print \"Features per Persons: \" + str(len(enron_data[enron_data.keys()[0]]))"
   ]
  },
  {
   "cell_type": "markdown",
   "metadata": {},
   "source": [
    "Therefore I have 21 features about 146 persons. Let's double check the features."
   ]
  },
  {
   "cell_type": "code",
   "execution_count": 3,
   "metadata": {
    "collapsed": false
   },
   "outputs": [
    {
     "name": "stdout",
     "output_type": "stream",
     "text": [
      "List of Features:\n"
     ]
    },
    {
     "data": {
      "text/plain": [
       "['salary',\n",
       " 'to_messages',\n",
       " 'deferral_payments',\n",
       " 'total_payments',\n",
       " 'exercised_stock_options',\n",
       " 'bonus',\n",
       " 'restricted_stock',\n",
       " 'shared_receipt_with_poi',\n",
       " 'restricted_stock_deferred',\n",
       " 'total_stock_value',\n",
       " 'expenses',\n",
       " 'loan_advances',\n",
       " 'from_messages',\n",
       " 'other',\n",
       " 'from_this_person_to_poi',\n",
       " 'poi',\n",
       " 'director_fees',\n",
       " 'deferred_income',\n",
       " 'long_term_incentive',\n",
       " 'email_address',\n",
       " 'from_poi_to_this_person']"
      ]
     },
     "execution_count": 3,
     "metadata": {},
     "output_type": "execute_result"
    }
   ],
   "source": [
    "print \"List of Features:\"\n",
    "enron_data[enron_data.keys()[0]].keys()"
   ]
  },
  {
   "cell_type": "markdown",
   "metadata": {},
   "source": [
    "This is what I expected according to the documentation"
   ]
  },
  {
   "cell_type": "markdown",
   "metadata": {},
   "source": [
    "Let's double check the list of persons."
   ]
  },
  {
   "cell_type": "code",
   "execution_count": 4,
   "metadata": {
    "collapsed": false
   },
   "outputs": [
    {
     "name": "stdout",
     "output_type": "stream",
     "text": [
      "List of Persons:\n"
     ]
    },
    {
     "data": {
      "text/plain": [
       "['ALLEN PHILLIP K',\n",
       " 'BADUM JAMES P',\n",
       " 'BANNANTINE JAMES M',\n",
       " 'BAXTER JOHN C',\n",
       " 'BAY FRANKLIN R',\n",
       " 'BAZELIDES PHILIP J',\n",
       " 'BECK SALLY W',\n",
       " 'BELDEN TIMOTHY N',\n",
       " 'BELFER ROBERT',\n",
       " 'BERBERIAN DAVID',\n",
       " 'BERGSIEKER RICHARD P',\n",
       " 'BHATNAGAR SANJAY',\n",
       " 'BIBI PHILIPPE A',\n",
       " 'BLACHMAN JEREMY M',\n",
       " 'BLAKE JR. NORMAN P',\n",
       " 'BOWEN JR RAYMOND M',\n",
       " 'BROWN MICHAEL',\n",
       " 'BUCHANAN HAROLD G',\n",
       " 'BUTTS ROBERT H',\n",
       " 'BUY RICHARD B',\n",
       " 'CALGER CHRISTOPHER F',\n",
       " 'CARTER REBECCA C',\n",
       " 'CAUSEY RICHARD A',\n",
       " 'CHAN RONNIE',\n",
       " 'CHRISTODOULOU DIOMEDES',\n",
       " 'CLINE KENNETH W',\n",
       " 'COLWELL WESLEY',\n",
       " 'CORDES WILLIAM R',\n",
       " 'COX DAVID',\n",
       " 'CUMBERLAND MICHAEL S',\n",
       " 'DEFFNER JOSEPH M',\n",
       " 'DELAINEY DAVID W',\n",
       " 'DERRICK JR. JAMES V',\n",
       " 'DETMERING TIMOTHY J',\n",
       " 'DIETRICH JANET R',\n",
       " 'DIMICHELE RICHARD G',\n",
       " 'DODSON KEITH',\n",
       " 'DONAHUE JR JEFFREY M',\n",
       " 'DUNCAN JOHN H',\n",
       " 'DURAN WILLIAM D',\n",
       " 'ECHOLS JOHN B',\n",
       " 'ELLIOTT STEVEN',\n",
       " 'FALLON JAMES B',\n",
       " 'FASTOW ANDREW S',\n",
       " 'FITZGERALD JAY L',\n",
       " 'FOWLER PEGGY',\n",
       " 'FOY JOE',\n",
       " 'FREVERT MARK A',\n",
       " 'FUGH JOHN L',\n",
       " 'GAHN ROBERT S',\n",
       " 'GARLAND C KEVIN',\n",
       " 'GATHMANN WILLIAM D',\n",
       " 'GIBBS DANA R',\n",
       " 'GILLIS JOHN',\n",
       " 'GLISAN JR BEN F',\n",
       " 'GOLD JOSEPH',\n",
       " 'GRAMM WENDY L',\n",
       " 'GRAY RODNEY',\n",
       " 'HAEDICKE MARK E',\n",
       " 'HANNON KEVIN P',\n",
       " 'HAUG DAVID L',\n",
       " 'HAYES ROBERT E',\n",
       " 'HAYSLETT RODERICK J',\n",
       " 'HERMANN ROBERT J',\n",
       " 'HICKERSON GARY J',\n",
       " 'HIRKO JOSEPH',\n",
       " 'HORTON STANLEY C',\n",
       " 'HUGHES JAMES A',\n",
       " 'HUMPHREY GENE E',\n",
       " 'IZZO LAWRENCE L',\n",
       " 'JACKSON CHARLENE R',\n",
       " 'JAEDICKE ROBERT',\n",
       " 'KAMINSKI WINCENTY J',\n",
       " 'KEAN STEVEN J',\n",
       " 'KISHKILL JOSEPH G',\n",
       " 'KITCHEN LOUISE',\n",
       " 'KOENIG MARK E',\n",
       " 'KOPPER MICHAEL J',\n",
       " 'LAVORATO JOHN J',\n",
       " 'LAY KENNETH L',\n",
       " 'LEFF DANIEL P',\n",
       " 'LEMAISTRE CHARLES',\n",
       " 'LEWIS RICHARD',\n",
       " 'LINDHOLM TOD A',\n",
       " 'LOCKHART EUGENE E',\n",
       " 'LOWRY CHARLES P',\n",
       " 'MARTIN AMANDA K',\n",
       " 'MCCARTY DANNY J',\n",
       " 'MCCLELLAN GEORGE',\n",
       " 'MCCONNELL MICHAEL S',\n",
       " 'MCDONALD REBECCA',\n",
       " 'MCMAHON JEFFREY',\n",
       " 'MENDELSOHN JOHN',\n",
       " 'METTS MARK',\n",
       " 'MEYER JEROME J',\n",
       " 'MEYER ROCKFORD G',\n",
       " 'MORAN MICHAEL P',\n",
       " 'MORDAUNT KRISTINA M',\n",
       " 'MULLER MARK S',\n",
       " 'MURRAY JULIA H',\n",
       " 'NOLES JAMES L',\n",
       " 'OLSON CINDY K',\n",
       " 'OVERDYKE JR JERE C',\n",
       " 'PAI LOU L',\n",
       " 'PEREIRA PAULO V. FERRAZ',\n",
       " 'PICKERING MARK R',\n",
       " 'PIPER GREGORY F',\n",
       " 'PIRO JIM',\n",
       " 'POWERS WILLIAM',\n",
       " 'PRENTICE JAMES',\n",
       " 'REDMOND BRIAN L',\n",
       " 'REYNOLDS LAWRENCE',\n",
       " 'RICE KENNETH D',\n",
       " 'RIEKER PAULA H',\n",
       " 'SAVAGE FRANK',\n",
       " 'SCRIMSHAW MATTHEW',\n",
       " 'SHANKMAN JEFFREY A',\n",
       " 'SHAPIRO RICHARD S',\n",
       " 'SHARP VICTORIA T',\n",
       " 'SHELBY REX',\n",
       " 'SHERRICK JEFFREY B',\n",
       " 'SHERRIFF JOHN R',\n",
       " 'SKILLING JEFFREY K',\n",
       " 'STABLER FRANK',\n",
       " 'SULLIVAN-SHAKLOVITZ COLLEEN',\n",
       " 'SUNDE MARTIN',\n",
       " 'TAYLOR MITCHELL S',\n",
       " 'THE TRAVEL AGENCY IN THE PARK',\n",
       " 'THORN TERENCE H',\n",
       " 'TILNEY ELIZABETH A',\n",
       " 'TOTAL',\n",
       " 'UMANOFF ADAM S',\n",
       " 'URQUHART JOHN A',\n",
       " 'WAKEHAM JOHN',\n",
       " 'WALLS JR ROBERT H',\n",
       " 'WALTERS GARETH W',\n",
       " 'WASAFF GEORGE',\n",
       " 'WESTFAHL RICHARD K',\n",
       " 'WHALEY DAVID A',\n",
       " 'WHALLEY LAWRENCE G',\n",
       " 'WHITE JR THOMAS E',\n",
       " 'WINOKUR JR. HERBERT S',\n",
       " 'WODRASKA JOHN',\n",
       " 'WROBEL BRUCE',\n",
       " 'YEAGER F SCOTT',\n",
       " 'YEAP SOON']"
      ]
     },
     "execution_count": 4,
     "metadata": {},
     "output_type": "execute_result"
    }
   ],
   "source": [
    "print \"List of Persons:\"\n",
    "sorted(enron_data.keys())"
   ]
  },
  {
   "cell_type": "markdown",
   "metadata": {},
   "source": [
    "I spot 2 instances that need to be removed:  *TOTAL* and *THE TRAVEL AGENCY IN THE PARK*."
   ]
  },
  {
   "cell_type": "code",
   "execution_count": 5,
   "metadata": {
    "collapsed": false
   },
   "outputs": [
    {
     "data": {
      "text/plain": [
       "{'bonus': 'NaN',\n",
       " 'deferral_payments': 'NaN',\n",
       " 'deferred_income': 'NaN',\n",
       " 'director_fees': 'NaN',\n",
       " 'email_address': 'NaN',\n",
       " 'exercised_stock_options': 'NaN',\n",
       " 'expenses': 'NaN',\n",
       " 'from_messages': 'NaN',\n",
       " 'from_poi_to_this_person': 'NaN',\n",
       " 'from_this_person_to_poi': 'NaN',\n",
       " 'loan_advances': 'NaN',\n",
       " 'long_term_incentive': 'NaN',\n",
       " 'other': 362096,\n",
       " 'poi': False,\n",
       " 'restricted_stock': 'NaN',\n",
       " 'restricted_stock_deferred': 'NaN',\n",
       " 'salary': 'NaN',\n",
       " 'shared_receipt_with_poi': 'NaN',\n",
       " 'to_messages': 'NaN',\n",
       " 'total_payments': 362096,\n",
       " 'total_stock_value': 'NaN'}"
      ]
     },
     "execution_count": 5,
     "metadata": {},
     "output_type": "execute_result"
    }
   ],
   "source": [
    "enron_data.pop('TOTAL',0)\n",
    "enron_data.pop('THE TRAVEL AGENCY IN THE PARK',0)"
   ]
  },
  {
   "cell_type": "markdown",
   "metadata": {},
   "source": [
    "Let's see how many POIs and non-POIs are in the dataset"
   ]
  },
  {
   "cell_type": "code",
   "execution_count": 6,
   "metadata": {
    "collapsed": false,
    "scrolled": true
   },
   "outputs": [
    {
     "name": "stdout",
     "output_type": "stream",
     "text": [
      "HANNON KEVIN P\n",
      "COLWELL WESLEY\n",
      "RIEKER PAULA H\n",
      "KOPPER MICHAEL J\n",
      "SHELBY REX\n",
      "DELAINEY DAVID W\n",
      "LAY KENNETH L\n",
      "BOWEN JR RAYMOND M\n",
      "BELDEN TIMOTHY N\n",
      "FASTOW ANDREW S\n",
      "CALGER CHRISTOPHER F\n",
      "RICE KENNETH D\n",
      "SKILLING JEFFREY K\n",
      "YEAGER F SCOTT\n",
      "HIRKO JOSEPH\n",
      "KOENIG MARK E\n",
      "CAUSEY RICHARD A\n",
      "GLISAN JR BEN F\n",
      "\n",
      "\n",
      "POIs:18\n",
      "non-POIs:126\n",
      "Total:144\n"
     ]
    }
   ],
   "source": [
    "POI = 0\n",
    "non_POI = 0\n",
    "for person in enron_data.keys():\n",
    "    if enron_data[person]['poi']:\n",
    "        print person\n",
    "        POI +=1\n",
    "    else:\n",
    "        non_POI +=1\n",
    "print \"\\n\"\n",
    "print \"POIs:\" + str(POI)\n",
    "print \"non-POIs:\" + str(non_POI)\n",
    "print \"Total:\" + str(POI+non_POI)"
   ]
  },
  {
   "cell_type": "markdown",
   "metadata": {},
   "source": [
    "Lets get a feel for the data and print the data for some people"
   ]
  },
  {
   "cell_type": "code",
   "execution_count": 7,
   "metadata": {
    "collapsed": false
   },
   "outputs": [
    {
     "name": "stdout",
     "output_type": "stream",
     "text": [
      "METTS MARK\n",
      "{'salary': 365788, 'to_messages': 807, 'deferral_payments': 'NaN', 'total_payments': 1061827, 'exercised_stock_options': 'NaN', 'bonus': 600000, 'restricted_stock': 585062, 'shared_receipt_with_poi': 702, 'restricted_stock_deferred': 'NaN', 'total_stock_value': 585062, 'expenses': 94299, 'loan_advances': 'NaN', 'from_messages': 29, 'other': 1740, 'from_this_person_to_poi': 1, 'poi': False, 'director_fees': 'NaN', 'deferred_income': 'NaN', 'long_term_incentive': 'NaN', 'email_address': 'mark.metts@enron.com', 'from_poi_to_this_person': 38}\n",
      "BAXTER JOHN C\n",
      "{'salary': 267102, 'to_messages': 'NaN', 'deferral_payments': 1295738, 'total_payments': 5634343, 'exercised_stock_options': 6680544, 'bonus': 1200000, 'restricted_stock': 3942714, 'shared_receipt_with_poi': 'NaN', 'restricted_stock_deferred': 'NaN', 'total_stock_value': 10623258, 'expenses': 11200, 'loan_advances': 'NaN', 'from_messages': 'NaN', 'other': 2660303, 'from_this_person_to_poi': 'NaN', 'poi': False, 'director_fees': 'NaN', 'deferred_income': -1386055, 'long_term_incentive': 1586055, 'email_address': 'NaN', 'from_poi_to_this_person': 'NaN'}\n",
      "ELLIOTT STEVEN\n",
      "{'salary': 170941, 'to_messages': 'NaN', 'deferral_payments': 'NaN', 'total_payments': 211725, 'exercised_stock_options': 4890344, 'bonus': 350000, 'restricted_stock': 1788391, 'shared_receipt_with_poi': 'NaN', 'restricted_stock_deferred': 'NaN', 'total_stock_value': 6678735, 'expenses': 78552, 'loan_advances': 'NaN', 'from_messages': 'NaN', 'other': 12961, 'from_this_person_to_poi': 'NaN', 'poi': False, 'director_fees': 'NaN', 'deferred_income': -400729, 'long_term_incentive': 'NaN', 'email_address': 'steven.elliott@enron.com', 'from_poi_to_this_person': 'NaN'}\n",
      "CORDES WILLIAM R\n",
      "{'salary': 'NaN', 'to_messages': 764, 'deferral_payments': 'NaN', 'total_payments': 'NaN', 'exercised_stock_options': 651850, 'bonus': 'NaN', 'restricted_stock': 386335, 'shared_receipt_with_poi': 58, 'restricted_stock_deferred': 'NaN', 'total_stock_value': 1038185, 'expenses': 'NaN', 'loan_advances': 'NaN', 'from_messages': 12, 'other': 'NaN', 'from_this_person_to_poi': 0, 'poi': False, 'director_fees': 'NaN', 'deferred_income': 'NaN', 'long_term_incentive': 'NaN', 'email_address': 'bill.cordes@enron.com', 'from_poi_to_this_person': 10}\n",
      "HANNON KEVIN P\n",
      "{'salary': 243293, 'to_messages': 1045, 'deferral_payments': 'NaN', 'total_payments': 288682, 'exercised_stock_options': 5538001, 'bonus': 1500000, 'restricted_stock': 853064, 'shared_receipt_with_poi': 1035, 'restricted_stock_deferred': 'NaN', 'total_stock_value': 6391065, 'expenses': 34039, 'loan_advances': 'NaN', 'from_messages': 32, 'other': 11350, 'from_this_person_to_poi': 21, 'poi': True, 'director_fees': 'NaN', 'deferred_income': -3117011, 'long_term_incentive': 1617011, 'email_address': 'kevin.hannon@enron.com', 'from_poi_to_this_person': 32}\n"
     ]
    }
   ],
   "source": [
    "test_keys = range(0,5)\n",
    "\n",
    "for key in test_keys:\n",
    "    print enron_data.keys()[key]\n",
    "    print(enron_data[enron_data.keys()[key]])\n"
   ]
  },
  {
   "cell_type": "markdown",
   "metadata": {},
   "source": [
    "## Iniitial Feature Selection"
   ]
  },
  {
   "cell_type": "markdown",
   "metadata": {},
   "source": [
    "From the small sample above I notice that certain features contain *NaN* values. In order to access the usability of certain features, I should check how many *NaN* exist, and in particular, what is the breakdown between POI and non-POI to have a sense of the bias that certain features might bring.\n",
    "\n",
    "I'll also use the opportunity to create lists of features to be used later."
   ]
  },
  {
   "cell_type": "code",
   "execution_count": 8,
   "metadata": {
    "collapsed": false,
    "scrolled": true
   },
   "outputs": [
    {
     "name": "stdout",
     "output_type": "stream",
     "text": [
      "\n",
      "salary\n",
      "NaN in POIs: 1 (5.56%)\n",
      "NaN in non-POIs: 49 (38.89%)\n",
      "Valid: 94 (65.28%)\n",
      "\n",
      "to_messages\n",
      "NaN in POIs: 4 (22.22%)\n",
      "NaN in non-POIs: 54 (42.86%)\n",
      "Valid: 86 (59.72%)\n",
      "\n",
      "deferral_payments\n",
      "NaN in POIs: 13 (72.22%)\n",
      "NaN in non-POIs: 93 (73.81%)\n",
      "Valid: 38 (26.39%)\n",
      "\n",
      "total_payments\n",
      "NaN in POIs: 0 (0.0%)\n",
      "NaN in non-POIs: 21 (16.67%)\n",
      "Valid: 123 (85.42%)\n",
      "\n",
      "exercised_stock_options\n",
      "NaN in POIs: 6 (33.33%)\n",
      "NaN in non-POIs: 37 (29.37%)\n",
      "Valid: 101 (70.14%)\n",
      "\n",
      "bonus\n",
      "NaN in POIs: 2 (11.11%)\n",
      "NaN in non-POIs: 61 (48.41%)\n",
      "Valid: 81 (56.25%)\n",
      "\n",
      "restricted_stock\n",
      "NaN in POIs: 1 (5.56%)\n",
      "NaN in non-POIs: 34 (26.98%)\n",
      "Valid: 109 (75.69%)\n",
      "\n",
      "shared_receipt_with_poi\n",
      "NaN in POIs: 4 (22.22%)\n",
      "NaN in non-POIs: 54 (42.86%)\n",
      "Valid: 86 (59.72%)\n",
      "\n",
      "restricted_stock_deferred\n",
      "NaN in POIs: 18 (100.0%)\n",
      "NaN in non-POIs: 109 (86.51%)\n",
      "Valid: 17 (11.81%)\n",
      "\n",
      "total_stock_value\n",
      "NaN in POIs: 0 (0.0%)\n",
      "NaN in non-POIs: 19 (15.08%)\n",
      "Valid: 125 (86.81%)\n",
      "\n",
      "expenses\n",
      "NaN in POIs: 0 (0.0%)\n",
      "NaN in non-POIs: 50 (39.68%)\n",
      "Valid: 94 (65.28%)\n",
      "\n",
      "loan_advances\n",
      "NaN in POIs: 17 (94.44%)\n",
      "NaN in non-POIs: 124 (98.41%)\n",
      "Valid: 3 (2.08%)\n",
      "\n",
      "from_messages\n",
      "NaN in POIs: 4 (22.22%)\n",
      "NaN in non-POIs: 54 (42.86%)\n",
      "Valid: 86 (59.72%)\n",
      "\n",
      "other\n",
      "NaN in POIs: 0 (0.0%)\n",
      "NaN in non-POIs: 53 (42.06%)\n",
      "Valid: 91 (63.19%)\n",
      "\n",
      "from_this_person_to_poi\n",
      "NaN in POIs: 4 (22.22%)\n",
      "NaN in non-POIs: 54 (42.86%)\n",
      "Valid: 86 (59.72%)\n",
      "\n",
      "poi\n",
      "NaN in POIs: 0 (0.0%)\n",
      "NaN in non-POIs: 0 (0.0%)\n",
      "Valid: 144 (100.0%)\n",
      "\n",
      "director_fees\n",
      "NaN in POIs: 18 (100.0%)\n",
      "NaN in non-POIs: 110 (87.3%)\n",
      "Valid: 16 (11.11%)\n",
      "\n",
      "deferred_income\n",
      "NaN in POIs: 7 (38.89%)\n",
      "NaN in non-POIs: 89 (70.63%)\n",
      "Valid: 48 (33.33%)\n",
      "\n",
      "long_term_incentive\n",
      "NaN in POIs: 6 (33.33%)\n",
      "NaN in non-POIs: 73 (57.94%)\n",
      "Valid: 65 (45.14%)\n",
      "\n",
      "email_address\n",
      "NaN in POIs: 0 (0.0%)\n",
      "NaN in non-POIs: 33 (26.19%)\n",
      "Valid: 111 (77.08%)\n",
      "\n",
      "from_poi_to_this_person\n",
      "NaN in POIs: 4 (22.22%)\n",
      "NaN in non-POIs: 54 (42.86%)\n",
      "Valid: 86 (59.72%)\n"
     ]
    }
   ],
   "source": [
    "initial_selection_features = ['poi']\n",
    "all_features = ['poi']\n",
    "\n",
    "for feature in enron_data[enron_data.keys()[0]].keys():\n",
    "    nan_poi = 0\n",
    "    nan_non_poi = 0\n",
    "    valid_data = 0 \n",
    "    print \"\\n\"+feature\n",
    "    for person in enron_data.keys():\n",
    "        if enron_data[person][feature] =='NaN':\n",
    "            if enron_data[person]['poi']:\n",
    "                nan_poi +=1\n",
    "            else:\n",
    "                nan_non_poi +=1\n",
    "        else:\n",
    "            valid_data +=1\n",
    "    print \"NaN in POIs: \" + str(nan_poi) + \" (\" + str(round(float(nan_poi)/float(POI)*100,2))+\"%)\"\n",
    "    print \"NaN in non-POIs: \" + str(nan_non_poi) + \" (\" + str(round(float(nan_non_poi)/float(non_POI)*100,2))+\"%)\"\n",
    "    print \"Valid: \" + str(valid_data)  +\" (\" + str(round(float(valid_data)/float(POI+non_POI)*100,2))+\"%)\"\n",
    "    #print \"Total:\" + str(valid_data+nan_poi+nan_non_poi)\n",
    "    \n",
    "    # Keep feature only if at least 50% is valid:\n",
    "    if round(float(valid_data)/float(POI+non_POI)*100,2)>50:\n",
    "        # ignore email_address, since it is just text, and poi, which must be first\n",
    "        if feature !=\"email_address\" and feature !=\"poi\":\n",
    "            initial_selection_features.append(feature)\n",
    "            \n",
    "    # save all features to allow for comparison:\n",
    "    # ignore email_address, since it is just text, and poi, which must be first\n",
    "    if feature !=\"email_address\" and feature !=\"poi\":\n",
    "        all_features.append(feature)\n",
    "    "
   ]
  },
  {
   "cell_type": "markdown",
   "metadata": {},
   "source": [
    "From the test above, I notice that certain features are not good\n",
    "candidates for the classifer.\n",
    "\n",
    "In particular, *deferral_payments*, *restricted_stock_deferred*,*loan_advances*,\n",
    "*director_fees* have very low valid points to be seriously considered.\n",
    "\n",
    "As a general cut-off, I decide to drop any feature with less than 50% valid points\n",
    "will not be considered. I kept 14 features, listed below."
   ]
  },
  {
   "cell_type": "code",
   "execution_count": 9,
   "metadata": {
    "collapsed": false
   },
   "outputs": [
    {
     "name": "stdout",
     "output_type": "stream",
     "text": [
      "['poi', 'salary', 'to_messages', 'total_payments', 'exercised_stock_options', 'bonus', 'restricted_stock', 'shared_receipt_with_poi', 'total_stock_value', 'expenses', 'from_messages', 'other', 'from_this_person_to_poi', 'from_poi_to_this_person']\n",
      "\n",
      " Numbers of features: 14\n"
     ]
    }
   ],
   "source": [
    "print  initial_selection_features\n",
    "print \"\\n Numbers of features: \" + str(len(initial_selection_features))"
   ]
  },
  {
   "cell_type": "markdown",
   "metadata": {},
   "source": [
    "## Feature Creation"
   ]
  },
  {
   "cell_type": "markdown",
   "metadata": {},
   "source": [
    "I do not expect *to_messages* to be any informative to identify a POI. Likewise the absolute number of messages to/from poi or shared are less likely to be explanatory than their respective share version. I make therefore the transformation and update the list of features."
   ]
  },
  {
   "cell_type": "code",
   "execution_count": 10,
   "metadata": {
    "collapsed": false
   },
   "outputs": [
    {
     "name": "stdout",
     "output_type": "stream",
     "text": [
      "\n",
      "share_shared_receipt_with_poi\n",
      "NaN in POIs: 4 (22.22%)\n",
      "NaN in non-POIs: 54 (42.86%)\n",
      "Valid: 86 (59.72%)\n",
      "\n",
      "share_from_this_person_to_poi\n",
      "NaN in POIs: 4 (22.22%)\n",
      "NaN in non-POIs: 54 (42.86%)\n",
      "Valid: 86 (59.72%)\n",
      "\n",
      "share_from_poi_to_this_person\n",
      "NaN in POIs: 4 (22.22%)\n",
      "NaN in non-POIs: 54 (42.86%)\n",
      "Valid: 86 (59.72%)\n"
     ]
    }
   ],
   "source": [
    "initial_selection_features.remove('to_messages')\n",
    "initial_selection_features.remove('from_messages')\n",
    "initial_selection_features.remove('shared_receipt_with_poi')\n",
    "initial_selection_features.remove('from_this_person_to_poi')\n",
    "initial_selection_features.remove('from_poi_to_this_person')\n",
    "\n",
    "\n",
    "# supporting function  \n",
    "def convert_to_share(data, abs_var_name, base_var_name,new_var_name):\n",
    "    for person in data.keys():\n",
    "        if  data[person][abs_var_name] == \"NaN\" or  data[person][base_var_name] == \"NaN\":\n",
    "            data[person][new_var_name] = \"NaN\"\n",
    "        else:\n",
    "            data[person][new_var_name] = float(data[person][abs_var_name])/float(data[person][base_var_name])\n",
    "\n",
    "    return data\n",
    "   \n",
    "enron_data = convert_to_share(enron_data, 'shared_receipt_with_poi', 'to_messages','share_shared_receipt_with_poi') \n",
    "enron_data = convert_to_share(enron_data, 'from_this_person_to_poi', 'from_messages','share_from_this_person_to_poi') \n",
    "enron_data = convert_to_share(enron_data, 'from_poi_to_this_person', 'to_messages','share_from_poi_to_this_person') \n",
    "\n",
    "for feature in ['share_shared_receipt_with_poi','share_from_this_person_to_poi','share_from_poi_to_this_person']:\n",
    "    all_features.append(feature)\n",
    "    initial_selection_features.append(feature)\n",
    "    nan_poi = 0\n",
    "    nan_non_poi = 0\n",
    "    valid_data = 0 \n",
    "    print \"\\n\"+feature\n",
    "    for person in enron_data.keys():\n",
    "        if enron_data[person][feature] =='NaN':\n",
    "            if enron_data[person]['poi']:\n",
    "                nan_poi +=1\n",
    "            else:\n",
    "                nan_non_poi +=1\n",
    "        else:\n",
    "            valid_data +=1\n",
    "    print \"NaN in POIs: \" + str(nan_poi) + \" (\" + str(round(float(nan_poi)/float(POI)*100,2))+\"%)\"\n",
    "    print \"NaN in non-POIs: \" + str(nan_non_poi) + \" (\" + str(round(float(nan_non_poi)/float(non_POI)*100,2))+\"%)\"\n",
    "    print \"Valid: \" + str(valid_data)  +\" (\" + str(round(float(valid_data)/float(POI+non_POI)*100,2))+\"%)\""
   ]
  },
  {
   "cell_type": "markdown",
   "metadata": {},
   "source": [
    "And this is how the list of features looks like:"
   ]
  },
  {
   "cell_type": "code",
   "execution_count": 11,
   "metadata": {
    "collapsed": false
   },
   "outputs": [
    {
     "name": "stdout",
     "output_type": "stream",
     "text": [
      "['poi', 'salary', 'total_payments', 'exercised_stock_options', 'bonus', 'restricted_stock', 'total_stock_value', 'expenses', 'other', 'share_shared_receipt_with_poi', 'share_from_this_person_to_poi', 'share_from_poi_to_this_person']\n",
      "\n",
      " Numbers of features: 12\n"
     ]
    }
   ],
   "source": [
    "print  initial_selection_features\n",
    "print \"\\n Numbers of features: \" + str(len(initial_selection_features))"
   ]
  },
  {
   "cell_type": "markdown",
   "metadata": {},
   "source": [
    "I transform this according to feature format and check the initial listing"
   ]
  },
  {
   "cell_type": "code",
   "execution_count": 12,
   "metadata": {
    "collapsed": false
   },
   "outputs": [],
   "source": [
    "import sys\n",
    "sys.path.append(\"./tools/\") \n",
    "\n",
    "from feature_format import featureFormat, targetFeatureSplit\n",
    "from sklearn.model_selection import train_test_split\n",
    "\n",
    "data = featureFormat(enron_data, initial_selection_features, sort_keys = True)\n",
    "labels, features = targetFeatureSplit(data)\n",
    "\n",
    "features_train, features_test, labels_train, labels_test = \\\n",
    "    train_test_split(features, labels, test_size=0.3, random_state=42)"
   ]
  },
  {
   "cell_type": "code",
   "execution_count": 13,
   "metadata": {
    "collapsed": false
   },
   "outputs": [
    {
     "name": "stdout",
     "output_type": "stream",
     "text": [
      "143\n"
     ]
    }
   ],
   "source": [
    "# some checks\n",
    "print len(data)"
   ]
  },
  {
   "cell_type": "markdown",
   "metadata": {},
   "source": [
    "I noticed that one data point was dropped. Let's find out who, since this needs to be added to the initial list of outliers."
   ]
  },
  {
   "cell_type": "code",
   "execution_count": 14,
   "metadata": {
    "collapsed": false
   },
   "outputs": [
    {
     "name": "stdout",
     "output_type": "stream",
     "text": [
      "LOCKHART EUGENE E\n"
     ]
    }
   ],
   "source": [
    "for person in enron_data.keys():\n",
    "    suspect = person\n",
    "    for key in enron_data[enron_data.keys()[0]].keys():\n",
    "        suspect_found = True\n",
    "        if (enron_data[person][key] !=\"NaN\" and  enron_data[person][key] !=0):\n",
    "            suspect_found = False\n",
    "            break\n",
    "    if suspect_found:\n",
    "        print suspect\n",
    "        break"
   ]
  },
  {
   "cell_type": "code",
   "execution_count": 15,
   "metadata": {
    "collapsed": false
   },
   "outputs": [
    {
     "data": {
      "text/plain": [
       "{'bonus': 'NaN',\n",
       " 'deferral_payments': 'NaN',\n",
       " 'deferred_income': 'NaN',\n",
       " 'director_fees': 'NaN',\n",
       " 'email_address': 'NaN',\n",
       " 'exercised_stock_options': 'NaN',\n",
       " 'expenses': 'NaN',\n",
       " 'from_messages': 'NaN',\n",
       " 'from_poi_to_this_person': 'NaN',\n",
       " 'from_this_person_to_poi': 'NaN',\n",
       " 'loan_advances': 'NaN',\n",
       " 'long_term_incentive': 'NaN',\n",
       " 'other': 'NaN',\n",
       " 'poi': False,\n",
       " 'restricted_stock': 'NaN',\n",
       " 'restricted_stock_deferred': 'NaN',\n",
       " 'salary': 'NaN',\n",
       " 'share_from_poi_to_this_person': 'NaN',\n",
       " 'share_from_this_person_to_poi': 'NaN',\n",
       " 'share_shared_receipt_with_poi': 'NaN',\n",
       " 'shared_receipt_with_poi': 'NaN',\n",
       " 'to_messages': 'NaN',\n",
       " 'total_payments': 'NaN',\n",
       " 'total_stock_value': 'NaN'}"
      ]
     },
     "execution_count": 15,
     "metadata": {},
     "output_type": "execute_result"
    }
   ],
   "source": [
    "enron_data.pop('LOCKHART EUGENE E',0)"
   ]
  },
  {
   "cell_type": "markdown",
   "metadata": {},
   "source": [
    "Now I visualy inspect all initially selected variables:"
   ]
  },
  {
   "cell_type": "code",
   "execution_count": 16,
   "metadata": {
    "collapsed": false
   },
   "outputs": [
    {
     "data": {
      "image/png": "[encoded data removed]",
      "text/plain": [
       "<matplotlib.figure.Figure at 0xc1eeb38>"
      ]
     },
     "metadata": {},
     "output_type": "display_data"
    },
    {
     "data": {
      "image/png": "[encoded data removed]",
      "text/plain": [
       "<matplotlib.figure.Figure at 0xc714240>"
      ]
     },
     "metadata": {},
     "output_type": "display_data"
    },
    {
     "data": {
      "image/png": "[encoded data removed]",
      "text/plain": [
       "<matplotlib.figure.Figure at 0xc5a9e48>"
      ]
     },
     "metadata": {},
     "output_type": "display_data"
    },
    {
     "data": {
      "image/png": "[encoded data removed]",
      "text/plain": [
       "<matplotlib.figure.Figure at 0xcdc3b38>"
      ]
     },
     "metadata": {},
     "output_type": "display_data"
    },
    {
     "data": {
      "image/png": "[encoded data removed]",
      "text/plain": [
       "<matplotlib.figure.Figure at 0xdf68ef0>"
      ]
     },
     "metadata": {},
     "output_type": "display_data"
    },
    {
     "data": {
      "image/png": "[encoded data removed]",
      "text/plain": [
       "<matplotlib.figure.Figure at 0xe4bc0b8>"
      ]
     },
     "metadata": {},
     "output_type": "display_data"
    },
    {
     "data": {
      "image/png": "[encoded data removed]",
      "text/plain": [
       "<matplotlib.figure.Figure at 0xe4abd68>"
      ]
     },
     "metadata": {},
     "output_type": "display_data"
    },
    {
     "data": {
      "image/png": "[encoded data removed]",
      "text/plain": [
       "<matplotlib.figure.Figure at 0xc640d68>"
      ]
     },
     "metadata": {},
     "output_type": "display_data"
    },
    {
     "data": {
      "image/png": "[encoded data removed]",
      "text/plain": [
       "<matplotlib.figure.Figure at 0xc429e48>"
      ]
     },
     "metadata": {},
     "output_type": "display_data"
    },
    {
     "data": {
      "image/png": "[encoded data removed]",
      "text/plain": [
       "<matplotlib.figure.Figure at 0xdf372e8>"
      ]
     },
     "metadata": {},
     "output_type": "display_data"
    },
    {
     "data": {
      "image/png": "[encoded data removed]",
      "text/plain": [
       "<matplotlib.figure.Figure at 0xe4196a0>"
      ]
     },
     "metadata": {},
     "output_type": "display_data"
    }
   ],
   "source": [
    "import matplotlib.pyplot as plt\n",
    "import seaborn as sb\n",
    "\n",
    "for i in range(1,len(initial_selection_features)):\n",
    "\n",
    "    for point in data:\n",
    "        if point[0]==1:\n",
    "            plt.scatter(point[0], point[i], color = \"r\")\n",
    "        else:\n",
    "            plt.scatter(point[0], point[i], color = \"b\")\n",
    "\n",
    "    plt.xlabel('POI')\n",
    "    plt.ylabel(initial_selection_features[i])\n",
    "    plt\n",
    "    plt.show()\n",
    "\n"
   ]
  },
  {
   "cell_type": "markdown",
   "metadata": {},
   "source": [
    "I notice that *total_payments* has clear outlier. I investigate who it is"
   ]
  },
  {
   "cell_type": "code",
   "execution_count": 17,
   "metadata": {
    "collapsed": false
   },
   "outputs": [
    {
     "name": "stdout",
     "output_type": "stream",
     "text": [
      "LAY KENNETH L\n",
      "103559793\n"
     ]
    }
   ],
   "source": [
    "start = 0\n",
    "suspect = \"\"\n",
    "for person in enron_data.keys():\n",
    "    if  enron_data[person]['total_payments']!= \"NaN\" and enron_data[person]['total_payments'] > start:\n",
    "        suspect =  person\n",
    "        start = enron_data[person]['total_payments']\n",
    "\n",
    "print suspect\n",
    "print start\n"
   ]
  },
  {
   "cell_type": "markdown",
   "metadata": {},
   "source": [
    "# Classifier\n",
    "Prepare data for classification and testing. I will test performance using the *tester.py* file provided by Udacity."
   ]
  },
  {
   "cell_type": "code",
   "execution_count": 18,
   "metadata": {
    "collapsed": false,
    "scrolled": true
   },
   "outputs": [
    {
     "name": "stderr",
     "output_type": "stream",
     "text": [
      "C:\\Users\\marcelot\\AppData\\Local\\Continuum\\Anaconda2\\lib\\site-packages\\sklearn\\cross_validation.py:44: DeprecationWarning: This module was deprecated in version 0.18 in favor of the model_selection module into which all the refactored classes and functions are moved. Also note that the interface of the new CV iterators are different from that of this module. This module will be removed in 0.20.\n",
      "  \"This module will be removed in 0.20.\", DeprecationWarning)\n"
     ]
    }
   ],
   "source": [
    "from tester import test_classifier"
   ]
  },
  {
   "cell_type": "markdown",
   "metadata": {},
   "source": [
    "## Create 4 initial classifiers"
   ]
  },
  {
   "cell_type": "code",
   "execution_count": 19,
   "metadata": {
    "collapsed": false
   },
   "outputs": [],
   "source": [
    "from sklearn.naive_bayes import GaussianNB\n",
    "from sklearn.svm import SVC\n",
    "from sklearn.tree import DecisionTreeClassifier\n",
    "from sklearn.ensemble import AdaBoostClassifier\n",
    "\n",
    "\n",
    "# Naive Bayes\n",
    "clf_NB = GaussianNB()\n",
    "\n",
    "# SVM\n",
    "clf_SVM = SVC()\n",
    "\n",
    "# Decision Tree\n",
    "clf_TREE = DecisionTreeClassifier()\n",
    "\n",
    "# AdaBoost:\n",
    "clf_ADA = AdaBoostClassifier()\n",
    "\n"
   ]
  },
  {
   "cell_type": "markdown",
   "metadata": {},
   "source": [
    "## Compare initial performance"
   ]
  },
  {
   "cell_type": "code",
   "execution_count": 20,
   "metadata": {
    "collapsed": false
   },
   "outputs": [
    {
     "name": "stdout",
     "output_type": "stream",
     "text": [
      "GaussianNB(priors=None)\n",
      "\tAccuracy: 0.84707\tPrecision: 0.37105\tRecall: 0.21150\tF1: 0.26943\tF2: 0.23140\n",
      "\tTotal predictions: 15000\tTrue positives:  423\tFalse positives:  717\tFalse negatives: 1577\tTrue negatives: 12283\n",
      "\n",
      "Got a divide by zero when trying out: SVC(C=1.0, cache_size=200, class_weight=None, coef0=0.0,\n",
      "  decision_function_shape=None, degree=3, gamma='auto', kernel='rbf',\n",
      "  max_iter=-1, probability=False, random_state=None, shrinking=True,\n",
      "  tol=0.001, verbose=False)\n",
      "Precision or recall may be undefined due to a lack of true positive predicitons.\n",
      "DecisionTreeClassifier(class_weight=None, criterion='gini', max_depth=None,\n",
      "            max_features=None, max_leaf_nodes=None,\n",
      "            min_impurity_split=1e-07, min_samples_leaf=1,\n",
      "            min_samples_split=2, min_weight_fraction_leaf=0.0,\n",
      "            presort=False, random_state=None, splitter='best')\n",
      "\tAccuracy: 0.81107\tPrecision: 0.30274\tRecall: 0.32000\tF1: 0.31113\tF2: 0.31639\n",
      "\tTotal predictions: 15000\tTrue positives:  640\tFalse positives: 1474\tFalse negatives: 1360\tTrue negatives: 11526\n",
      "\n",
      "AdaBoostClassifier(algorithm='SAMME.R', base_estimator=None,\n",
      "          learning_rate=1.0, n_estimators=50, random_state=None)\n",
      "\tAccuracy: 0.85540\tPrecision: 0.44825\tRecall: 0.36600\tF1: 0.40297\tF2: 0.37994\n",
      "\tTotal predictions: 15000\tTrue positives:  732\tFalse positives:  901\tFalse negatives: 1268\tTrue negatives: 12099\n",
      "\n"
     ]
    }
   ],
   "source": [
    "test_classifier(clf_NB, enron_data, initial_selection_features)\n",
    "test_classifier(clf_SVM, enron_data, initial_selection_features)\n",
    "test_classifier(clf_TREE, enron_data, initial_selection_features)\n",
    "test_classifier(clf_ADA, enron_data, initial_selection_features)\n"
   ]
  },
  {
   "cell_type": "markdown",
   "metadata": {},
   "source": [
    "AdaBoost has the best performance, so we go further only with it."
   ]
  },
  {
   "cell_type": "markdown",
   "metadata": {},
   "source": [
    "Check the feature importances importances on the training set"
   ]
  },
  {
   "cell_type": "code",
   "execution_count": 21,
   "metadata": {
    "collapsed": false
   },
   "outputs": [
    {
     "name": "stdout",
     "output_type": "stream",
     "text": [
      "salary: 0.2\n",
      "total_payments: 0.18\n",
      "exercised_stock_options: 0.12\n",
      "bonus: 0.16\n",
      "restricted_stock: 0.1\n",
      "total_stock_value: 0.04\n",
      "expenses: 0.08\n",
      "other: 0.02\n",
      "share_shared_receipt_with_poi: 0.04\n",
      "share_from_this_person_to_poi: 0.02\n",
      "share_from_poi_to_this_person: 0.04\n"
     ]
    }
   ],
   "source": [
    "clf_ADA.fit(features_train,labels_train)\n",
    "for feature, imp in zip(initial_selection_features[1:],clf_ADA.feature_importances_):\n",
    "    print feature +\": \" + str(round(imp,2))"
   ]
  },
  {
   "cell_type": "markdown",
   "metadata": {},
   "source": [
    "Tune this model, optimizing F1"
   ]
  },
  {
   "cell_type": "code",
   "execution_count": 22,
   "metadata": {
    "collapsed": false
   },
   "outputs": [
    {
     "name": "stderr",
     "output_type": "stream",
     "text": [
      "C:\\Users\\marcelot\\AppData\\Local\\Continuum\\Anaconda2\\lib\\site-packages\\sklearn\\metrics\\classification.py:1113: UndefinedMetricWarning: F-score is ill-defined and being set to 0.0 due to no predicted samples.\n",
      "  'precision', 'predicted', average, warn_for)\n"
     ]
    },
    {
     "data": {
      "text/plain": [
       "GridSearchCV(cv=10, error_score='raise',\n",
       "       estimator=AdaBoostClassifier(algorithm='SAMME.R', base_estimator=None,\n",
       "          learning_rate=1.0, n_estimators=50, random_state=None),\n",
       "       fit_params={}, iid=True, n_jobs=1,\n",
       "       param_grid={'n_estimators': [1, 5, 8, 10, 12, 14, 15, 16, 50, 100, 1000, 2000], 'learning_rate': [0.1, 0.2, 0.3, 0.5, 0.7, 0.9, 1, 2, 3, 5, 10]},\n",
       "       pre_dispatch='2*n_jobs', refit=True, return_train_score=True,\n",
       "       scoring='f1', verbose=0)"
      ]
     },
     "execution_count": 22,
     "metadata": {},
     "output_type": "execute_result"
    }
   ],
   "source": [
    "from sklearn.model_selection import GridSearchCV\n",
    "parameters = {'learning_rate':[0.1, 0.2, 0.3, 0.5, 0.7, 0.9, 1, 2,3, 5, 10],'n_estimators':[1,5,8,10,12, 14, 15, 16,50,100,1000, 2000] }\n",
    "clf_ADA = AdaBoostClassifier()\n",
    "clf = GridSearchCV(clf_ADA, parameters, scoring = 'f1', cv = 10 )\n",
    "clf.fit(features, labels)"
   ]
  },
  {
   "cell_type": "code",
   "execution_count": 23,
   "metadata": {
    "collapsed": false
   },
   "outputs": [
    {
     "name": "stdout",
     "output_type": "stream",
     "text": [
      "{'n_estimators': 15, 'learning_rate': 0.9}\n",
      "0.477855477855\n"
     ]
    }
   ],
   "source": [
    "print clf.best_params_\n",
    "print clf.best_score_ "
   ]
  },
  {
   "cell_type": "markdown",
   "metadata": {},
   "source": [
    "Double check performance of the best model, and obtain the other metrics:"
   ]
  },
  {
   "cell_type": "code",
   "execution_count": 24,
   "metadata": {
    "collapsed": false
   },
   "outputs": [
    {
     "name": "stdout",
     "output_type": "stream",
     "text": [
      "AdaBoostClassifier(algorithm='SAMME.R', base_estimator=None,\n",
      "          learning_rate=0.9, n_estimators=15, random_state=None)\n",
      "\tAccuracy: 0.87120\tPrecision: 0.52313\tRecall: 0.38450\tF1: 0.44323\tF2: 0.40602\n",
      "\tTotal predictions: 15000\tTrue positives:  769\tFalse positives:  701\tFalse negatives: 1231\tTrue negatives: 12299\n",
      "\n"
     ]
    }
   ],
   "source": [
    "lr = 0.9\n",
    "n_est = 15\n",
    "clf_ADA = AdaBoostClassifier(learning_rate = lr, n_estimators = n_est)\n",
    "test_classifier(clf_ADA, enron_data, initial_selection_features)"
   ]
  },
  {
   "cell_type": "markdown",
   "metadata": {},
   "source": [
    "Check the feature importances importances on the training set"
   ]
  },
  {
   "cell_type": "code",
   "execution_count": 25,
   "metadata": {
    "collapsed": false
   },
   "outputs": [
    {
     "name": "stdout",
     "output_type": "stream",
     "text": [
      "salary: 0.13\n",
      "total_payments: 0.2\n",
      "exercised_stock_options: 0.07\n",
      "bonus: 0.27\n",
      "restricted_stock: 0.13\n",
      "total_stock_value: 0.0\n",
      "expenses: 0.07\n",
      "other: 0.07\n",
      "share_shared_receipt_with_poi: 0.07\n",
      "share_from_this_person_to_poi: 0.0\n",
      "share_from_poi_to_this_person: 0.0\n"
     ]
    }
   ],
   "source": [
    "clf_ADA.fit(features_train,labels_train)\n",
    "for feature, imp in zip(initial_selection_features[1:],clf_ADA.feature_importances_):\n",
    "    print feature +\": \" + str(round(imp,2))"
   ]
  },
  {
   "cell_type": "code",
   "execution_count": 26,
   "metadata": {
    "collapsed": true
   },
   "outputs": [],
   "source": [
    "### Check sub-set of features"
   ]
  },
  {
   "cell_type": "markdown",
   "metadata": {},
   "source": [
    "Let's see how the performance compares if we drop the features with 0 importance:"
   ]
  },
  {
   "cell_type": "code",
   "execution_count": 27,
   "metadata": {
    "collapsed": true
   },
   "outputs": [],
   "source": [
    "second_selection_features = initial_selection_features"
   ]
  },
  {
   "cell_type": "code",
   "execution_count": 28,
   "metadata": {
    "collapsed": true
   },
   "outputs": [],
   "source": [
    "second_selection_features.remove('share_from_this_person_to_poi')\n",
    "second_selection_features.remove('share_from_poi_to_this_person')\n",
    "second_selection_features.remove('total_stock_value')"
   ]
  },
  {
   "cell_type": "code",
   "execution_count": 29,
   "metadata": {
    "collapsed": false
   },
   "outputs": [
    {
     "name": "stdout",
     "output_type": "stream",
     "text": [
      "['poi', 'salary', 'total_payments', 'exercised_stock_options', 'bonus', 'restricted_stock', 'expenses', 'other', 'share_shared_receipt_with_poi']\n",
      "\n",
      " Numbers of features: 9\n"
     ]
    }
   ],
   "source": [
    "print  second_selection_features\n",
    "print \"\\n Numbers of features: \" + str(len(second_selection_features))"
   ]
  },
  {
   "cell_type": "markdown",
   "metadata": {},
   "source": [
    "Re-create relevant variables"
   ]
  },
  {
   "cell_type": "code",
   "execution_count": 30,
   "metadata": {
    "collapsed": true
   },
   "outputs": [],
   "source": [
    "data = featureFormat(enron_data, second_selection_features, sort_keys = True)\n",
    "labels, features = targetFeatureSplit(data)\n",
    "\n",
    "features_train, features_test, labels_train, labels_test = \\\n",
    "    train_test_split(features, labels, test_size=0.3, random_state=42)"
   ]
  },
  {
   "cell_type": "markdown",
   "metadata": {},
   "source": [
    "and test performance"
   ]
  },
  {
   "cell_type": "code",
   "execution_count": 31,
   "metadata": {
    "collapsed": false
   },
   "outputs": [
    {
     "name": "stdout",
     "output_type": "stream",
     "text": [
      "AdaBoostClassifier(algorithm='SAMME.R', base_estimator=None,\n",
      "          learning_rate=0.9, n_estimators=15, random_state=None)\n",
      "\tAccuracy: 0.86827\tPrecision: 0.50797\tRecall: 0.38250\tF1: 0.43639\tF2: 0.40238\n",
      "\tTotal predictions: 15000\tTrue positives:  765\tFalse positives:  741\tFalse negatives: 1235\tTrue negatives: 12259\n",
      "\n"
     ]
    }
   ],
   "source": [
    "test_classifier(clf_ADA, enron_data, second_selection_features)"
   ]
  },
  {
   "cell_type": "markdown",
   "metadata": {},
   "source": [
    "The performance is noticeable reduced, particularly the precision. Therefore we stop this investigation and stick with the *initial_selection_features* list"
   ]
  },
  {
   "cell_type": "markdown",
   "metadata": {},
   "source": [
    "# Alternative Feature Selection"
   ]
  },
  {
   "cell_type": "markdown",
   "metadata": {},
   "source": [
    "In this case I will start with the full list of features including the created festures, and use recursive feature elimination (RFE) to select the 11 best features from the full list and compare performance the performance against my manually selected features."
   ]
  },
  {
   "cell_type": "code",
   "execution_count": 32,
   "metadata": {
    "collapsed": true
   },
   "outputs": [],
   "source": [
    "from sklearn.feature_selection import RFE"
   ]
  },
  {
   "cell_type": "code",
   "execution_count": 33,
   "metadata": {
    "collapsed": true
   },
   "outputs": [],
   "source": [
    "data = featureFormat(enron_data, all_features, sort_keys = True)\n",
    "labels, features = targetFeatureSplit(data)"
   ]
  },
  {
   "cell_type": "code",
   "execution_count": 34,
   "metadata": {
    "collapsed": true
   },
   "outputs": [],
   "source": [
    "rfe = RFE(clf_ADA,11)\n",
    "selector = rfe.fit(features,labels)"
   ]
  },
  {
   "cell_type": "code",
   "execution_count": 35,
   "metadata": {
    "collapsed": false
   },
   "outputs": [
    {
     "name": "stdout",
     "output_type": "stream",
     "text": [
      "salary (12)\n",
      "to_messages (11)\n",
      "deferral_payments (10)\n",
      "total_payments (1)\n",
      "exercised_stock_options (1)\n",
      "bonus (6)\n",
      "restricted_stock (1)\n",
      "shared_receipt_with_poi (1)\n",
      "restricted_stock_deferred (5)\n",
      "total_stock_value (4)\n",
      "expenses (1)\n",
      "loan_advances (8)\n",
      "from_messages (9)\n",
      "other (1)\n",
      "from_this_person_to_poi (3)\n",
      "director_fees (2)\n",
      "deferred_income (1)\n",
      "long_term_incentive (1)\n",
      "from_poi_to_this_person (1)\n",
      "share_shared_receipt_with_poi (1)\n",
      "share_from_this_person_to_poi (1)\n",
      "share_from_poi_to_this_person (7)\n"
     ]
    }
   ],
   "source": [
    "for feature, rank in zip(all_features[1:], selector.ranking_ ):\n",
    "    print feature +\" (\" + str(rank) +\")\""
   ]
  },
  {
   "cell_type": "code",
   "execution_count": 36,
   "metadata": {
    "collapsed": true
   },
   "outputs": [],
   "source": [
    "alternative_selection_features = ['poi']\n",
    "for feature, rank in zip(all_features[1:], selector.ranking_ ):\n",
    "    if rank == 1:\n",
    "        alternative_selection_features.append(feature)"
   ]
  },
  {
   "cell_type": "code",
   "execution_count": 37,
   "metadata": {
    "collapsed": false
   },
   "outputs": [
    {
     "name": "stdout",
     "output_type": "stream",
     "text": [
      "['poi', 'total_payments', 'exercised_stock_options', 'restricted_stock', 'shared_receipt_with_poi', 'expenses', 'other', 'deferred_income', 'long_term_incentive', 'from_poi_to_this_person', 'share_shared_receipt_with_poi', 'share_from_this_person_to_poi']\n",
      "\n",
      " Numbers of features: 12\n"
     ]
    }
   ],
   "source": [
    "print  alternative_selection_features\n",
    "print \"\\n Numbers of features: \" + str(len(alternative_selection_features))"
   ]
  },
  {
   "cell_type": "markdown",
   "metadata": {},
   "source": [
    "Re-create relevant variables"
   ]
  },
  {
   "cell_type": "code",
   "execution_count": 38,
   "metadata": {
    "collapsed": true
   },
   "outputs": [],
   "source": [
    "data = featureFormat(enron_data, alternative_selection_features, sort_keys = True)\n",
    "labels, features = targetFeatureSplit(data)\n",
    "\n",
    "features_train, features_test, labels_train, labels_test = \\\n",
    "    train_test_split(features, labels, test_size=0.3, random_state=42)"
   ]
  },
  {
   "cell_type": "markdown",
   "metadata": {},
   "source": [
    "and test performance"
   ]
  },
  {
   "cell_type": "code",
   "execution_count": 39,
   "metadata": {
    "collapsed": false
   },
   "outputs": [
    {
     "name": "stdout",
     "output_type": "stream",
     "text": [
      "AdaBoostClassifier(algorithm='SAMME.R', base_estimator=None,\n",
      "          learning_rate=0.9, n_estimators=15, random_state=None)\n",
      "\tAccuracy: 0.87600\tPrecision: 0.54755\tRecall: 0.40300\tF1: 0.46429\tF2: 0.42546\n",
      "\tTotal predictions: 15000\tTrue positives:  806\tFalse positives:  666\tFalse negatives: 1194\tTrue negatives: 12334\n",
      "\n"
     ]
    }
   ],
   "source": [
    "test_classifier(clf_ADA, enron_data, alternative_selection_features)"
   ]
  },
  {
   "cell_type": "markdown",
   "metadata": {},
   "source": [
    "We notice an important increase in performance, therefore we proceed in this path. Let's check the importance of features."
   ]
  },
  {
   "cell_type": "code",
   "execution_count": 40,
   "metadata": {
    "collapsed": false
   },
   "outputs": [
    {
     "name": "stdout",
     "output_type": "stream",
     "text": [
      "total_payments: 0.2\n",
      "exercised_stock_options: 0.2\n",
      "restricted_stock: 0.2\n",
      "shared_receipt_with_poi: 0.07\n",
      "expenses: 0.13\n",
      "other: 0.07\n",
      "deferred_income: 0.0\n",
      "long_term_incentive: 0.0\n",
      "from_poi_to_this_person: 0.07\n",
      "share_shared_receipt_with_poi: 0.07\n",
      "share_from_this_person_to_poi: 0.0\n"
     ]
    }
   ],
   "source": [
    "clf_ADA.fit(features_train,labels_train)\n",
    "for feature, imp in zip(alternative_selection_features[1:],clf_ADA.feature_importances_):\n",
    "    print feature +\": \" + str(round(imp,2))"
   ]
  },
  {
   "cell_type": "markdown",
   "metadata": {},
   "source": [
    "Since there are 3 feature with close to 0 importance, we investigate if we can drop features."
   ]
  },
  {
   "cell_type": "code",
   "execution_count": 41,
   "metadata": {
    "collapsed": true
   },
   "outputs": [],
   "source": [
    "data = featureFormat(enron_data, all_features, sort_keys = True)\n",
    "labels, features = targetFeatureSplit(data)\n",
    "\n",
    "rfe = RFE(clf_ADA,8)\n",
    "selector = rfe.fit(features,labels)"
   ]
  },
  {
   "cell_type": "code",
   "execution_count": 42,
   "metadata": {
    "collapsed": false
   },
   "outputs": [
    {
     "name": "stdout",
     "output_type": "stream",
     "text": [
      "salary (15)\n",
      "to_messages (14)\n",
      "deferral_payments (13)\n",
      "total_payments (2)\n",
      "exercised_stock_options (1)\n",
      "bonus (9)\n",
      "restricted_stock (1)\n",
      "shared_receipt_with_poi (1)\n",
      "restricted_stock_deferred (8)\n",
      "total_stock_value (7)\n",
      "expenses (1)\n",
      "loan_advances (11)\n",
      "from_messages (12)\n",
      "other (1)\n",
      "from_this_person_to_poi (6)\n",
      "director_fees (5)\n",
      "deferred_income (4)\n",
      "long_term_incentive (3)\n",
      "from_poi_to_this_person (1)\n",
      "share_shared_receipt_with_poi (1)\n",
      "share_from_this_person_to_poi (1)\n",
      "share_from_poi_to_this_person (10)\n"
     ]
    }
   ],
   "source": [
    "for feature, rank in zip(all_features[1:], selector.ranking_ ):\n",
    "    print feature +\" (\" + str(rank) +\")\""
   ]
  },
  {
   "cell_type": "code",
   "execution_count": 43,
   "metadata": {
    "collapsed": true
   },
   "outputs": [],
   "source": [
    "second_alternative_selection_features = ['poi']\n",
    "for feature, rank in zip(all_features[1:], selector.ranking_ ):\n",
    "    if rank == 1:\n",
    "        second_alternative_selection_features.append(feature)"
   ]
  },
  {
   "cell_type": "code",
   "execution_count": 44,
   "metadata": {
    "collapsed": false
   },
   "outputs": [
    {
     "name": "stdout",
     "output_type": "stream",
     "text": [
      "['poi', 'exercised_stock_options', 'restricted_stock', 'shared_receipt_with_poi', 'expenses', 'other', 'from_poi_to_this_person', 'share_shared_receipt_with_poi', 'share_from_this_person_to_poi']\n",
      "\n",
      " Numbers of features: 9\n"
     ]
    }
   ],
   "source": [
    "print  second_alternative_selection_features\n",
    "print \"\\n Numbers of features: \" + str(len(second_alternative_selection_features))"
   ]
  },
  {
   "cell_type": "markdown",
   "metadata": {},
   "source": [
    "Re-create relevant variables"
   ]
  },
  {
   "cell_type": "code",
   "execution_count": 45,
   "metadata": {
    "collapsed": true
   },
   "outputs": [],
   "source": [
    "data = featureFormat(enron_data, second_alternative_selection_features, sort_keys = True)\n",
    "labels, features = targetFeatureSplit(data)\n",
    "\n",
    "features_train, features_test, labels_train, labels_test = \\\n",
    "    train_test_split(features, labels, test_size=0.3, random_state=42)\n"
   ]
  },
  {
   "cell_type": "markdown",
   "metadata": {},
   "source": [
    "and test performance"
   ]
  },
  {
   "cell_type": "code",
   "execution_count": 46,
   "metadata": {
    "collapsed": false
   },
   "outputs": [
    {
     "name": "stdout",
     "output_type": "stream",
     "text": [
      "AdaBoostClassifier(algorithm='SAMME.R', base_estimator=None,\n",
      "          learning_rate=0.9, n_estimators=15, random_state=None)\n",
      "\tAccuracy: 0.87913\tPrecision: 0.56571\tRecall: 0.40250\tF1: 0.47035\tF2: 0.42715\n",
      "\tTotal predictions: 15000\tTrue positives:  805\tFalse positives:  618\tFalse negatives: 1195\tTrue negatives: 12382\n",
      "\n"
     ]
    }
   ],
   "source": [
    "test_classifier(clf_ADA, enron_data, second_alternative_selection_features)"
   ]
  },
  {
   "cell_type": "markdown",
   "metadata": {},
   "source": [
    "Performance is again improved, therefore we can investigate further. Let's see the importance again."
   ]
  },
  {
   "cell_type": "code",
   "execution_count": 47,
   "metadata": {
    "collapsed": false
   },
   "outputs": [
    {
     "name": "stdout",
     "output_type": "stream",
     "text": [
      "exercised_stock_options: 0.2\n",
      "restricted_stock: 0.13\n",
      "shared_receipt_with_poi: 0.07\n",
      "expenses: 0.13\n",
      "other: 0.13\n",
      "from_poi_to_this_person: 0.13\n",
      "share_shared_receipt_with_poi: 0.07\n",
      "share_from_this_person_to_poi: 0.13\n"
     ]
    }
   ],
   "source": [
    "clf_ADA.fit(features_train,labels_train)\n",
    "for feature, imp in zip(second_alternative_selection_features[1:],clf_ADA.feature_importances_):\n",
    "    print feature +\": \" + str(round(imp,2))"
   ]
  },
  {
   "cell_type": "markdown",
   "metadata": {},
   "source": [
    "There is one feature with close to 0 importance. Let's see what happens if we drop an additional feature."
   ]
  },
  {
   "cell_type": "code",
   "execution_count": 48,
   "metadata": {
    "collapsed": true
   },
   "outputs": [],
   "source": [
    "data = featureFormat(enron_data, all_features, sort_keys = True)\n",
    "labels, features = targetFeatureSplit(data)\n",
    "\n",
    "rfe = RFE(clf_ADA,7)\n",
    "selector = rfe.fit(features,labels)"
   ]
  },
  {
   "cell_type": "code",
   "execution_count": 49,
   "metadata": {
    "collapsed": false
   },
   "outputs": [
    {
     "name": "stdout",
     "output_type": "stream",
     "text": [
      "salary (16)\n",
      "to_messages (15)\n",
      "deferral_payments (14)\n",
      "total_payments (3)\n",
      "exercised_stock_options (1)\n",
      "bonus (10)\n",
      "restricted_stock (1)\n",
      "shared_receipt_with_poi (1)\n",
      "restricted_stock_deferred (9)\n",
      "total_stock_value (8)\n",
      "expenses (2)\n",
      "loan_advances (12)\n",
      "from_messages (13)\n",
      "other (1)\n",
      "from_this_person_to_poi (7)\n",
      "director_fees (6)\n",
      "deferred_income (5)\n",
      "long_term_incentive (4)\n",
      "from_poi_to_this_person (1)\n",
      "share_shared_receipt_with_poi (1)\n",
      "share_from_this_person_to_poi (1)\n",
      "share_from_poi_to_this_person (11)\n"
     ]
    }
   ],
   "source": [
    "for feature, rank in zip(all_features[1:], selector.ranking_ ):\n",
    "    print feature +\" (\" + str(rank) +\")\""
   ]
  },
  {
   "cell_type": "code",
   "execution_count": 50,
   "metadata": {
    "collapsed": true
   },
   "outputs": [],
   "source": [
    "third_alternative_selection_features = ['poi']\n",
    "for feature, rank in zip(all_features[1:], selector.ranking_ ):\n",
    "    if rank == 1:\n",
    "        third_alternative_selection_features.append(feature)"
   ]
  },
  {
   "cell_type": "code",
   "execution_count": 51,
   "metadata": {
    "collapsed": false
   },
   "outputs": [
    {
     "name": "stdout",
     "output_type": "stream",
     "text": [
      "['poi', 'exercised_stock_options', 'restricted_stock', 'shared_receipt_with_poi', 'other', 'from_poi_to_this_person', 'share_shared_receipt_with_poi', 'share_from_this_person_to_poi']\n",
      "\n",
      " Numbers of features: 8\n"
     ]
    }
   ],
   "source": [
    "print  third_alternative_selection_features\n",
    "print \"\\n Numbers of features: \" + str(len(third_alternative_selection_features))"
   ]
  },
  {
   "cell_type": "markdown",
   "metadata": {},
   "source": [
    "Re-create relevant variables"
   ]
  },
  {
   "cell_type": "code",
   "execution_count": 52,
   "metadata": {
    "collapsed": true
   },
   "outputs": [],
   "source": [
    "data = featureFormat(enron_data, third_alternative_selection_features, sort_keys = True)\n",
    "labels, features = targetFeatureSplit(data)\n",
    "\n",
    "features_train, features_test, labels_train, labels_test = \\\n",
    "    train_test_split(features, labels, test_size=0.3, random_state=42)"
   ]
  },
  {
   "cell_type": "markdown",
   "metadata": {},
   "source": [
    "and test performance"
   ]
  },
  {
   "cell_type": "code",
   "execution_count": 53,
   "metadata": {
    "collapsed": false
   },
   "outputs": [
    {
     "name": "stdout",
     "output_type": "stream",
     "text": [
      "AdaBoostClassifier(algorithm='SAMME.R', base_estimator=None,\n",
      "          learning_rate=0.9, n_estimators=15, random_state=None)\n",
      "\tAccuracy: 0.84443\tPrecision: 0.43921\tRecall: 0.32150\tF1: 0.37125\tF2: 0.33971\n",
      "\tTotal predictions: 14000\tTrue positives:  643\tFalse positives:  821\tFalse negatives: 1357\tTrue negatives: 11179\n",
      "\n"
     ]
    }
   ],
   "source": [
    "test_classifier(clf_ADA, enron_data, third_alternative_selection_features)"
   ]
  },
  {
   "cell_type": "markdown",
   "metadata": {},
   "source": [
    "Performance is reduced. Therefore we stay with the *second_alternative_selection_features*"
   ]
  },
  {
   "cell_type": "markdown",
   "metadata": {},
   "source": [
    "Final thing we can do is to manually remove the single feature with near 0 importance and compare performance."
   ]
  },
  {
   "cell_type": "code",
   "execution_count": 54,
   "metadata": {
    "collapsed": true
   },
   "outputs": [],
   "source": [
    "forth_alternative_selection_features = second_alternative_selection_features\n",
    "forth_alternative_selection_features.remove('from_poi_to_this_person')"
   ]
  },
  {
   "cell_type": "code",
   "execution_count": 55,
   "metadata": {
    "collapsed": false
   },
   "outputs": [
    {
     "name": "stdout",
     "output_type": "stream",
     "text": [
      "['poi', 'exercised_stock_options', 'restricted_stock', 'shared_receipt_with_poi', 'expenses', 'other', 'share_shared_receipt_with_poi', 'share_from_this_person_to_poi']\n",
      "\n",
      " Numbers of features: 8\n"
     ]
    }
   ],
   "source": [
    "print  forth_alternative_selection_features\n",
    "print \"\\n Numbers of features: \" + str(len(forth_alternative_selection_features))"
   ]
  },
  {
   "cell_type": "markdown",
   "metadata": {},
   "source": [
    "Re-create relevant variables"
   ]
  },
  {
   "cell_type": "code",
   "execution_count": 56,
   "metadata": {
    "collapsed": true
   },
   "outputs": [],
   "source": [
    "data = featureFormat(enron_data, forth_alternative_selection_features, sort_keys = True)\n",
    "labels, features = targetFeatureSplit(data)\n",
    "\n",
    "features_train, features_test, labels_train, labels_test = \\\n",
    "    train_test_split(features, labels, test_size=0.3, random_state=42)"
   ]
  },
  {
   "cell_type": "markdown",
   "metadata": {},
   "source": [
    "and test performance"
   ]
  },
  {
   "cell_type": "code",
   "execution_count": 57,
   "metadata": {
    "collapsed": false
   },
   "outputs": [
    {
     "name": "stdout",
     "output_type": "stream",
     "text": [
      "AdaBoostClassifier(algorithm='SAMME.R', base_estimator=None,\n",
      "          learning_rate=0.9, n_estimators=15, random_state=None)\n",
      "\tAccuracy: 0.88773\tPrecision: 0.61400\tRecall: 0.42550\tF1: 0.50266\tF2: 0.45333\n",
      "\tTotal predictions: 15000\tTrue positives:  851\tFalse positives:  535\tFalse negatives: 1149\tTrue negatives: 12465\n",
      "\n"
     ]
    }
   ],
   "source": [
    "test_classifier(clf_ADA, enron_data, forth_alternative_selection_features)"
   ]
  },
  {
   "cell_type": "markdown",
   "metadata": {},
   "source": [
    "This clearly improved performance. Let's see the importance:"
   ]
  },
  {
   "cell_type": "code",
   "execution_count": 58,
   "metadata": {
    "collapsed": false
   },
   "outputs": [
    {
     "name": "stdout",
     "output_type": "stream",
     "text": [
      "exercised_stock_options: 0.13\n",
      "restricted_stock: 0.07\n",
      "shared_receipt_with_poi: 0.07\n",
      "expenses: 0.2\n",
      "other: 0.13\n",
      "share_shared_receipt_with_poi: 0.2\n",
      "share_from_this_person_to_poi: 0.2\n"
     ]
    }
   ],
   "source": [
    "clf_ADA.fit(features_train,labels_train)\n",
    "for feature, imp in zip(forth_alternative_selection_features[1:],clf_ADA.feature_importances_):\n",
    "    print feature +\": \" + str(round(imp,2))"
   ]
  },
  {
   "cell_type": "markdown",
   "metadata": {},
   "source": [
    "## Best option"
   ]
  },
  {
   "cell_type": "code",
   "execution_count": 59,
   "metadata": {
    "collapsed": false
   },
   "outputs": [
    {
     "name": "stdout",
     "output_type": "stream",
     "text": [
      "['poi', 'exercised_stock_options', 'restricted_stock', 'shared_receipt_with_poi', 'expenses', 'other', 'share_shared_receipt_with_poi', 'share_from_this_person_to_poi']\n",
      "\n",
      " Numbers of features: 8\n"
     ]
    }
   ],
   "source": [
    "print  forth_alternative_selection_features\n",
    "print \"\\n Numbers of features: \" + str(len(forth_alternative_selection_features))"
   ]
  },
  {
   "cell_type": "markdown",
   "metadata": {},
   "source": [
    "### Double Check tune"
   ]
  },
  {
   "cell_type": "code",
   "execution_count": 60,
   "metadata": {
    "collapsed": true
   },
   "outputs": [],
   "source": [
    "data = featureFormat(enron_data, forth_alternative_selection_features, sort_keys = True)\n",
    "labels, features = targetFeatureSplit(data)"
   ]
  },
  {
   "cell_type": "code",
   "execution_count": 61,
   "metadata": {
    "collapsed": false
   },
   "outputs": [
    {
     "data": {
      "text/plain": [
       "GridSearchCV(cv=10, error_score='raise',\n",
       "       estimator=AdaBoostClassifier(algorithm='SAMME.R', base_estimator=None,\n",
       "          learning_rate=1.0, n_estimators=50, random_state=None),\n",
       "       fit_params={}, iid=True, n_jobs=1,\n",
       "       param_grid={'n_estimators': [1, 5, 8, 10, 12, 14, 15, 16, 50, 100, 1000, 2000], 'learning_rate': [0.1, 0.2, 0.3, 0.5, 0.7, 0.9, 1, 2, 3, 5, 10]},\n",
       "       pre_dispatch='2*n_jobs', refit=True, return_train_score=True,\n",
       "       scoring='f1', verbose=0)"
      ]
     },
     "execution_count": 61,
     "metadata": {},
     "output_type": "execute_result"
    }
   ],
   "source": [
    "clf_ADA = AdaBoostClassifier()\n",
    "clf = GridSearchCV(clf_ADA, parameters, scoring = 'f1', cv = 10 )\n",
    "clf.fit(features, labels)"
   ]
  },
  {
   "cell_type": "code",
   "execution_count": 62,
   "metadata": {
    "collapsed": false
   },
   "outputs": [
    {
     "name": "stdout",
     "output_type": "stream",
     "text": [
      "{'n_estimators': 8, 'learning_rate': 0.9}\n",
      "0.497635933806\n"
     ]
    }
   ],
   "source": [
    "print clf.best_params_\n",
    "print clf.best_score_ "
   ]
  },
  {
   "cell_type": "code",
   "execution_count": 63,
   "metadata": {
    "collapsed": false
   },
   "outputs": [
    {
     "name": "stdout",
     "output_type": "stream",
     "text": [
      "AdaBoostClassifier(algorithm='SAMME.R', base_estimator=None,\n",
      "          learning_rate=0.9, n_estimators=8, random_state=None)\n",
      "\tAccuracy: 0.88600\tPrecision: 0.61258\tRecall: 0.39450\tF1: 0.47993\tF2: 0.42474\n",
      "\tTotal predictions: 15000\tTrue positives:  789\tFalse positives:  499\tFalse negatives: 1211\tTrue negatives: 12501\n",
      "\n"
     ]
    }
   ],
   "source": [
    "lr = 0.9\n",
    "n_est = 8\n",
    "clf_ADA = AdaBoostClassifier(learning_rate = lr, n_estimators = n_est)\n",
    "test_classifier(clf_ADA, enron_data, second_alternative_selection_features)"
   ]
  },
  {
   "cell_type": "code",
   "execution_count": 64,
   "metadata": {
    "collapsed": false
   },
   "outputs": [
    {
     "name": "stdout",
     "output_type": "stream",
     "text": [
      "AdaBoostClassifier(algorithm='SAMME.R', base_estimator=None,\n",
      "          learning_rate=0.9, n_estimators=15, random_state=None)\n",
      "\tAccuracy: 0.88780\tPrecision: 0.61428\tRecall: 0.42600\tF1: 0.50310\tF2: 0.45382\n",
      "\tTotal predictions: 15000\tTrue positives:  852\tFalse positives:  535\tFalse negatives: 1148\tTrue negatives: 12465\n",
      "\n"
     ]
    }
   ],
   "source": [
    "lr = 0.9\n",
    "n_est = 15\n",
    "clf_ADA = AdaBoostClassifier(learning_rate = lr, n_estimators = n_est)\n",
    "test_classifier(clf_ADA, enron_data, second_alternative_selection_features)"
   ]
  },
  {
   "cell_type": "markdown",
   "metadata": {},
   "source": [
    "We see that the best parameters are indeed *learning_rate = 0.9* and *n_estimators = 15*"
   ]
  }
 ],
 "metadata": {
  "anaconda-cloud": {},
  "kernelspec": {
   "display_name": "Python [default]",
   "language": "python",
   "name": "python2"
  },
  "language_info": {
   "codemirror_mode": {
    "name": "ipython",
    "version": 2
   },
   "file_extension": ".py",
   "mimetype": "text/x-python",
   "name": "python",
   "nbconvert_exporter": "python",
   "pygments_lexer": "ipython2",
   "version": "2.7.12"
  }
 },
 "nbformat": 4,
 "nbformat_minor": 1
}
