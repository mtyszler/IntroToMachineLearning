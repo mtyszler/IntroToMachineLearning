{
 "cells": [
  {
   "cell_type": "markdown",
   "metadata": {},
   "source": [
    "# Notes about the Intro to Machine Learning Project\n",
    "[Marcelo Tyszler](mailto:tyszler.jobs@gmail.com)\n",
    "\n",
    "26/Sep/2017\n",
    "\n",
    "In this notebook I summarize my steps and findings towards the Final Project in the Intro to Machine Learning course. This is in the Scope of the Udacity Data Analyst Nanodegree.\n",
    "\n",
    "# Choice of tools\n",
    "\n",
    "For this project I opted for:\n",
    "* Keep basic documentation and notes in the Jupyter Notebook\n",
    "* Save files in Github\n",
    "* Use PyCharm as Python environment\n"
   ]
  },
  {
   "cell_type": "markdown",
   "metadata": {},
   "source": [
    "# Initial Data Exploration\n",
    "Initially I want to read all data and obtain initial summary statistics to get a feel of the full data and spot potential problems.\n",
    "\n",
    "I first load data for all available features. According to the documentation there should be 21 features:\n",
    "\n",
    "**financial features**: \\['salary', 'deferral_payments', 'total_payments', 'loan_advances', 'bonus', 'restricted_stock_deferred', 'deferred_income', 'total_stock_value', 'expenses', 'exercised_stock_options', 'other', 'long_term_incentive', 'restricted_stock', 'director_fees'] (all units are in US dollars)\n",
    "\n",
    "**email features**: \\['to_messages', 'email_address', 'from_poi_to_this_person', 'from_messages', 'from_this_person_to_poi', 'shared_receipt_with_poi'] (units are generally number of emails messages; notable exception is ‘email_address’, which is a text string)\n",
    "\n",
    "**POI label**: \\[‘poi’] (boolean, represented as integer)"
   ]
  },
  {
   "cell_type": "code",
   "execution_count": 1,
   "metadata": {
    "collapsed": false
   },
   "outputs": [],
   "source": [
    "import pickle\n",
    "\n",
    "enron_data = pickle.load(open(\"final_project_dataset.pkl\", \"r\"))"
   ]
  },
  {
   "cell_type": "code",
   "execution_count": 2,
   "metadata": {
    "collapsed": false
   },
   "outputs": [
    {
     "name": "stdout",
     "output_type": "stream",
     "text": [
      "Number of Persons: 146\n",
      "Features per Persons: 21\n"
     ]
    }
   ],
   "source": [
    "print \"Number of Persons: \" + str(len(enron_data))\n",
    "print \"Features per Persons: \" + str(len(enron_data[enron_data.keys()[0]]))"
   ]
  },
  {
   "cell_type": "markdown",
   "metadata": {},
   "source": [
    "Therefore I have 21 features about 146 persons. Let's double check the features."
   ]
  },
  {
   "cell_type": "code",
   "execution_count": 3,
   "metadata": {
    "collapsed": false
   },
   "outputs": [
    {
     "name": "stdout",
     "output_type": "stream",
     "text": [
      "List of Features:\n"
     ]
    },
    {
     "data": {
      "text/plain": [
       "['salary',\n",
       " 'to_messages',\n",
       " 'deferral_payments',\n",
       " 'total_payments',\n",
       " 'exercised_stock_options',\n",
       " 'bonus',\n",
       " 'restricted_stock',\n",
       " 'shared_receipt_with_poi',\n",
       " 'restricted_stock_deferred',\n",
       " 'total_stock_value',\n",
       " 'expenses',\n",
       " 'loan_advances',\n",
       " 'from_messages',\n",
       " 'other',\n",
       " 'from_this_person_to_poi',\n",
       " 'poi',\n",
       " 'director_fees',\n",
       " 'deferred_income',\n",
       " 'long_term_incentive',\n",
       " 'email_address',\n",
       " 'from_poi_to_this_person']"
      ]
     },
     "execution_count": 3,
     "metadata": {},
     "output_type": "execute_result"
    }
   ],
   "source": [
    "print \"List of Features:\"\n",
    "enron_data[enron_data.keys()[0]].keys()"
   ]
  },
  {
   "cell_type": "markdown",
   "metadata": {},
   "source": [
    "This is what I expected according to the documentation"
   ]
  },
  {
   "cell_type": "markdown",
   "metadata": {},
   "source": [
    "Let's double check the list of persons."
   ]
  },
  {
   "cell_type": "code",
   "execution_count": 4,
   "metadata": {
    "collapsed": false
   },
   "outputs": [
    {
     "name": "stdout",
     "output_type": "stream",
     "text": [
      "List of Persons:\n"
     ]
    },
    {
     "data": {
      "text/plain": [
       "['ALLEN PHILLIP K',\n",
       " 'BADUM JAMES P',\n",
       " 'BANNANTINE JAMES M',\n",
       " 'BAXTER JOHN C',\n",
       " 'BAY FRANKLIN R',\n",
       " 'BAZELIDES PHILIP J',\n",
       " 'BECK SALLY W',\n",
       " 'BELDEN TIMOTHY N',\n",
       " 'BELFER ROBERT',\n",
       " 'BERBERIAN DAVID',\n",
       " 'BERGSIEKER RICHARD P',\n",
       " 'BHATNAGAR SANJAY',\n",
       " 'BIBI PHILIPPE A',\n",
       " 'BLACHMAN JEREMY M',\n",
       " 'BLAKE JR. NORMAN P',\n",
       " 'BOWEN JR RAYMOND M',\n",
       " 'BROWN MICHAEL',\n",
       " 'BUCHANAN HAROLD G',\n",
       " 'BUTTS ROBERT H',\n",
       " 'BUY RICHARD B',\n",
       " 'CALGER CHRISTOPHER F',\n",
       " 'CARTER REBECCA C',\n",
       " 'CAUSEY RICHARD A',\n",
       " 'CHAN RONNIE',\n",
       " 'CHRISTODOULOU DIOMEDES',\n",
       " 'CLINE KENNETH W',\n",
       " 'COLWELL WESLEY',\n",
       " 'CORDES WILLIAM R',\n",
       " 'COX DAVID',\n",
       " 'CUMBERLAND MICHAEL S',\n",
       " 'DEFFNER JOSEPH M',\n",
       " 'DELAINEY DAVID W',\n",
       " 'DERRICK JR. JAMES V',\n",
       " 'DETMERING TIMOTHY J',\n",
       " 'DIETRICH JANET R',\n",
       " 'DIMICHELE RICHARD G',\n",
       " 'DODSON KEITH',\n",
       " 'DONAHUE JR JEFFREY M',\n",
       " 'DUNCAN JOHN H',\n",
       " 'DURAN WILLIAM D',\n",
       " 'ECHOLS JOHN B',\n",
       " 'ELLIOTT STEVEN',\n",
       " 'FALLON JAMES B',\n",
       " 'FASTOW ANDREW S',\n",
       " 'FITZGERALD JAY L',\n",
       " 'FOWLER PEGGY',\n",
       " 'FOY JOE',\n",
       " 'FREVERT MARK A',\n",
       " 'FUGH JOHN L',\n",
       " 'GAHN ROBERT S',\n",
       " 'GARLAND C KEVIN',\n",
       " 'GATHMANN WILLIAM D',\n",
       " 'GIBBS DANA R',\n",
       " 'GILLIS JOHN',\n",
       " 'GLISAN JR BEN F',\n",
       " 'GOLD JOSEPH',\n",
       " 'GRAMM WENDY L',\n",
       " 'GRAY RODNEY',\n",
       " 'HAEDICKE MARK E',\n",
       " 'HANNON KEVIN P',\n",
       " 'HAUG DAVID L',\n",
       " 'HAYES ROBERT E',\n",
       " 'HAYSLETT RODERICK J',\n",
       " 'HERMANN ROBERT J',\n",
       " 'HICKERSON GARY J',\n",
       " 'HIRKO JOSEPH',\n",
       " 'HORTON STANLEY C',\n",
       " 'HUGHES JAMES A',\n",
       " 'HUMPHREY GENE E',\n",
       " 'IZZO LAWRENCE L',\n",
       " 'JACKSON CHARLENE R',\n",
       " 'JAEDICKE ROBERT',\n",
       " 'KAMINSKI WINCENTY J',\n",
       " 'KEAN STEVEN J',\n",
       " 'KISHKILL JOSEPH G',\n",
       " 'KITCHEN LOUISE',\n",
       " 'KOENIG MARK E',\n",
       " 'KOPPER MICHAEL J',\n",
       " 'LAVORATO JOHN J',\n",
       " 'LAY KENNETH L',\n",
       " 'LEFF DANIEL P',\n",
       " 'LEMAISTRE CHARLES',\n",
       " 'LEWIS RICHARD',\n",
       " 'LINDHOLM TOD A',\n",
       " 'LOCKHART EUGENE E',\n",
       " 'LOWRY CHARLES P',\n",
       " 'MARTIN AMANDA K',\n",
       " 'MCCARTY DANNY J',\n",
       " 'MCCLELLAN GEORGE',\n",
       " 'MCCONNELL MICHAEL S',\n",
       " 'MCDONALD REBECCA',\n",
       " 'MCMAHON JEFFREY',\n",
       " 'MENDELSOHN JOHN',\n",
       " 'METTS MARK',\n",
       " 'MEYER JEROME J',\n",
       " 'MEYER ROCKFORD G',\n",
       " 'MORAN MICHAEL P',\n",
       " 'MORDAUNT KRISTINA M',\n",
       " 'MULLER MARK S',\n",
       " 'MURRAY JULIA H',\n",
       " 'NOLES JAMES L',\n",
       " 'OLSON CINDY K',\n",
       " 'OVERDYKE JR JERE C',\n",
       " 'PAI LOU L',\n",
       " 'PEREIRA PAULO V. FERRAZ',\n",
       " 'PICKERING MARK R',\n",
       " 'PIPER GREGORY F',\n",
       " 'PIRO JIM',\n",
       " 'POWERS WILLIAM',\n",
       " 'PRENTICE JAMES',\n",
       " 'REDMOND BRIAN L',\n",
       " 'REYNOLDS LAWRENCE',\n",
       " 'RICE KENNETH D',\n",
       " 'RIEKER PAULA H',\n",
       " 'SAVAGE FRANK',\n",
       " 'SCRIMSHAW MATTHEW',\n",
       " 'SHANKMAN JEFFREY A',\n",
       " 'SHAPIRO RICHARD S',\n",
       " 'SHARP VICTORIA T',\n",
       " 'SHELBY REX',\n",
       " 'SHERRICK JEFFREY B',\n",
       " 'SHERRIFF JOHN R',\n",
       " 'SKILLING JEFFREY K',\n",
       " 'STABLER FRANK',\n",
       " 'SULLIVAN-SHAKLOVITZ COLLEEN',\n",
       " 'SUNDE MARTIN',\n",
       " 'TAYLOR MITCHELL S',\n",
       " 'THE TRAVEL AGENCY IN THE PARK',\n",
       " 'THORN TERENCE H',\n",
       " 'TILNEY ELIZABETH A',\n",
       " 'TOTAL',\n",
       " 'UMANOFF ADAM S',\n",
       " 'URQUHART JOHN A',\n",
       " 'WAKEHAM JOHN',\n",
       " 'WALLS JR ROBERT H',\n",
       " 'WALTERS GARETH W',\n",
       " 'WASAFF GEORGE',\n",
       " 'WESTFAHL RICHARD K',\n",
       " 'WHALEY DAVID A',\n",
       " 'WHALLEY LAWRENCE G',\n",
       " 'WHITE JR THOMAS E',\n",
       " 'WINOKUR JR. HERBERT S',\n",
       " 'WODRASKA JOHN',\n",
       " 'WROBEL BRUCE',\n",
       " 'YEAGER F SCOTT',\n",
       " 'YEAP SOON']"
      ]
     },
     "execution_count": 4,
     "metadata": {},
     "output_type": "execute_result"
    }
   ],
   "source": [
    "print \"List of Persons:\"\n",
    "sorted(enron_data.keys())"
   ]
  },
  {
   "cell_type": "markdown",
   "metadata": {},
   "source": [
    "I spot 2 instances that need to be removed:  *TOTAL* and *THE TRAVEL AGENCY IN THE PARK*."
   ]
  },
  {
   "cell_type": "code",
   "execution_count": 5,
   "metadata": {
    "collapsed": false
   },
   "outputs": [
    {
     "data": {
      "text/plain": [
       "{'bonus': 'NaN',\n",
       " 'deferral_payments': 'NaN',\n",
       " 'deferred_income': 'NaN',\n",
       " 'director_fees': 'NaN',\n",
       " 'email_address': 'NaN',\n",
       " 'exercised_stock_options': 'NaN',\n",
       " 'expenses': 'NaN',\n",
       " 'from_messages': 'NaN',\n",
       " 'from_poi_to_this_person': 'NaN',\n",
       " 'from_this_person_to_poi': 'NaN',\n",
       " 'loan_advances': 'NaN',\n",
       " 'long_term_incentive': 'NaN',\n",
       " 'other': 362096,\n",
       " 'poi': False,\n",
       " 'restricted_stock': 'NaN',\n",
       " 'restricted_stock_deferred': 'NaN',\n",
       " 'salary': 'NaN',\n",
       " 'shared_receipt_with_poi': 'NaN',\n",
       " 'to_messages': 'NaN',\n",
       " 'total_payments': 362096,\n",
       " 'total_stock_value': 'NaN'}"
      ]
     },
     "execution_count": 5,
     "metadata": {},
     "output_type": "execute_result"
    }
   ],
   "source": [
    "enron_data.pop('TOTAL',0)\n",
    "enron_data.pop('THE TRAVEL AGENCY IN THE PARK',0)"
   ]
  },
  {
   "cell_type": "markdown",
   "metadata": {},
   "source": [
    "Let's see how many POIs and non-POIs are in the dataset"
   ]
  },
  {
   "cell_type": "code",
   "execution_count": 6,
   "metadata": {
    "collapsed": false,
    "scrolled": true
   },
   "outputs": [
    {
     "name": "stdout",
     "output_type": "stream",
     "text": [
      "HANNON KEVIN P\n",
      "COLWELL WESLEY\n",
      "RIEKER PAULA H\n",
      "KOPPER MICHAEL J\n",
      "SHELBY REX\n",
      "DELAINEY DAVID W\n",
      "LAY KENNETH L\n",
      "BOWEN JR RAYMOND M\n",
      "BELDEN TIMOTHY N\n",
      "FASTOW ANDREW S\n",
      "CALGER CHRISTOPHER F\n",
      "RICE KENNETH D\n",
      "SKILLING JEFFREY K\n",
      "YEAGER F SCOTT\n",
      "HIRKO JOSEPH\n",
      "KOENIG MARK E\n",
      "CAUSEY RICHARD A\n",
      "GLISAN JR BEN F\n",
      "\n",
      "\n",
      "POIs:18\n",
      "non-POIs:126\n",
      "Total:144\n"
     ]
    }
   ],
   "source": [
    "POI = 0\n",
    "non_POI = 0\n",
    "for person in enron_data.keys():\n",
    "    if enron_data[person]['poi']:\n",
    "        print person\n",
    "        POI +=1\n",
    "    else:\n",
    "        non_POI +=1\n",
    "print \"\\n\"\n",
    "print \"POIs:\" + str(POI)\n",
    "print \"non-POIs:\" + str(non_POI)\n",
    "print \"Total:\" + str(POI+non_POI)"
   ]
  },
  {
   "cell_type": "markdown",
   "metadata": {},
   "source": [
    "Lets get a feel for the data and print the data for some people"
   ]
  },
  {
   "cell_type": "code",
   "execution_count": 7,
   "metadata": {
    "collapsed": false
   },
   "outputs": [
    {
     "name": "stdout",
     "output_type": "stream",
     "text": [
      "METTS MARK\n",
      "{'salary': 365788, 'to_messages': 807, 'deferral_payments': 'NaN', 'total_payments': 1061827, 'exercised_stock_options': 'NaN', 'bonus': 600000, 'restricted_stock': 585062, 'shared_receipt_with_poi': 702, 'restricted_stock_deferred': 'NaN', 'total_stock_value': 585062, 'expenses': 94299, 'loan_advances': 'NaN', 'from_messages': 29, 'other': 1740, 'from_this_person_to_poi': 1, 'poi': False, 'director_fees': 'NaN', 'deferred_income': 'NaN', 'long_term_incentive': 'NaN', 'email_address': 'mark.metts@enron.com', 'from_poi_to_this_person': 38}\n",
      "BAXTER JOHN C\n",
      "{'salary': 267102, 'to_messages': 'NaN', 'deferral_payments': 1295738, 'total_payments': 5634343, 'exercised_stock_options': 6680544, 'bonus': 1200000, 'restricted_stock': 3942714, 'shared_receipt_with_poi': 'NaN', 'restricted_stock_deferred': 'NaN', 'total_stock_value': 10623258, 'expenses': 11200, 'loan_advances': 'NaN', 'from_messages': 'NaN', 'other': 2660303, 'from_this_person_to_poi': 'NaN', 'poi': False, 'director_fees': 'NaN', 'deferred_income': -1386055, 'long_term_incentive': 1586055, 'email_address': 'NaN', 'from_poi_to_this_person': 'NaN'}\n",
      "ELLIOTT STEVEN\n",
      "{'salary': 170941, 'to_messages': 'NaN', 'deferral_payments': 'NaN', 'total_payments': 211725, 'exercised_stock_options': 4890344, 'bonus': 350000, 'restricted_stock': 1788391, 'shared_receipt_with_poi': 'NaN', 'restricted_stock_deferred': 'NaN', 'total_stock_value': 6678735, 'expenses': 78552, 'loan_advances': 'NaN', 'from_messages': 'NaN', 'other': 12961, 'from_this_person_to_poi': 'NaN', 'poi': False, 'director_fees': 'NaN', 'deferred_income': -400729, 'long_term_incentive': 'NaN', 'email_address': 'steven.elliott@enron.com', 'from_poi_to_this_person': 'NaN'}\n",
      "CORDES WILLIAM R\n",
      "{'salary': 'NaN', 'to_messages': 764, 'deferral_payments': 'NaN', 'total_payments': 'NaN', 'exercised_stock_options': 651850, 'bonus': 'NaN', 'restricted_stock': 386335, 'shared_receipt_with_poi': 58, 'restricted_stock_deferred': 'NaN', 'total_stock_value': 1038185, 'expenses': 'NaN', 'loan_advances': 'NaN', 'from_messages': 12, 'other': 'NaN', 'from_this_person_to_poi': 0, 'poi': False, 'director_fees': 'NaN', 'deferred_income': 'NaN', 'long_term_incentive': 'NaN', 'email_address': 'bill.cordes@enron.com', 'from_poi_to_this_person': 10}\n",
      "HANNON KEVIN P\n",
      "{'salary': 243293, 'to_messages': 1045, 'deferral_payments': 'NaN', 'total_payments': 288682, 'exercised_stock_options': 5538001, 'bonus': 1500000, 'restricted_stock': 853064, 'shared_receipt_with_poi': 1035, 'restricted_stock_deferred': 'NaN', 'total_stock_value': 6391065, 'expenses': 34039, 'loan_advances': 'NaN', 'from_messages': 32, 'other': 11350, 'from_this_person_to_poi': 21, 'poi': True, 'director_fees': 'NaN', 'deferred_income': -3117011, 'long_term_incentive': 1617011, 'email_address': 'kevin.hannon@enron.com', 'from_poi_to_this_person': 32}\n"
     ]
    }
   ],
   "source": [
    "test_keys = range(0,5)\n",
    "\n",
    "for key in test_keys:\n",
    "    print enron_data.keys()[key]\n",
    "    print(enron_data[enron_data.keys()[key]])\n"
   ]
  },
  {
   "cell_type": "markdown",
   "metadata": {},
   "source": [
    "To get an even better look, I'll covert the data into a panda dataframe, and re-order the columns to match the pdf file."
   ]
  },
  {
   "cell_type": "code",
   "execution_count": 8,
   "metadata": {
    "collapsed": false
   },
   "outputs": [],
   "source": [
    "import pandas as pd\n",
    "# Formatting for the output:\n",
    "pd.set_option('display.float_format', lambda x: '%.3f' % x)\n",
    "\n",
    "# Convert dictionary to DataFrame\n",
    "enron_data_df = pd.DataFrame.from_dict(enron_data, orient = 'index', dtype = float)\n",
    "\n",
    "# re-order columns\n",
    "enron_data_df = enron_data_df[\n",
    "['salary',\n",
    "'bonus',\n",
    "'long_term_incentive',\n",
    "'deferred_income',\n",
    "'deferral_payments',\n",
    "'loan_advances',\n",
    "'other',\n",
    "'expenses',\n",
    "'director_fees',\n",
    "'total_payments',\n",
    " 'exercised_stock_options',\n",
    "'restricted_stock',\n",
    " 'restricted_stock_deferred',\n",
    " 'total_stock_value',\n",
    " 'email_address',\n",
    " 'to_messages',\n",
    " 'shared_receipt_with_poi',\n",
    " 'from_messages',\n",
    " 'from_this_person_to_poi',\n",
    " 'poi',\n",
    " 'from_poi_to_this_person']]"
   ]
  },
  {
   "cell_type": "markdown",
   "metadata": {},
   "source": [
    "Print some rows"
   ]
  },
  {
   "cell_type": "code",
   "execution_count": 9,
   "metadata": {
    "collapsed": false
   },
   "outputs": [
    {
     "data": {
      "text/html": [
       "<div>\n",
       "<table border=\"1\" class=\"dataframe\">\n",
       "  <thead>\n",
       "    <tr style=\"text-align: right;\">\n",
       "      <th></th>\n",
       "      <th>salary</th>\n",
       "      <th>bonus</th>\n",
       "      <th>long_term_incentive</th>\n",
       "      <th>deferred_income</th>\n",
       "      <th>deferral_payments</th>\n",
       "      <th>loan_advances</th>\n",
       "      <th>other</th>\n",
       "      <th>expenses</th>\n",
       "      <th>director_fees</th>\n",
       "      <th>total_payments</th>\n",
       "      <th>...</th>\n",
       "      <th>restricted_stock</th>\n",
       "      <th>restricted_stock_deferred</th>\n",
       "      <th>total_stock_value</th>\n",
       "      <th>email_address</th>\n",
       "      <th>to_messages</th>\n",
       "      <th>shared_receipt_with_poi</th>\n",
       "      <th>from_messages</th>\n",
       "      <th>from_this_person_to_poi</th>\n",
       "      <th>poi</th>\n",
       "      <th>from_poi_to_this_person</th>\n",
       "    </tr>\n",
       "  </thead>\n",
       "  <tbody>\n",
       "    <tr>\n",
       "      <th>ALLEN PHILLIP K</th>\n",
       "      <td>201955.000</td>\n",
       "      <td>4175000.000</td>\n",
       "      <td>304805.000</td>\n",
       "      <td>-3081055.000</td>\n",
       "      <td>2869717.000</td>\n",
       "      <td>nan</td>\n",
       "      <td>152.000</td>\n",
       "      <td>13868.000</td>\n",
       "      <td>nan</td>\n",
       "      <td>4484442.000</td>\n",
       "      <td>...</td>\n",
       "      <td>126027.000</td>\n",
       "      <td>-126027.000</td>\n",
       "      <td>1729541.000</td>\n",
       "      <td>phillip.allen@enron.com</td>\n",
       "      <td>2902.000</td>\n",
       "      <td>1407.000</td>\n",
       "      <td>2195.000</td>\n",
       "      <td>65.000</td>\n",
       "      <td>0.000</td>\n",
       "      <td>47.000</td>\n",
       "    </tr>\n",
       "    <tr>\n",
       "      <th>BADUM JAMES P</th>\n",
       "      <td>nan</td>\n",
       "      <td>nan</td>\n",
       "      <td>nan</td>\n",
       "      <td>nan</td>\n",
       "      <td>178980.000</td>\n",
       "      <td>nan</td>\n",
       "      <td>nan</td>\n",
       "      <td>3486.000</td>\n",
       "      <td>nan</td>\n",
       "      <td>182466.000</td>\n",
       "      <td>...</td>\n",
       "      <td>nan</td>\n",
       "      <td>nan</td>\n",
       "      <td>257817.000</td>\n",
       "      <td>NaN</td>\n",
       "      <td>nan</td>\n",
       "      <td>nan</td>\n",
       "      <td>nan</td>\n",
       "      <td>nan</td>\n",
       "      <td>0.000</td>\n",
       "      <td>nan</td>\n",
       "    </tr>\n",
       "    <tr>\n",
       "      <th>BANNANTINE JAMES M</th>\n",
       "      <td>477.000</td>\n",
       "      <td>nan</td>\n",
       "      <td>nan</td>\n",
       "      <td>-5104.000</td>\n",
       "      <td>nan</td>\n",
       "      <td>nan</td>\n",
       "      <td>864523.000</td>\n",
       "      <td>56301.000</td>\n",
       "      <td>nan</td>\n",
       "      <td>916197.000</td>\n",
       "      <td>...</td>\n",
       "      <td>1757552.000</td>\n",
       "      <td>-560222.000</td>\n",
       "      <td>5243487.000</td>\n",
       "      <td>james.bannantine@enron.com</td>\n",
       "      <td>566.000</td>\n",
       "      <td>465.000</td>\n",
       "      <td>29.000</td>\n",
       "      <td>0.000</td>\n",
       "      <td>0.000</td>\n",
       "      <td>39.000</td>\n",
       "    </tr>\n",
       "    <tr>\n",
       "      <th>BAXTER JOHN C</th>\n",
       "      <td>267102.000</td>\n",
       "      <td>1200000.000</td>\n",
       "      <td>1586055.000</td>\n",
       "      <td>-1386055.000</td>\n",
       "      <td>1295738.000</td>\n",
       "      <td>nan</td>\n",
       "      <td>2660303.000</td>\n",
       "      <td>11200.000</td>\n",
       "      <td>nan</td>\n",
       "      <td>5634343.000</td>\n",
       "      <td>...</td>\n",
       "      <td>3942714.000</td>\n",
       "      <td>nan</td>\n",
       "      <td>10623258.000</td>\n",
       "      <td>NaN</td>\n",
       "      <td>nan</td>\n",
       "      <td>nan</td>\n",
       "      <td>nan</td>\n",
       "      <td>nan</td>\n",
       "      <td>0.000</td>\n",
       "      <td>nan</td>\n",
       "    </tr>\n",
       "    <tr>\n",
       "      <th>BAY FRANKLIN R</th>\n",
       "      <td>239671.000</td>\n",
       "      <td>400000.000</td>\n",
       "      <td>nan</td>\n",
       "      <td>-201641.000</td>\n",
       "      <td>260455.000</td>\n",
       "      <td>nan</td>\n",
       "      <td>69.000</td>\n",
       "      <td>129142.000</td>\n",
       "      <td>nan</td>\n",
       "      <td>827696.000</td>\n",
       "      <td>...</td>\n",
       "      <td>145796.000</td>\n",
       "      <td>-82782.000</td>\n",
       "      <td>63014.000</td>\n",
       "      <td>frank.bay@enron.com</td>\n",
       "      <td>nan</td>\n",
       "      <td>nan</td>\n",
       "      <td>nan</td>\n",
       "      <td>nan</td>\n",
       "      <td>0.000</td>\n",
       "      <td>nan</td>\n",
       "    </tr>\n",
       "    <tr>\n",
       "      <th>BAZELIDES PHILIP J</th>\n",
       "      <td>80818.000</td>\n",
       "      <td>nan</td>\n",
       "      <td>93750.000</td>\n",
       "      <td>nan</td>\n",
       "      <td>684694.000</td>\n",
       "      <td>nan</td>\n",
       "      <td>874.000</td>\n",
       "      <td>nan</td>\n",
       "      <td>nan</td>\n",
       "      <td>860136.000</td>\n",
       "      <td>...</td>\n",
       "      <td>nan</td>\n",
       "      <td>nan</td>\n",
       "      <td>1599641.000</td>\n",
       "      <td>NaN</td>\n",
       "      <td>nan</td>\n",
       "      <td>nan</td>\n",
       "      <td>nan</td>\n",
       "      <td>nan</td>\n",
       "      <td>0.000</td>\n",
       "      <td>nan</td>\n",
       "    </tr>\n",
       "    <tr>\n",
       "      <th>BECK SALLY W</th>\n",
       "      <td>231330.000</td>\n",
       "      <td>700000.000</td>\n",
       "      <td>nan</td>\n",
       "      <td>nan</td>\n",
       "      <td>nan</td>\n",
       "      <td>nan</td>\n",
       "      <td>566.000</td>\n",
       "      <td>37172.000</td>\n",
       "      <td>nan</td>\n",
       "      <td>969068.000</td>\n",
       "      <td>...</td>\n",
       "      <td>126027.000</td>\n",
       "      <td>nan</td>\n",
       "      <td>126027.000</td>\n",
       "      <td>sally.beck@enron.com</td>\n",
       "      <td>7315.000</td>\n",
       "      <td>2639.000</td>\n",
       "      <td>4343.000</td>\n",
       "      <td>386.000</td>\n",
       "      <td>0.000</td>\n",
       "      <td>144.000</td>\n",
       "    </tr>\n",
       "    <tr>\n",
       "      <th>BELDEN TIMOTHY N</th>\n",
       "      <td>213999.000</td>\n",
       "      <td>5249999.000</td>\n",
       "      <td>nan</td>\n",
       "      <td>-2334434.000</td>\n",
       "      <td>2144013.000</td>\n",
       "      <td>nan</td>\n",
       "      <td>210698.000</td>\n",
       "      <td>17355.000</td>\n",
       "      <td>nan</td>\n",
       "      <td>5501630.000</td>\n",
       "      <td>...</td>\n",
       "      <td>157569.000</td>\n",
       "      <td>nan</td>\n",
       "      <td>1110705.000</td>\n",
       "      <td>tim.belden@enron.com</td>\n",
       "      <td>7991.000</td>\n",
       "      <td>5521.000</td>\n",
       "      <td>484.000</td>\n",
       "      <td>108.000</td>\n",
       "      <td>1.000</td>\n",
       "      <td>228.000</td>\n",
       "    </tr>\n",
       "    <tr>\n",
       "      <th>BELFER ROBERT</th>\n",
       "      <td>nan</td>\n",
       "      <td>nan</td>\n",
       "      <td>nan</td>\n",
       "      <td>nan</td>\n",
       "      <td>-102500.000</td>\n",
       "      <td>nan</td>\n",
       "      <td>nan</td>\n",
       "      <td>nan</td>\n",
       "      <td>3285.000</td>\n",
       "      <td>102500.000</td>\n",
       "      <td>...</td>\n",
       "      <td>nan</td>\n",
       "      <td>44093.000</td>\n",
       "      <td>-44093.000</td>\n",
       "      <td>NaN</td>\n",
       "      <td>nan</td>\n",
       "      <td>nan</td>\n",
       "      <td>nan</td>\n",
       "      <td>nan</td>\n",
       "      <td>0.000</td>\n",
       "      <td>nan</td>\n",
       "    </tr>\n",
       "    <tr>\n",
       "      <th>BERBERIAN DAVID</th>\n",
       "      <td>216582.000</td>\n",
       "      <td>nan</td>\n",
       "      <td>nan</td>\n",
       "      <td>nan</td>\n",
       "      <td>nan</td>\n",
       "      <td>nan</td>\n",
       "      <td>nan</td>\n",
       "      <td>11892.000</td>\n",
       "      <td>nan</td>\n",
       "      <td>228474.000</td>\n",
       "      <td>...</td>\n",
       "      <td>869220.000</td>\n",
       "      <td>nan</td>\n",
       "      <td>2493616.000</td>\n",
       "      <td>david.berberian@enron.com</td>\n",
       "      <td>nan</td>\n",
       "      <td>nan</td>\n",
       "      <td>nan</td>\n",
       "      <td>nan</td>\n",
       "      <td>0.000</td>\n",
       "      <td>nan</td>\n",
       "    </tr>\n",
       "    <tr>\n",
       "      <th>BERGSIEKER RICHARD P</th>\n",
       "      <td>187922.000</td>\n",
       "      <td>250000.000</td>\n",
       "      <td>180250.000</td>\n",
       "      <td>-485813.000</td>\n",
       "      <td>nan</td>\n",
       "      <td>nan</td>\n",
       "      <td>427316.000</td>\n",
       "      <td>59175.000</td>\n",
       "      <td>nan</td>\n",
       "      <td>618850.000</td>\n",
       "      <td>...</td>\n",
       "      <td>659249.000</td>\n",
       "      <td>nan</td>\n",
       "      <td>659249.000</td>\n",
       "      <td>rick.bergsieker@enron.com</td>\n",
       "      <td>383.000</td>\n",
       "      <td>233.000</td>\n",
       "      <td>59.000</td>\n",
       "      <td>0.000</td>\n",
       "      <td>0.000</td>\n",
       "      <td>4.000</td>\n",
       "    </tr>\n",
       "    <tr>\n",
       "      <th>BHATNAGAR SANJAY</th>\n",
       "      <td>nan</td>\n",
       "      <td>nan</td>\n",
       "      <td>nan</td>\n",
       "      <td>nan</td>\n",
       "      <td>nan</td>\n",
       "      <td>nan</td>\n",
       "      <td>137864.000</td>\n",
       "      <td>nan</td>\n",
       "      <td>137864.000</td>\n",
       "      <td>15456290.000</td>\n",
       "      <td>...</td>\n",
       "      <td>-2604490.000</td>\n",
       "      <td>15456290.000</td>\n",
       "      <td>nan</td>\n",
       "      <td>sanjay.bhatnagar@enron.com</td>\n",
       "      <td>523.000</td>\n",
       "      <td>463.000</td>\n",
       "      <td>29.000</td>\n",
       "      <td>1.000</td>\n",
       "      <td>0.000</td>\n",
       "      <td>0.000</td>\n",
       "    </tr>\n",
       "    <tr>\n",
       "      <th>BIBI PHILIPPE A</th>\n",
       "      <td>213625.000</td>\n",
       "      <td>1000000.000</td>\n",
       "      <td>369721.000</td>\n",
       "      <td>nan</td>\n",
       "      <td>nan</td>\n",
       "      <td>nan</td>\n",
       "      <td>425688.000</td>\n",
       "      <td>38559.000</td>\n",
       "      <td>nan</td>\n",
       "      <td>2047593.000</td>\n",
       "      <td>...</td>\n",
       "      <td>378082.000</td>\n",
       "      <td>nan</td>\n",
       "      <td>1843816.000</td>\n",
       "      <td>philippe.bibi@enron.com</td>\n",
       "      <td>1607.000</td>\n",
       "      <td>1336.000</td>\n",
       "      <td>40.000</td>\n",
       "      <td>8.000</td>\n",
       "      <td>0.000</td>\n",
       "      <td>23.000</td>\n",
       "    </tr>\n",
       "    <tr>\n",
       "      <th>BLACHMAN JEREMY M</th>\n",
       "      <td>248546.000</td>\n",
       "      <td>850000.000</td>\n",
       "      <td>831809.000</td>\n",
       "      <td>nan</td>\n",
       "      <td>nan</td>\n",
       "      <td>nan</td>\n",
       "      <td>272.000</td>\n",
       "      <td>84208.000</td>\n",
       "      <td>nan</td>\n",
       "      <td>2014835.000</td>\n",
       "      <td>...</td>\n",
       "      <td>189041.000</td>\n",
       "      <td>nan</td>\n",
       "      <td>954354.000</td>\n",
       "      <td>jeremy.blachman@enron.com</td>\n",
       "      <td>2475.000</td>\n",
       "      <td>2326.000</td>\n",
       "      <td>14.000</td>\n",
       "      <td>2.000</td>\n",
       "      <td>0.000</td>\n",
       "      <td>25.000</td>\n",
       "    </tr>\n",
       "    <tr>\n",
       "      <th>BLAKE JR. NORMAN P</th>\n",
       "      <td>nan</td>\n",
       "      <td>nan</td>\n",
       "      <td>nan</td>\n",
       "      <td>-113784.000</td>\n",
       "      <td>nan</td>\n",
       "      <td>nan</td>\n",
       "      <td>nan</td>\n",
       "      <td>1279.000</td>\n",
       "      <td>113784.000</td>\n",
       "      <td>1279.000</td>\n",
       "      <td>...</td>\n",
       "      <td>nan</td>\n",
       "      <td>nan</td>\n",
       "      <td>nan</td>\n",
       "      <td>NaN</td>\n",
       "      <td>nan</td>\n",
       "      <td>nan</td>\n",
       "      <td>nan</td>\n",
       "      <td>nan</td>\n",
       "      <td>0.000</td>\n",
       "      <td>nan</td>\n",
       "    </tr>\n",
       "    <tr>\n",
       "      <th>BOWEN JR RAYMOND M</th>\n",
       "      <td>278601.000</td>\n",
       "      <td>1350000.000</td>\n",
       "      <td>974293.000</td>\n",
       "      <td>-833.000</td>\n",
       "      <td>nan</td>\n",
       "      <td>nan</td>\n",
       "      <td>1621.000</td>\n",
       "      <td>65907.000</td>\n",
       "      <td>nan</td>\n",
       "      <td>2669589.000</td>\n",
       "      <td>...</td>\n",
       "      <td>252055.000</td>\n",
       "      <td>nan</td>\n",
       "      <td>252055.000</td>\n",
       "      <td>raymond.bowen@enron.com</td>\n",
       "      <td>1858.000</td>\n",
       "      <td>1593.000</td>\n",
       "      <td>27.000</td>\n",
       "      <td>15.000</td>\n",
       "      <td>1.000</td>\n",
       "      <td>140.000</td>\n",
       "    </tr>\n",
       "    <tr>\n",
       "      <th>BROWN MICHAEL</th>\n",
       "      <td>nan</td>\n",
       "      <td>nan</td>\n",
       "      <td>nan</td>\n",
       "      <td>nan</td>\n",
       "      <td>nan</td>\n",
       "      <td>nan</td>\n",
       "      <td>nan</td>\n",
       "      <td>49288.000</td>\n",
       "      <td>nan</td>\n",
       "      <td>49288.000</td>\n",
       "      <td>...</td>\n",
       "      <td>nan</td>\n",
       "      <td>nan</td>\n",
       "      <td>nan</td>\n",
       "      <td>michael.brown@enron.com</td>\n",
       "      <td>1486.000</td>\n",
       "      <td>761.000</td>\n",
       "      <td>41.000</td>\n",
       "      <td>1.000</td>\n",
       "      <td>0.000</td>\n",
       "      <td>13.000</td>\n",
       "    </tr>\n",
       "    <tr>\n",
       "      <th>BUCHANAN HAROLD G</th>\n",
       "      <td>248017.000</td>\n",
       "      <td>500000.000</td>\n",
       "      <td>304805.000</td>\n",
       "      <td>nan</td>\n",
       "      <td>nan</td>\n",
       "      <td>nan</td>\n",
       "      <td>1215.000</td>\n",
       "      <td>600.000</td>\n",
       "      <td>nan</td>\n",
       "      <td>1054637.000</td>\n",
       "      <td>...</td>\n",
       "      <td>189041.000</td>\n",
       "      <td>nan</td>\n",
       "      <td>1014505.000</td>\n",
       "      <td>john.buchanan@enron.com</td>\n",
       "      <td>1088.000</td>\n",
       "      <td>23.000</td>\n",
       "      <td>125.000</td>\n",
       "      <td>0.000</td>\n",
       "      <td>0.000</td>\n",
       "      <td>0.000</td>\n",
       "    </tr>\n",
       "    <tr>\n",
       "      <th>BUTTS ROBERT H</th>\n",
       "      <td>261516.000</td>\n",
       "      <td>750000.000</td>\n",
       "      <td>175000.000</td>\n",
       "      <td>-75000.000</td>\n",
       "      <td>nan</td>\n",
       "      <td>nan</td>\n",
       "      <td>150656.000</td>\n",
       "      <td>9410.000</td>\n",
       "      <td>nan</td>\n",
       "      <td>1271582.000</td>\n",
       "      <td>...</td>\n",
       "      <td>417619.000</td>\n",
       "      <td>nan</td>\n",
       "      <td>417619.000</td>\n",
       "      <td>bob.butts@enron.com</td>\n",
       "      <td>nan</td>\n",
       "      <td>nan</td>\n",
       "      <td>nan</td>\n",
       "      <td>nan</td>\n",
       "      <td>0.000</td>\n",
       "      <td>nan</td>\n",
       "    </tr>\n",
       "    <tr>\n",
       "      <th>BUY RICHARD B</th>\n",
       "      <td>330546.000</td>\n",
       "      <td>900000.000</td>\n",
       "      <td>769862.000</td>\n",
       "      <td>-694862.000</td>\n",
       "      <td>649584.000</td>\n",
       "      <td>nan</td>\n",
       "      <td>400572.000</td>\n",
       "      <td>nan</td>\n",
       "      <td>nan</td>\n",
       "      <td>2355702.000</td>\n",
       "      <td>...</td>\n",
       "      <td>901657.000</td>\n",
       "      <td>nan</td>\n",
       "      <td>3444470.000</td>\n",
       "      <td>rick.buy@enron.com</td>\n",
       "      <td>3523.000</td>\n",
       "      <td>2333.000</td>\n",
       "      <td>1053.000</td>\n",
       "      <td>71.000</td>\n",
       "      <td>0.000</td>\n",
       "      <td>156.000</td>\n",
       "    </tr>\n",
       "  </tbody>\n",
       "</table>\n",
       "<p>20 rows × 21 columns</p>\n",
       "</div>"
      ],
      "text/plain": [
       "                         salary       bonus  long_term_incentive  \\\n",
       "ALLEN PHILLIP K      201955.000 4175000.000           304805.000   \n",
       "BADUM JAMES P               nan         nan                  nan   \n",
       "BANNANTINE JAMES M      477.000         nan                  nan   \n",
       "BAXTER JOHN C        267102.000 1200000.000          1586055.000   \n",
       "BAY FRANKLIN R       239671.000  400000.000                  nan   \n",
       "BAZELIDES PHILIP J    80818.000         nan            93750.000   \n",
       "BECK SALLY W         231330.000  700000.000                  nan   \n",
       "BELDEN TIMOTHY N     213999.000 5249999.000                  nan   \n",
       "BELFER ROBERT               nan         nan                  nan   \n",
       "BERBERIAN DAVID      216582.000         nan                  nan   \n",
       "BERGSIEKER RICHARD P 187922.000  250000.000           180250.000   \n",
       "BHATNAGAR SANJAY            nan         nan                  nan   \n",
       "BIBI PHILIPPE A      213625.000 1000000.000           369721.000   \n",
       "BLACHMAN JEREMY M    248546.000  850000.000           831809.000   \n",
       "BLAKE JR. NORMAN P          nan         nan                  nan   \n",
       "BOWEN JR RAYMOND M   278601.000 1350000.000           974293.000   \n",
       "BROWN MICHAEL               nan         nan                  nan   \n",
       "BUCHANAN HAROLD G    248017.000  500000.000           304805.000   \n",
       "BUTTS ROBERT H       261516.000  750000.000           175000.000   \n",
       "BUY RICHARD B        330546.000  900000.000           769862.000   \n",
       "\n",
       "                      deferred_income  deferral_payments  loan_advances  \\\n",
       "ALLEN PHILLIP K          -3081055.000        2869717.000            nan   \n",
       "BADUM JAMES P                     nan         178980.000            nan   \n",
       "BANNANTINE JAMES M          -5104.000                nan            nan   \n",
       "BAXTER JOHN C            -1386055.000        1295738.000            nan   \n",
       "BAY FRANKLIN R            -201641.000         260455.000            nan   \n",
       "BAZELIDES PHILIP J                nan         684694.000            nan   \n",
       "BECK SALLY W                      nan                nan            nan   \n",
       "BELDEN TIMOTHY N         -2334434.000        2144013.000            nan   \n",
       "BELFER ROBERT                     nan        -102500.000            nan   \n",
       "BERBERIAN DAVID                   nan                nan            nan   \n",
       "BERGSIEKER RICHARD P      -485813.000                nan            nan   \n",
       "BHATNAGAR SANJAY                  nan                nan            nan   \n",
       "BIBI PHILIPPE A                   nan                nan            nan   \n",
       "BLACHMAN JEREMY M                 nan                nan            nan   \n",
       "BLAKE JR. NORMAN P        -113784.000                nan            nan   \n",
       "BOWEN JR RAYMOND M           -833.000                nan            nan   \n",
       "BROWN MICHAEL                     nan                nan            nan   \n",
       "BUCHANAN HAROLD G                 nan                nan            nan   \n",
       "BUTTS ROBERT H             -75000.000                nan            nan   \n",
       "BUY RICHARD B             -694862.000         649584.000            nan   \n",
       "\n",
       "                           other   expenses  director_fees  total_payments  \\\n",
       "ALLEN PHILLIP K          152.000  13868.000            nan     4484442.000   \n",
       "BADUM JAMES P                nan   3486.000            nan      182466.000   \n",
       "BANNANTINE JAMES M    864523.000  56301.000            nan      916197.000   \n",
       "BAXTER JOHN C        2660303.000  11200.000            nan     5634343.000   \n",
       "BAY FRANKLIN R            69.000 129142.000            nan      827696.000   \n",
       "BAZELIDES PHILIP J       874.000        nan            nan      860136.000   \n",
       "BECK SALLY W             566.000  37172.000            nan      969068.000   \n",
       "BELDEN TIMOTHY N      210698.000  17355.000            nan     5501630.000   \n",
       "BELFER ROBERT                nan        nan       3285.000      102500.000   \n",
       "BERBERIAN DAVID              nan  11892.000            nan      228474.000   \n",
       "BERGSIEKER RICHARD P  427316.000  59175.000            nan      618850.000   \n",
       "BHATNAGAR SANJAY      137864.000        nan     137864.000    15456290.000   \n",
       "BIBI PHILIPPE A       425688.000  38559.000            nan     2047593.000   \n",
       "BLACHMAN JEREMY M        272.000  84208.000            nan     2014835.000   \n",
       "BLAKE JR. NORMAN P           nan   1279.000     113784.000        1279.000   \n",
       "BOWEN JR RAYMOND M      1621.000  65907.000            nan     2669589.000   \n",
       "BROWN MICHAEL                nan  49288.000            nan       49288.000   \n",
       "BUCHANAN HAROLD G       1215.000    600.000            nan     1054637.000   \n",
       "BUTTS ROBERT H        150656.000   9410.000            nan     1271582.000   \n",
       "BUY RICHARD B         400572.000        nan            nan     2355702.000   \n",
       "\n",
       "                               ...             restricted_stock  \\\n",
       "ALLEN PHILLIP K                ...                   126027.000   \n",
       "BADUM JAMES P                  ...                          nan   \n",
       "BANNANTINE JAMES M             ...                  1757552.000   \n",
       "BAXTER JOHN C                  ...                  3942714.000   \n",
       "BAY FRANKLIN R                 ...                   145796.000   \n",
       "BAZELIDES PHILIP J             ...                          nan   \n",
       "BECK SALLY W                   ...                   126027.000   \n",
       "BELDEN TIMOTHY N               ...                   157569.000   \n",
       "BELFER ROBERT                  ...                          nan   \n",
       "BERBERIAN DAVID                ...                   869220.000   \n",
       "BERGSIEKER RICHARD P           ...                   659249.000   \n",
       "BHATNAGAR SANJAY               ...                 -2604490.000   \n",
       "BIBI PHILIPPE A                ...                   378082.000   \n",
       "BLACHMAN JEREMY M              ...                   189041.000   \n",
       "BLAKE JR. NORMAN P             ...                          nan   \n",
       "BOWEN JR RAYMOND M             ...                   252055.000   \n",
       "BROWN MICHAEL                  ...                          nan   \n",
       "BUCHANAN HAROLD G              ...                   189041.000   \n",
       "BUTTS ROBERT H                 ...                   417619.000   \n",
       "BUY RICHARD B                  ...                   901657.000   \n",
       "\n",
       "                      restricted_stock_deferred  total_stock_value  \\\n",
       "ALLEN PHILLIP K                     -126027.000        1729541.000   \n",
       "BADUM JAMES P                               nan         257817.000   \n",
       "BANNANTINE JAMES M                  -560222.000        5243487.000   \n",
       "BAXTER JOHN C                               nan       10623258.000   \n",
       "BAY FRANKLIN R                       -82782.000          63014.000   \n",
       "BAZELIDES PHILIP J                          nan        1599641.000   \n",
       "BECK SALLY W                                nan         126027.000   \n",
       "BELDEN TIMOTHY N                            nan        1110705.000   \n",
       "BELFER ROBERT                         44093.000         -44093.000   \n",
       "BERBERIAN DAVID                             nan        2493616.000   \n",
       "BERGSIEKER RICHARD P                        nan         659249.000   \n",
       "BHATNAGAR SANJAY                   15456290.000                nan   \n",
       "BIBI PHILIPPE A                             nan        1843816.000   \n",
       "BLACHMAN JEREMY M                           nan         954354.000   \n",
       "BLAKE JR. NORMAN P                          nan                nan   \n",
       "BOWEN JR RAYMOND M                          nan         252055.000   \n",
       "BROWN MICHAEL                               nan                nan   \n",
       "BUCHANAN HAROLD G                           nan        1014505.000   \n",
       "BUTTS ROBERT H                              nan         417619.000   \n",
       "BUY RICHARD B                               nan        3444470.000   \n",
       "\n",
       "                                   email_address to_messages  \\\n",
       "ALLEN PHILLIP K          phillip.allen@enron.com    2902.000   \n",
       "BADUM JAMES P                                NaN         nan   \n",
       "BANNANTINE JAMES M    james.bannantine@enron.com     566.000   \n",
       "BAXTER JOHN C                                NaN         nan   \n",
       "BAY FRANKLIN R               frank.bay@enron.com         nan   \n",
       "BAZELIDES PHILIP J                           NaN         nan   \n",
       "BECK SALLY W                sally.beck@enron.com    7315.000   \n",
       "BELDEN TIMOTHY N            tim.belden@enron.com    7991.000   \n",
       "BELFER ROBERT                                NaN         nan   \n",
       "BERBERIAN DAVID        david.berberian@enron.com         nan   \n",
       "BERGSIEKER RICHARD P   rick.bergsieker@enron.com     383.000   \n",
       "BHATNAGAR SANJAY      sanjay.bhatnagar@enron.com     523.000   \n",
       "BIBI PHILIPPE A          philippe.bibi@enron.com    1607.000   \n",
       "BLACHMAN JEREMY M      jeremy.blachman@enron.com    2475.000   \n",
       "BLAKE JR. NORMAN P                           NaN         nan   \n",
       "BOWEN JR RAYMOND M       raymond.bowen@enron.com    1858.000   \n",
       "BROWN MICHAEL            michael.brown@enron.com    1486.000   \n",
       "BUCHANAN HAROLD G        john.buchanan@enron.com    1088.000   \n",
       "BUTTS ROBERT H               bob.butts@enron.com         nan   \n",
       "BUY RICHARD B                 rick.buy@enron.com    3523.000   \n",
       "\n",
       "                      shared_receipt_with_poi  from_messages  \\\n",
       "ALLEN PHILLIP K                      1407.000       2195.000   \n",
       "BADUM JAMES P                             nan            nan   \n",
       "BANNANTINE JAMES M                    465.000         29.000   \n",
       "BAXTER JOHN C                             nan            nan   \n",
       "BAY FRANKLIN R                            nan            nan   \n",
       "BAZELIDES PHILIP J                        nan            nan   \n",
       "BECK SALLY W                         2639.000       4343.000   \n",
       "BELDEN TIMOTHY N                     5521.000        484.000   \n",
       "BELFER ROBERT                             nan            nan   \n",
       "BERBERIAN DAVID                           nan            nan   \n",
       "BERGSIEKER RICHARD P                  233.000         59.000   \n",
       "BHATNAGAR SANJAY                      463.000         29.000   \n",
       "BIBI PHILIPPE A                      1336.000         40.000   \n",
       "BLACHMAN JEREMY M                    2326.000         14.000   \n",
       "BLAKE JR. NORMAN P                        nan            nan   \n",
       "BOWEN JR RAYMOND M                   1593.000         27.000   \n",
       "BROWN MICHAEL                         761.000         41.000   \n",
       "BUCHANAN HAROLD G                      23.000        125.000   \n",
       "BUTTS ROBERT H                            nan            nan   \n",
       "BUY RICHARD B                        2333.000       1053.000   \n",
       "\n",
       "                      from_this_person_to_poi   poi  from_poi_to_this_person  \n",
       "ALLEN PHILLIP K                        65.000 0.000                   47.000  \n",
       "BADUM JAMES P                             nan 0.000                      nan  \n",
       "BANNANTINE JAMES M                      0.000 0.000                   39.000  \n",
       "BAXTER JOHN C                             nan 0.000                      nan  \n",
       "BAY FRANKLIN R                            nan 0.000                      nan  \n",
       "BAZELIDES PHILIP J                        nan 0.000                      nan  \n",
       "BECK SALLY W                          386.000 0.000                  144.000  \n",
       "BELDEN TIMOTHY N                      108.000 1.000                  228.000  \n",
       "BELFER ROBERT                             nan 0.000                      nan  \n",
       "BERBERIAN DAVID                           nan 0.000                      nan  \n",
       "BERGSIEKER RICHARD P                    0.000 0.000                    4.000  \n",
       "BHATNAGAR SANJAY                        1.000 0.000                    0.000  \n",
       "BIBI PHILIPPE A                         8.000 0.000                   23.000  \n",
       "BLACHMAN JEREMY M                       2.000 0.000                   25.000  \n",
       "BLAKE JR. NORMAN P                        nan 0.000                      nan  \n",
       "BOWEN JR RAYMOND M                     15.000 1.000                  140.000  \n",
       "BROWN MICHAEL                           1.000 0.000                   13.000  \n",
       "BUCHANAN HAROLD G                       0.000 0.000                    0.000  \n",
       "BUTTS ROBERT H                            nan 0.000                      nan  \n",
       "BUY RICHARD B                          71.000 0.000                  156.000  \n",
       "\n",
       "[20 rows x 21 columns]"
      ]
     },
     "execution_count": 9,
     "metadata": {},
     "output_type": "execute_result"
    }
   ],
   "source": [
    "enron_data_df.head(20)"
   ]
  },
  {
   "cell_type": "markdown",
   "metadata": {},
   "source": [
    "and summary statistics"
   ]
  },
  {
   "cell_type": "code",
   "execution_count": 10,
   "metadata": {
    "collapsed": false
   },
   "outputs": [
    {
     "name": "stderr",
     "output_type": "stream",
     "text": [
      "C:\\Users\\marcelot\\AppData\\Local\\Continuum\\Anaconda2\\lib\\site-packages\\numpy\\lib\\function_base.py:3834: RuntimeWarning: Invalid value encountered in percentile\n",
      "  RuntimeWarning)\n"
     ]
    },
    {
     "data": {
      "text/html": [
       "<div>\n",
       "<table border=\"1\" class=\"dataframe\">\n",
       "  <thead>\n",
       "    <tr style=\"text-align: right;\">\n",
       "      <th></th>\n",
       "      <th>salary</th>\n",
       "      <th>bonus</th>\n",
       "      <th>long_term_incentive</th>\n",
       "      <th>deferred_income</th>\n",
       "      <th>deferral_payments</th>\n",
       "      <th>loan_advances</th>\n",
       "      <th>other</th>\n",
       "      <th>expenses</th>\n",
       "      <th>director_fees</th>\n",
       "      <th>total_payments</th>\n",
       "      <th>exercised_stock_options</th>\n",
       "      <th>restricted_stock</th>\n",
       "      <th>restricted_stock_deferred</th>\n",
       "      <th>total_stock_value</th>\n",
       "      <th>to_messages</th>\n",
       "      <th>shared_receipt_with_poi</th>\n",
       "      <th>from_messages</th>\n",
       "      <th>from_this_person_to_poi</th>\n",
       "      <th>poi</th>\n",
       "      <th>from_poi_to_this_person</th>\n",
       "    </tr>\n",
       "  </thead>\n",
       "  <tbody>\n",
       "    <tr>\n",
       "      <th>count</th>\n",
       "      <td>94.000</td>\n",
       "      <td>81.000</td>\n",
       "      <td>65.000</td>\n",
       "      <td>48.000</td>\n",
       "      <td>38.000</td>\n",
       "      <td>3.000</td>\n",
       "      <td>91.000</td>\n",
       "      <td>94.000</td>\n",
       "      <td>16.000</td>\n",
       "      <td>123.000</td>\n",
       "      <td>101.000</td>\n",
       "      <td>109.000</td>\n",
       "      <td>17.000</td>\n",
       "      <td>125.000</td>\n",
       "      <td>86.000</td>\n",
       "      <td>86.000</td>\n",
       "      <td>86.000</td>\n",
       "      <td>86.000</td>\n",
       "      <td>144.000</td>\n",
       "      <td>86.000</td>\n",
       "    </tr>\n",
       "    <tr>\n",
       "      <th>mean</th>\n",
       "      <td>284087.543</td>\n",
       "      <td>1201773.074</td>\n",
       "      <td>746491.200</td>\n",
       "      <td>-581049.812</td>\n",
       "      <td>841602.526</td>\n",
       "      <td>27975000.000</td>\n",
       "      <td>466410.516</td>\n",
       "      <td>54192.011</td>\n",
       "      <td>89822.875</td>\n",
       "      <td>2641805.935</td>\n",
       "      <td>2959559.257</td>\n",
       "      <td>1147424.092</td>\n",
       "      <td>621892.824</td>\n",
       "      <td>3352073.024</td>\n",
       "      <td>2073.860</td>\n",
       "      <td>1176.465</td>\n",
       "      <td>608.791</td>\n",
       "      <td>41.233</td>\n",
       "      <td>0.125</td>\n",
       "      <td>64.895</td>\n",
       "    </tr>\n",
       "    <tr>\n",
       "      <th>std</th>\n",
       "      <td>177131.115</td>\n",
       "      <td>1441679.438</td>\n",
       "      <td>862917.422</td>\n",
       "      <td>942076.403</td>\n",
       "      <td>1289322.626</td>\n",
       "      <td>46382560.031</td>\n",
       "      <td>1397375.608</td>\n",
       "      <td>46108.377</td>\n",
       "      <td>41112.701</td>\n",
       "      <td>9524693.906</td>\n",
       "      <td>5499449.599</td>\n",
       "      <td>2249770.357</td>\n",
       "      <td>3845528.350</td>\n",
       "      <td>6532883.097</td>\n",
       "      <td>2582.701</td>\n",
       "      <td>1178.318</td>\n",
       "      <td>1841.034</td>\n",
       "      <td>100.073</td>\n",
       "      <td>0.332</td>\n",
       "      <td>86.979</td>\n",
       "    </tr>\n",
       "    <tr>\n",
       "      <th>min</th>\n",
       "      <td>477.000</td>\n",
       "      <td>70000.000</td>\n",
       "      <td>69223.000</td>\n",
       "      <td>-3504386.000</td>\n",
       "      <td>-102500.000</td>\n",
       "      <td>400000.000</td>\n",
       "      <td>2.000</td>\n",
       "      <td>148.000</td>\n",
       "      <td>3285.000</td>\n",
       "      <td>148.000</td>\n",
       "      <td>3285.000</td>\n",
       "      <td>-2604490.000</td>\n",
       "      <td>-1787380.000</td>\n",
       "      <td>-44093.000</td>\n",
       "      <td>57.000</td>\n",
       "      <td>2.000</td>\n",
       "      <td>12.000</td>\n",
       "      <td>0.000</td>\n",
       "      <td>0.000</td>\n",
       "      <td>0.000</td>\n",
       "    </tr>\n",
       "    <tr>\n",
       "      <th>25%</th>\n",
       "      <td>nan</td>\n",
       "      <td>nan</td>\n",
       "      <td>nan</td>\n",
       "      <td>nan</td>\n",
       "      <td>nan</td>\n",
       "      <td>nan</td>\n",
       "      <td>nan</td>\n",
       "      <td>nan</td>\n",
       "      <td>nan</td>\n",
       "      <td>nan</td>\n",
       "      <td>nan</td>\n",
       "      <td>nan</td>\n",
       "      <td>nan</td>\n",
       "      <td>nan</td>\n",
       "      <td>nan</td>\n",
       "      <td>nan</td>\n",
       "      <td>nan</td>\n",
       "      <td>nan</td>\n",
       "      <td>0.000</td>\n",
       "      <td>nan</td>\n",
       "    </tr>\n",
       "    <tr>\n",
       "      <th>50%</th>\n",
       "      <td>nan</td>\n",
       "      <td>nan</td>\n",
       "      <td>nan</td>\n",
       "      <td>nan</td>\n",
       "      <td>nan</td>\n",
       "      <td>nan</td>\n",
       "      <td>nan</td>\n",
       "      <td>nan</td>\n",
       "      <td>nan</td>\n",
       "      <td>nan</td>\n",
       "      <td>nan</td>\n",
       "      <td>nan</td>\n",
       "      <td>nan</td>\n",
       "      <td>nan</td>\n",
       "      <td>nan</td>\n",
       "      <td>nan</td>\n",
       "      <td>nan</td>\n",
       "      <td>nan</td>\n",
       "      <td>0.000</td>\n",
       "      <td>nan</td>\n",
       "    </tr>\n",
       "    <tr>\n",
       "      <th>75%</th>\n",
       "      <td>nan</td>\n",
       "      <td>nan</td>\n",
       "      <td>nan</td>\n",
       "      <td>nan</td>\n",
       "      <td>nan</td>\n",
       "      <td>nan</td>\n",
       "      <td>nan</td>\n",
       "      <td>nan</td>\n",
       "      <td>nan</td>\n",
       "      <td>nan</td>\n",
       "      <td>nan</td>\n",
       "      <td>nan</td>\n",
       "      <td>nan</td>\n",
       "      <td>nan</td>\n",
       "      <td>nan</td>\n",
       "      <td>nan</td>\n",
       "      <td>nan</td>\n",
       "      <td>nan</td>\n",
       "      <td>0.000</td>\n",
       "      <td>nan</td>\n",
       "    </tr>\n",
       "    <tr>\n",
       "      <th>max</th>\n",
       "      <td>1111258.000</td>\n",
       "      <td>8000000.000</td>\n",
       "      <td>5145434.000</td>\n",
       "      <td>-833.000</td>\n",
       "      <td>6426990.000</td>\n",
       "      <td>81525000.000</td>\n",
       "      <td>10359729.000</td>\n",
       "      <td>228763.000</td>\n",
       "      <td>137864.000</td>\n",
       "      <td>103559793.000</td>\n",
       "      <td>34348384.000</td>\n",
       "      <td>14761694.000</td>\n",
       "      <td>15456290.000</td>\n",
       "      <td>49110078.000</td>\n",
       "      <td>15149.000</td>\n",
       "      <td>5521.000</td>\n",
       "      <td>14368.000</td>\n",
       "      <td>609.000</td>\n",
       "      <td>1.000</td>\n",
       "      <td>528.000</td>\n",
       "    </tr>\n",
       "  </tbody>\n",
       "</table>\n",
       "</div>"
      ],
      "text/plain": [
       "           salary       bonus  long_term_incentive  deferred_income  \\\n",
       "count      94.000      81.000               65.000           48.000   \n",
       "mean   284087.543 1201773.074           746491.200      -581049.812   \n",
       "std    177131.115 1441679.438           862917.422       942076.403   \n",
       "min       477.000   70000.000            69223.000     -3504386.000   \n",
       "25%           nan         nan                  nan              nan   \n",
       "50%           nan         nan                  nan              nan   \n",
       "75%           nan         nan                  nan              nan   \n",
       "max   1111258.000 8000000.000          5145434.000         -833.000   \n",
       "\n",
       "       deferral_payments  loan_advances        other   expenses  \\\n",
       "count             38.000          3.000       91.000     94.000   \n",
       "mean          841602.526   27975000.000   466410.516  54192.011   \n",
       "std          1289322.626   46382560.031  1397375.608  46108.377   \n",
       "min          -102500.000     400000.000        2.000    148.000   \n",
       "25%                  nan            nan          nan        nan   \n",
       "50%                  nan            nan          nan        nan   \n",
       "75%                  nan            nan          nan        nan   \n",
       "max          6426990.000   81525000.000 10359729.000 228763.000   \n",
       "\n",
       "       director_fees  total_payments  exercised_stock_options  \\\n",
       "count         16.000         123.000                  101.000   \n",
       "mean       89822.875     2641805.935              2959559.257   \n",
       "std        41112.701     9524693.906              5499449.599   \n",
       "min         3285.000         148.000                 3285.000   \n",
       "25%              nan             nan                      nan   \n",
       "50%              nan             nan                      nan   \n",
       "75%              nan             nan                      nan   \n",
       "max       137864.000   103559793.000             34348384.000   \n",
       "\n",
       "       restricted_stock  restricted_stock_deferred  total_stock_value  \\\n",
       "count           109.000                     17.000            125.000   \n",
       "mean        1147424.092                 621892.824        3352073.024   \n",
       "std         2249770.357                3845528.350        6532883.097   \n",
       "min        -2604490.000               -1787380.000         -44093.000   \n",
       "25%                 nan                        nan                nan   \n",
       "50%                 nan                        nan                nan   \n",
       "75%                 nan                        nan                nan   \n",
       "max        14761694.000               15456290.000       49110078.000   \n",
       "\n",
       "       to_messages  shared_receipt_with_poi  from_messages  \\\n",
       "count       86.000                   86.000         86.000   \n",
       "mean      2073.860                 1176.465        608.791   \n",
       "std       2582.701                 1178.318       1841.034   \n",
       "min         57.000                    2.000         12.000   \n",
       "25%            nan                      nan            nan   \n",
       "50%            nan                      nan            nan   \n",
       "75%            nan                      nan            nan   \n",
       "max      15149.000                 5521.000      14368.000   \n",
       "\n",
       "       from_this_person_to_poi     poi  from_poi_to_this_person  \n",
       "count                   86.000 144.000                   86.000  \n",
       "mean                    41.233   0.125                   64.895  \n",
       "std                    100.073   0.332                   86.979  \n",
       "min                      0.000   0.000                    0.000  \n",
       "25%                        nan   0.000                      nan  \n",
       "50%                        nan   0.000                      nan  \n",
       "75%                        nan   0.000                      nan  \n",
       "max                    609.000   1.000                  528.000  "
      ]
     },
     "execution_count": 10,
     "metadata": {},
     "output_type": "execute_result"
    }
   ],
   "source": [
    "enron_data_df.describe()"
   ]
  },
  {
   "cell_type": "markdown",
   "metadata": {},
   "source": [
    "Let's convert all NaN to 0 to see the data better"
   ]
  },
  {
   "cell_type": "code",
   "execution_count": 11,
   "metadata": {
    "collapsed": false
   },
   "outputs": [
    {
     "data": {
      "text/html": [
       "<div>\n",
       "<table border=\"1\" class=\"dataframe\">\n",
       "  <thead>\n",
       "    <tr style=\"text-align: right;\">\n",
       "      <th></th>\n",
       "      <th>salary</th>\n",
       "      <th>bonus</th>\n",
       "      <th>long_term_incentive</th>\n",
       "      <th>deferred_income</th>\n",
       "      <th>deferral_payments</th>\n",
       "      <th>loan_advances</th>\n",
       "      <th>other</th>\n",
       "      <th>expenses</th>\n",
       "      <th>director_fees</th>\n",
       "      <th>total_payments</th>\n",
       "      <th>exercised_stock_options</th>\n",
       "      <th>restricted_stock</th>\n",
       "      <th>restricted_stock_deferred</th>\n",
       "      <th>total_stock_value</th>\n",
       "      <th>to_messages</th>\n",
       "      <th>shared_receipt_with_poi</th>\n",
       "      <th>from_messages</th>\n",
       "      <th>from_this_person_to_poi</th>\n",
       "      <th>poi</th>\n",
       "      <th>from_poi_to_this_person</th>\n",
       "    </tr>\n",
       "  </thead>\n",
       "  <tbody>\n",
       "    <tr>\n",
       "      <th>count</th>\n",
       "      <td>144.000</td>\n",
       "      <td>144.000</td>\n",
       "      <td>144.000</td>\n",
       "      <td>144.000</td>\n",
       "      <td>144.000</td>\n",
       "      <td>144.000</td>\n",
       "      <td>144.000</td>\n",
       "      <td>144.000</td>\n",
       "      <td>144.000</td>\n",
       "      <td>144.000</td>\n",
       "      <td>144.000</td>\n",
       "      <td>144.000</td>\n",
       "      <td>144.000</td>\n",
       "      <td>144.000</td>\n",
       "      <td>144.000</td>\n",
       "      <td>144.000</td>\n",
       "      <td>144.000</td>\n",
       "      <td>144.000</td>\n",
       "      <td>144.000</td>\n",
       "      <td>144.000</td>\n",
       "    </tr>\n",
       "    <tr>\n",
       "      <th>mean</th>\n",
       "      <td>185446.035</td>\n",
       "      <td>675997.354</td>\n",
       "      <td>336957.833</td>\n",
       "      <td>-193683.271</td>\n",
       "      <td>222089.556</td>\n",
       "      <td>582812.500</td>\n",
       "      <td>294745.535</td>\n",
       "      <td>35375.340</td>\n",
       "      <td>9980.319</td>\n",
       "      <td>2256542.569</td>\n",
       "      <td>2075801.979</td>\n",
       "      <td>868536.292</td>\n",
       "      <td>73417.903</td>\n",
       "      <td>2909785.611</td>\n",
       "      <td>1238.556</td>\n",
       "      <td>702.611</td>\n",
       "      <td>363.583</td>\n",
       "      <td>24.625</td>\n",
       "      <td>0.125</td>\n",
       "      <td>38.757</td>\n",
       "    </tr>\n",
       "    <tr>\n",
       "      <th>std</th>\n",
       "      <td>197042.124</td>\n",
       "      <td>1233155.256</td>\n",
       "      <td>687182.568</td>\n",
       "      <td>606011.135</td>\n",
       "      <td>754101.303</td>\n",
       "      <td>6794471.779</td>\n",
       "      <td>1131325.453</td>\n",
       "      <td>45309.303</td>\n",
       "      <td>31300.575</td>\n",
       "      <td>8847188.787</td>\n",
       "      <td>4795513.145</td>\n",
       "      <td>2016572.389</td>\n",
       "      <td>1301983.390</td>\n",
       "      <td>6189018.075</td>\n",
       "      <td>2237.565</td>\n",
       "      <td>1077.291</td>\n",
       "      <td>1450.675</td>\n",
       "      <td>79.778</td>\n",
       "      <td>0.332</td>\n",
       "      <td>74.277</td>\n",
       "    </tr>\n",
       "    <tr>\n",
       "      <th>min</th>\n",
       "      <td>0.000</td>\n",
       "      <td>0.000</td>\n",
       "      <td>0.000</td>\n",
       "      <td>-3504386.000</td>\n",
       "      <td>-102500.000</td>\n",
       "      <td>0.000</td>\n",
       "      <td>0.000</td>\n",
       "      <td>0.000</td>\n",
       "      <td>0.000</td>\n",
       "      <td>0.000</td>\n",
       "      <td>0.000</td>\n",
       "      <td>-2604490.000</td>\n",
       "      <td>-1787380.000</td>\n",
       "      <td>-44093.000</td>\n",
       "      <td>0.000</td>\n",
       "      <td>0.000</td>\n",
       "      <td>0.000</td>\n",
       "      <td>0.000</td>\n",
       "      <td>0.000</td>\n",
       "      <td>0.000</td>\n",
       "    </tr>\n",
       "    <tr>\n",
       "      <th>25%</th>\n",
       "      <td>0.000</td>\n",
       "      <td>0.000</td>\n",
       "      <td>0.000</td>\n",
       "      <td>-37086.000</td>\n",
       "      <td>0.000</td>\n",
       "      <td>0.000</td>\n",
       "      <td>0.000</td>\n",
       "      <td>0.000</td>\n",
       "      <td>0.000</td>\n",
       "      <td>90192.750</td>\n",
       "      <td>0.000</td>\n",
       "      <td>24345.000</td>\n",
       "      <td>0.000</td>\n",
       "      <td>244326.500</td>\n",
       "      <td>0.000</td>\n",
       "      <td>0.000</td>\n",
       "      <td>0.000</td>\n",
       "      <td>0.000</td>\n",
       "      <td>0.000</td>\n",
       "      <td>0.000</td>\n",
       "    </tr>\n",
       "    <tr>\n",
       "      <th>50%</th>\n",
       "      <td>210596.000</td>\n",
       "      <td>300000.000</td>\n",
       "      <td>0.000</td>\n",
       "      <td>0.000</td>\n",
       "      <td>0.000</td>\n",
       "      <td>0.000</td>\n",
       "      <td>919.000</td>\n",
       "      <td>20182.000</td>\n",
       "      <td>0.000</td>\n",
       "      <td>941359.500</td>\n",
       "      <td>608293.500</td>\n",
       "      <td>360528.000</td>\n",
       "      <td>0.000</td>\n",
       "      <td>965955.000</td>\n",
       "      <td>347.500</td>\n",
       "      <td>114.000</td>\n",
       "      <td>17.500</td>\n",
       "      <td>0.000</td>\n",
       "      <td>0.000</td>\n",
       "      <td>4.000</td>\n",
       "    </tr>\n",
       "    <tr>\n",
       "      <th>75%</th>\n",
       "      <td>269667.500</td>\n",
       "      <td>800000.000</td>\n",
       "      <td>374586.250</td>\n",
       "      <td>0.000</td>\n",
       "      <td>8535.500</td>\n",
       "      <td>0.000</td>\n",
       "      <td>148577.000</td>\n",
       "      <td>53328.250</td>\n",
       "      <td>0.000</td>\n",
       "      <td>1945668.250</td>\n",
       "      <td>1683580.250</td>\n",
       "      <td>737456.000</td>\n",
       "      <td>0.000</td>\n",
       "      <td>2295175.750</td>\n",
       "      <td>1623.000</td>\n",
       "      <td>933.750</td>\n",
       "      <td>53.000</td>\n",
       "      <td>14.000</td>\n",
       "      <td>0.000</td>\n",
       "      <td>41.250</td>\n",
       "    </tr>\n",
       "    <tr>\n",
       "      <th>max</th>\n",
       "      <td>1111258.000</td>\n",
       "      <td>8000000.000</td>\n",
       "      <td>5145434.000</td>\n",
       "      <td>0.000</td>\n",
       "      <td>6426990.000</td>\n",
       "      <td>81525000.000</td>\n",
       "      <td>10359729.000</td>\n",
       "      <td>228763.000</td>\n",
       "      <td>137864.000</td>\n",
       "      <td>103559793.000</td>\n",
       "      <td>34348384.000</td>\n",
       "      <td>14761694.000</td>\n",
       "      <td>15456290.000</td>\n",
       "      <td>49110078.000</td>\n",
       "      <td>15149.000</td>\n",
       "      <td>5521.000</td>\n",
       "      <td>14368.000</td>\n",
       "      <td>609.000</td>\n",
       "      <td>1.000</td>\n",
       "      <td>528.000</td>\n",
       "    </tr>\n",
       "  </tbody>\n",
       "</table>\n",
       "</div>"
      ],
      "text/plain": [
       "           salary       bonus  long_term_incentive  deferred_income  \\\n",
       "count     144.000     144.000              144.000          144.000   \n",
       "mean   185446.035  675997.354           336957.833      -193683.271   \n",
       "std    197042.124 1233155.256           687182.568       606011.135   \n",
       "min         0.000       0.000                0.000     -3504386.000   \n",
       "25%         0.000       0.000                0.000       -37086.000   \n",
       "50%    210596.000  300000.000                0.000            0.000   \n",
       "75%    269667.500  800000.000           374586.250            0.000   \n",
       "max   1111258.000 8000000.000          5145434.000            0.000   \n",
       "\n",
       "       deferral_payments  loan_advances        other   expenses  \\\n",
       "count            144.000        144.000      144.000    144.000   \n",
       "mean          222089.556     582812.500   294745.535  35375.340   \n",
       "std           754101.303    6794471.779  1131325.453  45309.303   \n",
       "min          -102500.000          0.000        0.000      0.000   \n",
       "25%                0.000          0.000        0.000      0.000   \n",
       "50%                0.000          0.000      919.000  20182.000   \n",
       "75%             8535.500          0.000   148577.000  53328.250   \n",
       "max          6426990.000   81525000.000 10359729.000 228763.000   \n",
       "\n",
       "       director_fees  total_payments  exercised_stock_options  \\\n",
       "count        144.000         144.000                  144.000   \n",
       "mean        9980.319     2256542.569              2075801.979   \n",
       "std        31300.575     8847188.787              4795513.145   \n",
       "min            0.000           0.000                    0.000   \n",
       "25%            0.000       90192.750                    0.000   \n",
       "50%            0.000      941359.500               608293.500   \n",
       "75%            0.000     1945668.250              1683580.250   \n",
       "max       137864.000   103559793.000             34348384.000   \n",
       "\n",
       "       restricted_stock  restricted_stock_deferred  total_stock_value  \\\n",
       "count           144.000                    144.000            144.000   \n",
       "mean         868536.292                  73417.903        2909785.611   \n",
       "std         2016572.389                1301983.390        6189018.075   \n",
       "min        -2604490.000               -1787380.000         -44093.000   \n",
       "25%           24345.000                      0.000         244326.500   \n",
       "50%          360528.000                      0.000         965955.000   \n",
       "75%          737456.000                      0.000        2295175.750   \n",
       "max        14761694.000               15456290.000       49110078.000   \n",
       "\n",
       "       to_messages  shared_receipt_with_poi  from_messages  \\\n",
       "count      144.000                  144.000        144.000   \n",
       "mean      1238.556                  702.611        363.583   \n",
       "std       2237.565                 1077.291       1450.675   \n",
       "min          0.000                    0.000          0.000   \n",
       "25%          0.000                    0.000          0.000   \n",
       "50%        347.500                  114.000         17.500   \n",
       "75%       1623.000                  933.750         53.000   \n",
       "max      15149.000                 5521.000      14368.000   \n",
       "\n",
       "       from_this_person_to_poi     poi  from_poi_to_this_person  \n",
       "count                  144.000 144.000                  144.000  \n",
       "mean                    24.625   0.125                   38.757  \n",
       "std                     79.778   0.332                   74.277  \n",
       "min                      0.000   0.000                    0.000  \n",
       "25%                      0.000   0.000                    0.000  \n",
       "50%                      0.000   0.000                    4.000  \n",
       "75%                     14.000   0.000                   41.250  \n",
       "max                    609.000   1.000                  528.000  "
      ]
     },
     "execution_count": 11,
     "metadata": {},
     "output_type": "execute_result"
    }
   ],
   "source": [
    "enron_data_df = enron_data_df.fillna(0)\n",
    "enron_data_df.describe()"
   ]
  },
  {
   "cell_type": "markdown",
   "metadata": {},
   "source": [
    "One thing that gets my attention is that *deferral_payments* has negative values, which should not be the case.\n",
    "\n",
    "Let's see who has this problem:"
   ]
  },
  {
   "cell_type": "code",
   "execution_count": 12,
   "metadata": {
    "collapsed": false
   },
   "outputs": [
    {
     "name": "stdout",
     "output_type": "stream",
     "text": [
      "BELFER ROBERT\n"
     ]
    }
   ],
   "source": [
    "for person in enron_data.keys():\n",
    "    if enron_data[person]['deferral_payments']<0:\n",
    "        print person"
   ]
  },
  {
   "cell_type": "markdown",
   "metadata": {},
   "source": [
    "Let's see the full data from this person:"
   ]
  },
  {
   "cell_type": "code",
   "execution_count": 13,
   "metadata": {
    "collapsed": false
   },
   "outputs": [
    {
     "data": {
      "text/plain": [
       "salary                            0.000\n",
       "bonus                             0.000\n",
       "long_term_incentive               0.000\n",
       "deferred_income                   0.000\n",
       "deferral_payments           -102500.000\n",
       "loan_advances                     0.000\n",
       "other                             0.000\n",
       "expenses                          0.000\n",
       "director_fees                  3285.000\n",
       "total_payments               102500.000\n",
       "exercised_stock_options        3285.000\n",
       "restricted_stock                  0.000\n",
       "restricted_stock_deferred     44093.000\n",
       "total_stock_value            -44093.000\n",
       "email_address                       NaN\n",
       "to_messages                       0.000\n",
       "shared_receipt_with_poi           0.000\n",
       "from_messages                     0.000\n",
       "from_this_person_to_poi           0.000\n",
       "poi                               0.000\n",
       "from_poi_to_this_person           0.000\n",
       "Name: BELFER ROBERT, dtype: object"
      ]
     },
     "execution_count": 13,
     "metadata": {},
     "output_type": "execute_result"
    }
   ],
   "source": [
    "enron_data_df.loc['BELFER ROBERT']"
   ]
  },
  {
   "cell_type": "markdown",
   "metadata": {},
   "source": [
    "By comparing with the PDF, I notice that the financial data is imported wrongly, with a shift in financial columns. You can see that *total_payments* should be 3285, but is listed as 102500, which is the value of the expenses..."
   ]
  },
  {
   "cell_type": "markdown",
   "metadata": {},
   "source": [
    "Before fixing it, I'll check if this happens more often. A way to check is re-create the *total_payments* by adding the other columns."
   ]
  },
  {
   "cell_type": "code",
   "execution_count": 14,
   "metadata": {
    "collapsed": false
   },
   "outputs": [],
   "source": [
    "enron_data_df['compute_total_payment'] = \\\n",
    "enron_data_df['salary'] + \\\n",
    "enron_data_df['bonus'] + \\\n",
    "enron_data_df['long_term_incentive'] + \\\n",
    "enron_data_df['deferred_income'] + \\\n",
    "enron_data_df['deferral_payments'] + \\\n",
    "enron_data_df['loan_advances'] + \\\n",
    "enron_data_df['other'] +  \\\n",
    "enron_data_df['expenses'] + \\\n",
    "enron_data_df['director_fees'] \n",
    "\n",
    "enron_data_df['compute_total_stock'] = \\\n",
    "enron_data_df['exercised_stock_options'] + \\\n",
    "enron_data_df['restricted_stock'] + \\\n",
    "enron_data_df['restricted_stock_deferred'] \n",
    "\n",
    "\n",
    "enron_data_df['check_total_payment'] = enron_data_df['compute_total_payment'] == enron_data_df['total_payments']\n",
    "enron_data_df['check_total_stock'] = enron_data_df['compute_total_stock'] == enron_data_df['total_stock_value']\n"
   ]
  },
  {
   "cell_type": "code",
   "execution_count": 15,
   "metadata": {
    "collapsed": false
   },
   "outputs": [
    {
     "data": {
      "text/html": [
       "<div>\n",
       "<table border=\"1\" class=\"dataframe\">\n",
       "  <thead>\n",
       "    <tr style=\"text-align: right;\">\n",
       "      <th></th>\n",
       "      <th>salary</th>\n",
       "      <th>bonus</th>\n",
       "      <th>long_term_incentive</th>\n",
       "      <th>deferred_income</th>\n",
       "      <th>deferral_payments</th>\n",
       "      <th>loan_advances</th>\n",
       "      <th>other</th>\n",
       "      <th>expenses</th>\n",
       "      <th>director_fees</th>\n",
       "      <th>total_payments</th>\n",
       "      <th>...</th>\n",
       "      <th>to_messages</th>\n",
       "      <th>shared_receipt_with_poi</th>\n",
       "      <th>from_messages</th>\n",
       "      <th>from_this_person_to_poi</th>\n",
       "      <th>poi</th>\n",
       "      <th>from_poi_to_this_person</th>\n",
       "      <th>compute_total_payment</th>\n",
       "      <th>compute_total_stock</th>\n",
       "      <th>check_total_payment</th>\n",
       "      <th>check_total_stock</th>\n",
       "    </tr>\n",
       "  </thead>\n",
       "  <tbody>\n",
       "    <tr>\n",
       "      <th>BELFER ROBERT</th>\n",
       "      <td>0.000</td>\n",
       "      <td>0.000</td>\n",
       "      <td>0.000</td>\n",
       "      <td>0.000</td>\n",
       "      <td>-102500.000</td>\n",
       "      <td>0.000</td>\n",
       "      <td>0.000</td>\n",
       "      <td>0.000</td>\n",
       "      <td>3285.000</td>\n",
       "      <td>102500.000</td>\n",
       "      <td>...</td>\n",
       "      <td>0.000</td>\n",
       "      <td>0.000</td>\n",
       "      <td>0.000</td>\n",
       "      <td>0.000</td>\n",
       "      <td>0.000</td>\n",
       "      <td>0.000</td>\n",
       "      <td>-99215.000</td>\n",
       "      <td>47378.000</td>\n",
       "      <td>False</td>\n",
       "      <td>False</td>\n",
       "    </tr>\n",
       "    <tr>\n",
       "      <th>BHATNAGAR SANJAY</th>\n",
       "      <td>0.000</td>\n",
       "      <td>0.000</td>\n",
       "      <td>0.000</td>\n",
       "      <td>0.000</td>\n",
       "      <td>0.000</td>\n",
       "      <td>0.000</td>\n",
       "      <td>137864.000</td>\n",
       "      <td>0.000</td>\n",
       "      <td>137864.000</td>\n",
       "      <td>15456290.000</td>\n",
       "      <td>...</td>\n",
       "      <td>523.000</td>\n",
       "      <td>463.000</td>\n",
       "      <td>29.000</td>\n",
       "      <td>1.000</td>\n",
       "      <td>0.000</td>\n",
       "      <td>0.000</td>\n",
       "      <td>275728.000</td>\n",
       "      <td>15456290.000</td>\n",
       "      <td>False</td>\n",
       "      <td>False</td>\n",
       "    </tr>\n",
       "  </tbody>\n",
       "</table>\n",
       "<p>2 rows × 25 columns</p>\n",
       "</div>"
      ],
      "text/plain": [
       "                  salary  bonus  long_term_incentive  deferred_income  \\\n",
       "BELFER ROBERT      0.000  0.000                0.000            0.000   \n",
       "BHATNAGAR SANJAY   0.000  0.000                0.000            0.000   \n",
       "\n",
       "                  deferral_payments  loan_advances      other  expenses  \\\n",
       "BELFER ROBERT           -102500.000          0.000      0.000     0.000   \n",
       "BHATNAGAR SANJAY              0.000          0.000 137864.000     0.000   \n",
       "\n",
       "                  director_fees  total_payments        ...          \\\n",
       "BELFER ROBERT          3285.000      102500.000        ...           \n",
       "BHATNAGAR SANJAY     137864.000    15456290.000        ...           \n",
       "\n",
       "                  to_messages  shared_receipt_with_poi  from_messages  \\\n",
       "BELFER ROBERT           0.000                    0.000          0.000   \n",
       "BHATNAGAR SANJAY      523.000                  463.000         29.000   \n",
       "\n",
       "                  from_this_person_to_poi   poi  from_poi_to_this_person  \\\n",
       "BELFER ROBERT                       0.000 0.000                    0.000   \n",
       "BHATNAGAR SANJAY                    1.000 0.000                    0.000   \n",
       "\n",
       "                  compute_total_payment  compute_total_stock  \\\n",
       "BELFER ROBERT                -99215.000            47378.000   \n",
       "BHATNAGAR SANJAY             275728.000         15456290.000   \n",
       "\n",
       "                  check_total_payment  check_total_stock  \n",
       "BELFER ROBERT                   False              False  \n",
       "BHATNAGAR SANJAY                False              False  \n",
       "\n",
       "[2 rows x 25 columns]"
      ]
     },
     "execution_count": 15,
     "metadata": {},
     "output_type": "execute_result"
    }
   ],
   "source": [
    "enron_data_df[enron_data_df['check_total_payment']==0]"
   ]
  },
  {
   "cell_type": "code",
   "execution_count": 16,
   "metadata": {
    "collapsed": false
   },
   "outputs": [
    {
     "data": {
      "text/html": [
       "<div>\n",
       "<table border=\"1\" class=\"dataframe\">\n",
       "  <thead>\n",
       "    <tr style=\"text-align: right;\">\n",
       "      <th></th>\n",
       "      <th>salary</th>\n",
       "      <th>bonus</th>\n",
       "      <th>long_term_incentive</th>\n",
       "      <th>deferred_income</th>\n",
       "      <th>deferral_payments</th>\n",
       "      <th>loan_advances</th>\n",
       "      <th>other</th>\n",
       "      <th>expenses</th>\n",
       "      <th>director_fees</th>\n",
       "      <th>total_payments</th>\n",
       "      <th>...</th>\n",
       "      <th>to_messages</th>\n",
       "      <th>shared_receipt_with_poi</th>\n",
       "      <th>from_messages</th>\n",
       "      <th>from_this_person_to_poi</th>\n",
       "      <th>poi</th>\n",
       "      <th>from_poi_to_this_person</th>\n",
       "      <th>compute_total_payment</th>\n",
       "      <th>compute_total_stock</th>\n",
       "      <th>check_total_payment</th>\n",
       "      <th>check_total_stock</th>\n",
       "    </tr>\n",
       "  </thead>\n",
       "  <tbody>\n",
       "    <tr>\n",
       "      <th>BELFER ROBERT</th>\n",
       "      <td>0.000</td>\n",
       "      <td>0.000</td>\n",
       "      <td>0.000</td>\n",
       "      <td>0.000</td>\n",
       "      <td>-102500.000</td>\n",
       "      <td>0.000</td>\n",
       "      <td>0.000</td>\n",
       "      <td>0.000</td>\n",
       "      <td>3285.000</td>\n",
       "      <td>102500.000</td>\n",
       "      <td>...</td>\n",
       "      <td>0.000</td>\n",
       "      <td>0.000</td>\n",
       "      <td>0.000</td>\n",
       "      <td>0.000</td>\n",
       "      <td>0.000</td>\n",
       "      <td>0.000</td>\n",
       "      <td>-99215.000</td>\n",
       "      <td>47378.000</td>\n",
       "      <td>False</td>\n",
       "      <td>False</td>\n",
       "    </tr>\n",
       "    <tr>\n",
       "      <th>BHATNAGAR SANJAY</th>\n",
       "      <td>0.000</td>\n",
       "      <td>0.000</td>\n",
       "      <td>0.000</td>\n",
       "      <td>0.000</td>\n",
       "      <td>0.000</td>\n",
       "      <td>0.000</td>\n",
       "      <td>137864.000</td>\n",
       "      <td>0.000</td>\n",
       "      <td>137864.000</td>\n",
       "      <td>15456290.000</td>\n",
       "      <td>...</td>\n",
       "      <td>523.000</td>\n",
       "      <td>463.000</td>\n",
       "      <td>29.000</td>\n",
       "      <td>1.000</td>\n",
       "      <td>0.000</td>\n",
       "      <td>0.000</td>\n",
       "      <td>275728.000</td>\n",
       "      <td>15456290.000</td>\n",
       "      <td>False</td>\n",
       "      <td>False</td>\n",
       "    </tr>\n",
       "  </tbody>\n",
       "</table>\n",
       "<p>2 rows × 25 columns</p>\n",
       "</div>"
      ],
      "text/plain": [
       "                  salary  bonus  long_term_incentive  deferred_income  \\\n",
       "BELFER ROBERT      0.000  0.000                0.000            0.000   \n",
       "BHATNAGAR SANJAY   0.000  0.000                0.000            0.000   \n",
       "\n",
       "                  deferral_payments  loan_advances      other  expenses  \\\n",
       "BELFER ROBERT           -102500.000          0.000      0.000     0.000   \n",
       "BHATNAGAR SANJAY              0.000          0.000 137864.000     0.000   \n",
       "\n",
       "                  director_fees  total_payments        ...          \\\n",
       "BELFER ROBERT          3285.000      102500.000        ...           \n",
       "BHATNAGAR SANJAY     137864.000    15456290.000        ...           \n",
       "\n",
       "                  to_messages  shared_receipt_with_poi  from_messages  \\\n",
       "BELFER ROBERT           0.000                    0.000          0.000   \n",
       "BHATNAGAR SANJAY      523.000                  463.000         29.000   \n",
       "\n",
       "                  from_this_person_to_poi   poi  from_poi_to_this_person  \\\n",
       "BELFER ROBERT                       0.000 0.000                    0.000   \n",
       "BHATNAGAR SANJAY                    1.000 0.000                    0.000   \n",
       "\n",
       "                  compute_total_payment  compute_total_stock  \\\n",
       "BELFER ROBERT                -99215.000            47378.000   \n",
       "BHATNAGAR SANJAY             275728.000         15456290.000   \n",
       "\n",
       "                  check_total_payment  check_total_stock  \n",
       "BELFER ROBERT                   False              False  \n",
       "BHATNAGAR SANJAY                False              False  \n",
       "\n",
       "[2 rows x 25 columns]"
      ]
     },
     "execution_count": 16,
     "metadata": {},
     "output_type": "execute_result"
    }
   ],
   "source": [
    "enron_data_df[enron_data_df['check_total_stock']==0]"
   ]
  },
  {
   "cell_type": "markdown",
   "metadata": {},
   "source": [
    "Therefore, besides *BELFER ROBERT* I see the problem also with *BHATNAGAR SANJAY*.\n",
    "\n",
    "Let's print the full data for this person also."
   ]
  },
  {
   "cell_type": "code",
   "execution_count": 17,
   "metadata": {
    "collapsed": false
   },
   "outputs": [
    {
     "data": {
      "text/plain": [
       "salary                                            0.000\n",
       "bonus                                             0.000\n",
       "long_term_incentive                               0.000\n",
       "deferred_income                                   0.000\n",
       "deferral_payments                                 0.000\n",
       "loan_advances                                     0.000\n",
       "other                                        137864.000\n",
       "expenses                                          0.000\n",
       "director_fees                                137864.000\n",
       "total_payments                             15456290.000\n",
       "exercised_stock_options                     2604490.000\n",
       "restricted_stock                           -2604490.000\n",
       "restricted_stock_deferred                  15456290.000\n",
       "total_stock_value                                 0.000\n",
       "email_address                sanjay.bhatnagar@enron.com\n",
       "to_messages                                     523.000\n",
       "shared_receipt_with_poi                         463.000\n",
       "from_messages                                    29.000\n",
       "from_this_person_to_poi                           1.000\n",
       "poi                                               0.000\n",
       "from_poi_to_this_person                           0.000\n",
       "compute_total_payment                        275728.000\n",
       "compute_total_stock                        15456290.000\n",
       "check_total_payment                               False\n",
       "check_total_stock                                 False\n",
       "Name: BHATNAGAR SANJAY, dtype: object"
      ]
     },
     "execution_count": 17,
     "metadata": {},
     "output_type": "execute_result"
    }
   ],
   "source": [
    "enron_data_df.loc['BHATNAGAR SANJAY']"
   ]
  },
  {
   "cell_type": "markdown",
   "metadata": {},
   "source": [
    "Both cases have a shift in the financial columns. Let's fix this manually in the data dictionary."
   ]
  },
  {
   "cell_type": "code",
   "execution_count": 18,
   "metadata": {
    "collapsed": false
   },
   "outputs": [],
   "source": [
    "enron_data['BHATNAGAR SANJAY'] = {'bonus': 'NaN',\n",
    " 'deferral_payments': 'NaN',\n",
    " 'deferred_income': 'NaN',\n",
    " 'director_fees': 'NaN',\n",
    " 'email_address': 'sanjay.bhatnagar@enron.com',\n",
    " 'exercised_stock_options': 15456290,\n",
    " 'expenses': 137864,\n",
    " 'from_messages': 29,\n",
    " 'from_poi_to_this_person': 0,\n",
    " 'from_this_person_to_poi': 1,\n",
    " 'loan_advances': 'NaN',\n",
    " 'long_term_incentive': 'NaN',\n",
    " 'other': 'NaN',\n",
    " 'poi': False,\n",
    " 'restricted_stock': 2604490,\n",
    " 'restricted_stock_deferred': -2604490,\n",
    " 'salary': 'NaN',\n",
    " 'shared_receipt_with_poi': 463,\n",
    " 'to_messages': 523,\n",
    " 'total_payments': 137864,\n",
    " 'total_stock_value': 15456290}"
   ]
  },
  {
   "cell_type": "code",
   "execution_count": 19,
   "metadata": {
    "collapsed": false
   },
   "outputs": [],
   "source": [
    "enron_data['BELFER ROBERT'] ={'bonus': 'NaN',\n",
    " 'deferral_payments': 'NaN',\n",
    " 'deferred_income': -102500,\n",
    " 'director_fees': 102500 ,\n",
    " 'email_address': 'NaN',\n",
    " 'exercised_stock_options': 'NaN' ,\n",
    " 'expenses': 3285,\n",
    " 'from_messages': 'NaN',\n",
    " 'from_poi_to_this_person': 'NaN',\n",
    " 'from_this_person_to_poi': 'NaN',\n",
    " 'loan_advances': 'NaN',\n",
    " 'long_term_incentive': 'NaN',\n",
    " 'other': 'NaN',\n",
    " 'poi': False,\n",
    " 'restricted_stock': 44093,\n",
    " 'restricted_stock_deferred': -44093,\n",
    " 'salary': 'NaN',\n",
    " 'shared_receipt_with_poi': 'NaN',\n",
    " 'to_messages': 'NaN',\n",
    " 'total_payments': 3285,\n",
    " 'total_stock_value': 'NaN'}"
   ]
  },
  {
   "cell_type": "markdown",
   "metadata": {},
   "source": [
    "Let's re-import and double check."
   ]
  },
  {
   "cell_type": "code",
   "execution_count": 20,
   "metadata": {
    "collapsed": true
   },
   "outputs": [],
   "source": [
    "# Convert dictionary to DataFrame\n",
    "enron_data_df = pd.DataFrame.from_dict(enron_data, orient = 'index', dtype = float)\n",
    "\n",
    "# re-order columns\n",
    "enron_data_df = enron_data_df[\n",
    "['salary',\n",
    "'bonus',\n",
    "'long_term_incentive',\n",
    "'deferred_income',\n",
    "'deferral_payments',\n",
    "'loan_advances',\n",
    "'other',\n",
    "'expenses',\n",
    "'director_fees',\n",
    "'total_payments',\n",
    " 'exercised_stock_options',\n",
    "'restricted_stock',\n",
    " 'restricted_stock_deferred',\n",
    " 'total_stock_value',\n",
    " 'email_address',\n",
    " 'to_messages',\n",
    " 'shared_receipt_with_poi',\n",
    " 'from_messages',\n",
    " 'from_this_person_to_poi',\n",
    " 'poi',\n",
    " 'from_poi_to_this_person']]"
   ]
  },
  {
   "cell_type": "code",
   "execution_count": 21,
   "metadata": {
    "collapsed": false
   },
   "outputs": [
    {
     "data": {
      "text/html": [
       "<div>\n",
       "<table border=\"1\" class=\"dataframe\">\n",
       "  <thead>\n",
       "    <tr style=\"text-align: right;\">\n",
       "      <th></th>\n",
       "      <th>salary</th>\n",
       "      <th>bonus</th>\n",
       "      <th>long_term_incentive</th>\n",
       "      <th>deferred_income</th>\n",
       "      <th>deferral_payments</th>\n",
       "      <th>loan_advances</th>\n",
       "      <th>other</th>\n",
       "      <th>expenses</th>\n",
       "      <th>director_fees</th>\n",
       "      <th>total_payments</th>\n",
       "      <th>exercised_stock_options</th>\n",
       "      <th>restricted_stock</th>\n",
       "      <th>restricted_stock_deferred</th>\n",
       "      <th>total_stock_value</th>\n",
       "      <th>to_messages</th>\n",
       "      <th>shared_receipt_with_poi</th>\n",
       "      <th>from_messages</th>\n",
       "      <th>from_this_person_to_poi</th>\n",
       "      <th>poi</th>\n",
       "      <th>from_poi_to_this_person</th>\n",
       "    </tr>\n",
       "  </thead>\n",
       "  <tbody>\n",
       "    <tr>\n",
       "      <th>count</th>\n",
       "      <td>144.000</td>\n",
       "      <td>144.000</td>\n",
       "      <td>144.000</td>\n",
       "      <td>144.000</td>\n",
       "      <td>144.000</td>\n",
       "      <td>144.000</td>\n",
       "      <td>144.000</td>\n",
       "      <td>144.000</td>\n",
       "      <td>144.000</td>\n",
       "      <td>144.000</td>\n",
       "      <td>144.000</td>\n",
       "      <td>144.000</td>\n",
       "      <td>144.000</td>\n",
       "      <td>144.000</td>\n",
       "      <td>144.000</td>\n",
       "      <td>144.000</td>\n",
       "      <td>144.000</td>\n",
       "      <td>144.000</td>\n",
       "      <td>144.000</td>\n",
       "      <td>144.000</td>\n",
       "    </tr>\n",
       "    <tr>\n",
       "      <th>mean</th>\n",
       "      <td>185446.035</td>\n",
       "      <td>675997.354</td>\n",
       "      <td>336957.833</td>\n",
       "      <td>-194395.076</td>\n",
       "      <td>222801.361</td>\n",
       "      <td>582812.500</td>\n",
       "      <td>293788.146</td>\n",
       "      <td>36355.542</td>\n",
       "      <td>9711.924</td>\n",
       "      <td>2149475.618</td>\n",
       "      <td>2165027.778</td>\n",
       "      <td>905015.965</td>\n",
       "      <td>-52616.583</td>\n",
       "      <td>3017427.160</td>\n",
       "      <td>1238.556</td>\n",
       "      <td>702.611</td>\n",
       "      <td>363.583</td>\n",
       "      <td>24.625</td>\n",
       "      <td>0.125</td>\n",
       "      <td>38.757</td>\n",
       "    </tr>\n",
       "    <tr>\n",
       "      <th>std</th>\n",
       "      <td>197042.124</td>\n",
       "      <td>1233155.256</td>\n",
       "      <td>687182.568</td>\n",
       "      <td>605842.222</td>\n",
       "      <td>753841.107</td>\n",
       "      <td>6794471.779</td>\n",
       "      <td>1131517.461</td>\n",
       "      <td>45990.417</td>\n",
       "      <td>30422.535</td>\n",
       "      <td>8779364.388</td>\n",
       "      <td>4923320.048</td>\n",
       "      <td>2000356.656</td>\n",
       "      <td>273183.474</td>\n",
       "      <td>6271527.950</td>\n",
       "      <td>2237.565</td>\n",
       "      <td>1077.291</td>\n",
       "      <td>1450.675</td>\n",
       "      <td>79.778</td>\n",
       "      <td>0.332</td>\n",
       "      <td>74.277</td>\n",
       "    </tr>\n",
       "    <tr>\n",
       "      <th>min</th>\n",
       "      <td>0.000</td>\n",
       "      <td>0.000</td>\n",
       "      <td>0.000</td>\n",
       "      <td>-3504386.000</td>\n",
       "      <td>0.000</td>\n",
       "      <td>0.000</td>\n",
       "      <td>0.000</td>\n",
       "      <td>0.000</td>\n",
       "      <td>0.000</td>\n",
       "      <td>0.000</td>\n",
       "      <td>0.000</td>\n",
       "      <td>0.000</td>\n",
       "      <td>-2604490.000</td>\n",
       "      <td>0.000</td>\n",
       "      <td>0.000</td>\n",
       "      <td>0.000</td>\n",
       "      <td>0.000</td>\n",
       "      <td>0.000</td>\n",
       "      <td>0.000</td>\n",
       "      <td>0.000</td>\n",
       "    </tr>\n",
       "    <tr>\n",
       "      <th>25%</th>\n",
       "      <td>0.000</td>\n",
       "      <td>0.000</td>\n",
       "      <td>0.000</td>\n",
       "      <td>-39072.000</td>\n",
       "      <td>0.000</td>\n",
       "      <td>0.000</td>\n",
       "      <td>0.000</td>\n",
       "      <td>0.000</td>\n",
       "      <td>0.000</td>\n",
       "      <td>87471.500</td>\n",
       "      <td>0.000</td>\n",
       "      <td>44093.000</td>\n",
       "      <td>0.000</td>\n",
       "      <td>256376.500</td>\n",
       "      <td>0.000</td>\n",
       "      <td>0.000</td>\n",
       "      <td>0.000</td>\n",
       "      <td>0.000</td>\n",
       "      <td>0.000</td>\n",
       "      <td>0.000</td>\n",
       "    </tr>\n",
       "    <tr>\n",
       "      <th>50%</th>\n",
       "      <td>210596.000</td>\n",
       "      <td>300000.000</td>\n",
       "      <td>0.000</td>\n",
       "      <td>0.000</td>\n",
       "      <td>0.000</td>\n",
       "      <td>0.000</td>\n",
       "      <td>882.500</td>\n",
       "      <td>21937.000</td>\n",
       "      <td>0.000</td>\n",
       "      <td>913825.000</td>\n",
       "      <td>608293.500</td>\n",
       "      <td>361978.000</td>\n",
       "      <td>0.000</td>\n",
       "      <td>980534.500</td>\n",
       "      <td>347.500</td>\n",
       "      <td>114.000</td>\n",
       "      <td>17.500</td>\n",
       "      <td>0.000</td>\n",
       "      <td>0.000</td>\n",
       "      <td>4.000</td>\n",
       "    </tr>\n",
       "    <tr>\n",
       "      <th>75%</th>\n",
       "      <td>269667.500</td>\n",
       "      <td>800000.000</td>\n",
       "      <td>374586.250</td>\n",
       "      <td>0.000</td>\n",
       "      <td>8535.500</td>\n",
       "      <td>0.000</td>\n",
       "      <td>148577.000</td>\n",
       "      <td>54234.500</td>\n",
       "      <td>0.000</td>\n",
       "      <td>1885158.250</td>\n",
       "      <td>1683580.250</td>\n",
       "      <td>857103.000</td>\n",
       "      <td>0.000</td>\n",
       "      <td>2372703.250</td>\n",
       "      <td>1623.000</td>\n",
       "      <td>933.750</td>\n",
       "      <td>53.000</td>\n",
       "      <td>14.000</td>\n",
       "      <td>0.000</td>\n",
       "      <td>41.250</td>\n",
       "    </tr>\n",
       "    <tr>\n",
       "      <th>max</th>\n",
       "      <td>1111258.000</td>\n",
       "      <td>8000000.000</td>\n",
       "      <td>5145434.000</td>\n",
       "      <td>0.000</td>\n",
       "      <td>6426990.000</td>\n",
       "      <td>81525000.000</td>\n",
       "      <td>10359729.000</td>\n",
       "      <td>228763.000</td>\n",
       "      <td>125034.000</td>\n",
       "      <td>103559793.000</td>\n",
       "      <td>34348384.000</td>\n",
       "      <td>14761694.000</td>\n",
       "      <td>0.000</td>\n",
       "      <td>49110078.000</td>\n",
       "      <td>15149.000</td>\n",
       "      <td>5521.000</td>\n",
       "      <td>14368.000</td>\n",
       "      <td>609.000</td>\n",
       "      <td>1.000</td>\n",
       "      <td>528.000</td>\n",
       "    </tr>\n",
       "  </tbody>\n",
       "</table>\n",
       "</div>"
      ],
      "text/plain": [
       "           salary       bonus  long_term_incentive  deferred_income  \\\n",
       "count     144.000     144.000              144.000          144.000   \n",
       "mean   185446.035  675997.354           336957.833      -194395.076   \n",
       "std    197042.124 1233155.256           687182.568       605842.222   \n",
       "min         0.000       0.000                0.000     -3504386.000   \n",
       "25%         0.000       0.000                0.000       -39072.000   \n",
       "50%    210596.000  300000.000                0.000            0.000   \n",
       "75%    269667.500  800000.000           374586.250            0.000   \n",
       "max   1111258.000 8000000.000          5145434.000            0.000   \n",
       "\n",
       "       deferral_payments  loan_advances        other   expenses  \\\n",
       "count            144.000        144.000      144.000    144.000   \n",
       "mean          222801.361     582812.500   293788.146  36355.542   \n",
       "std           753841.107    6794471.779  1131517.461  45990.417   \n",
       "min                0.000          0.000        0.000      0.000   \n",
       "25%                0.000          0.000        0.000      0.000   \n",
       "50%                0.000          0.000      882.500  21937.000   \n",
       "75%             8535.500          0.000   148577.000  54234.500   \n",
       "max          6426990.000   81525000.000 10359729.000 228763.000   \n",
       "\n",
       "       director_fees  total_payments  exercised_stock_options  \\\n",
       "count        144.000         144.000                  144.000   \n",
       "mean        9711.924     2149475.618              2165027.778   \n",
       "std        30422.535     8779364.388              4923320.048   \n",
       "min            0.000           0.000                    0.000   \n",
       "25%            0.000       87471.500                    0.000   \n",
       "50%            0.000      913825.000               608293.500   \n",
       "75%            0.000     1885158.250              1683580.250   \n",
       "max       125034.000   103559793.000             34348384.000   \n",
       "\n",
       "       restricted_stock  restricted_stock_deferred  total_stock_value  \\\n",
       "count           144.000                    144.000            144.000   \n",
       "mean         905015.965                 -52616.583        3017427.160   \n",
       "std         2000356.656                 273183.474        6271527.950   \n",
       "min               0.000               -2604490.000              0.000   \n",
       "25%           44093.000                      0.000         256376.500   \n",
       "50%          361978.000                      0.000         980534.500   \n",
       "75%          857103.000                      0.000        2372703.250   \n",
       "max        14761694.000                      0.000       49110078.000   \n",
       "\n",
       "       to_messages  shared_receipt_with_poi  from_messages  \\\n",
       "count      144.000                  144.000        144.000   \n",
       "mean      1238.556                  702.611        363.583   \n",
       "std       2237.565                 1077.291       1450.675   \n",
       "min          0.000                    0.000          0.000   \n",
       "25%          0.000                    0.000          0.000   \n",
       "50%        347.500                  114.000         17.500   \n",
       "75%       1623.000                  933.750         53.000   \n",
       "max      15149.000                 5521.000      14368.000   \n",
       "\n",
       "       from_this_person_to_poi     poi  from_poi_to_this_person  \n",
       "count                  144.000 144.000                  144.000  \n",
       "mean                    24.625   0.125                   38.757  \n",
       "std                     79.778   0.332                   74.277  \n",
       "min                      0.000   0.000                    0.000  \n",
       "25%                      0.000   0.000                    0.000  \n",
       "50%                      0.000   0.000                    4.000  \n",
       "75%                     14.000   0.000                   41.250  \n",
       "max                    609.000   1.000                  528.000  "
      ]
     },
     "execution_count": 21,
     "metadata": {},
     "output_type": "execute_result"
    }
   ],
   "source": [
    "enron_data_df = enron_data_df.fillna(0)\n",
    "enron_data_df.describe()"
   ]
  },
  {
   "cell_type": "code",
   "execution_count": 22,
   "metadata": {
    "collapsed": true
   },
   "outputs": [],
   "source": [
    "enron_data_df['compute_total_payment'] = \\\n",
    "enron_data_df['salary'] + \\\n",
    "enron_data_df['bonus'] + \\\n",
    "enron_data_df['long_term_incentive'] + \\\n",
    "enron_data_df['deferred_income'] + \\\n",
    "enron_data_df['deferral_payments'] + \\\n",
    "enron_data_df['loan_advances'] + \\\n",
    "enron_data_df['other'] +  \\\n",
    "enron_data_df['expenses'] + \\\n",
    "enron_data_df['director_fees'] \n",
    "\n",
    "enron_data_df['compute_total_stock'] = \\\n",
    "enron_data_df['exercised_stock_options'] + \\\n",
    "enron_data_df['restricted_stock'] + \\\n",
    "enron_data_df['restricted_stock_deferred'] \n",
    "\n",
    "\n",
    "enron_data_df['check_total_payment'] = enron_data_df['compute_total_payment'] == enron_data_df['total_payments']\n",
    "enron_data_df['check_total_stock'] = enron_data_df['compute_total_stock'] == enron_data_df['total_stock_value']"
   ]
  },
  {
   "cell_type": "code",
   "execution_count": 23,
   "metadata": {
    "collapsed": false
   },
   "outputs": [
    {
     "data": {
      "text/html": [
       "<div>\n",
       "<table border=\"1\" class=\"dataframe\">\n",
       "  <thead>\n",
       "    <tr style=\"text-align: right;\">\n",
       "      <th></th>\n",
       "      <th>salary</th>\n",
       "      <th>bonus</th>\n",
       "      <th>long_term_incentive</th>\n",
       "      <th>deferred_income</th>\n",
       "      <th>deferral_payments</th>\n",
       "      <th>loan_advances</th>\n",
       "      <th>other</th>\n",
       "      <th>expenses</th>\n",
       "      <th>director_fees</th>\n",
       "      <th>total_payments</th>\n",
       "      <th>...</th>\n",
       "      <th>to_messages</th>\n",
       "      <th>shared_receipt_with_poi</th>\n",
       "      <th>from_messages</th>\n",
       "      <th>from_this_person_to_poi</th>\n",
       "      <th>poi</th>\n",
       "      <th>from_poi_to_this_person</th>\n",
       "      <th>compute_total_payment</th>\n",
       "      <th>compute_total_stock</th>\n",
       "      <th>check_total_payment</th>\n",
       "      <th>check_total_stock</th>\n",
       "    </tr>\n",
       "  </thead>\n",
       "  <tbody>\n",
       "  </tbody>\n",
       "</table>\n",
       "<p>0 rows × 25 columns</p>\n",
       "</div>"
      ],
      "text/plain": [
       "Empty DataFrame\n",
       "Columns: [salary, bonus, long_term_incentive, deferred_income, deferral_payments, loan_advances, other, expenses, director_fees, total_payments, exercised_stock_options, restricted_stock, restricted_stock_deferred, total_stock_value, email_address, to_messages, shared_receipt_with_poi, from_messages, from_this_person_to_poi, poi, from_poi_to_this_person, compute_total_payment, compute_total_stock, check_total_payment, check_total_stock]\n",
       "Index: []\n",
       "\n",
       "[0 rows x 25 columns]"
      ]
     },
     "execution_count": 23,
     "metadata": {},
     "output_type": "execute_result"
    }
   ],
   "source": [
    "enron_data_df[enron_data_df['check_total_payment']==0]"
   ]
  },
  {
   "cell_type": "code",
   "execution_count": 24,
   "metadata": {
    "collapsed": false
   },
   "outputs": [
    {
     "data": {
      "text/html": [
       "<div>\n",
       "<table border=\"1\" class=\"dataframe\">\n",
       "  <thead>\n",
       "    <tr style=\"text-align: right;\">\n",
       "      <th></th>\n",
       "      <th>salary</th>\n",
       "      <th>bonus</th>\n",
       "      <th>long_term_incentive</th>\n",
       "      <th>deferred_income</th>\n",
       "      <th>deferral_payments</th>\n",
       "      <th>loan_advances</th>\n",
       "      <th>other</th>\n",
       "      <th>expenses</th>\n",
       "      <th>director_fees</th>\n",
       "      <th>total_payments</th>\n",
       "      <th>...</th>\n",
       "      <th>to_messages</th>\n",
       "      <th>shared_receipt_with_poi</th>\n",
       "      <th>from_messages</th>\n",
       "      <th>from_this_person_to_poi</th>\n",
       "      <th>poi</th>\n",
       "      <th>from_poi_to_this_person</th>\n",
       "      <th>compute_total_payment</th>\n",
       "      <th>compute_total_stock</th>\n",
       "      <th>check_total_payment</th>\n",
       "      <th>check_total_stock</th>\n",
       "    </tr>\n",
       "  </thead>\n",
       "  <tbody>\n",
       "  </tbody>\n",
       "</table>\n",
       "<p>0 rows × 25 columns</p>\n",
       "</div>"
      ],
      "text/plain": [
       "Empty DataFrame\n",
       "Columns: [salary, bonus, long_term_incentive, deferred_income, deferral_payments, loan_advances, other, expenses, director_fees, total_payments, exercised_stock_options, restricted_stock, restricted_stock_deferred, total_stock_value, email_address, to_messages, shared_receipt_with_poi, from_messages, from_this_person_to_poi, poi, from_poi_to_this_person, compute_total_payment, compute_total_stock, check_total_payment, check_total_stock]\n",
       "Index: []\n",
       "\n",
       "[0 rows x 25 columns]"
      ]
     },
     "execution_count": 24,
     "metadata": {},
     "output_type": "execute_result"
    }
   ],
   "source": [
    "enron_data_df[enron_data_df['check_total_stock']==0]"
   ]
  },
  {
   "cell_type": "markdown",
   "metadata": {},
   "source": [
    "The problem with shift is solved and all data points are at least internally consistent."
   ]
  },
  {
   "cell_type": "markdown",
   "metadata": {},
   "source": [
    "### Value outliers"
   ]
  },
  {
   "cell_type": "markdown",
   "metadata": {},
   "source": [
    "Now I'll check variable by variable which values fall too far from the median. "
   ]
  },
  {
   "cell_type": "markdown",
   "metadata": {},
   "source": [
    "I'll ignore the 0s, in order to spot outliers more easily\n",
    "\n",
    "In this code I go through each colum and find the persons with values outside the extended IQR, as per John Tukey's method. I used a very conservative factor of 2 to spot the extreme outliers.\n",
    "\n",
    "I count how often a person shows up as an outlier, and print this list below."
   ]
  },
  {
   "cell_type": "code",
   "execution_count": 25,
   "metadata": {
    "collapsed": false
   },
   "outputs": [
    {
     "name": "stdout",
     "output_type": "stream",
     "text": [
      "salary: 7\n",
      "BANNANTINE JAMES M       477.000\n",
      "GRAY RODNEY             6615.000\n",
      "WHALLEY LAWRENCE G    510364.000\n",
      "PICKERING MARK R      655037.000\n",
      "FREVERT MARK A       1060932.000\n",
      "LAY KENNETH L        1072321.000\n",
      "SKILLING JEFFREY K   1111258.000\n",
      "Name: salary, dtype: float64\n",
      "\n",
      "bonus: 8\n",
      "DELAINEY DAVID W     3000000.000\n",
      "WHALLEY LAWRENCE G   3000000.000\n",
      "KITCHEN LOUISE       3100000.000\n",
      "ALLEN PHILLIP K      4175000.000\n",
      "BELDEN TIMOTHY N     5249999.000\n",
      "SKILLING JEFFREY K   5600000.000\n",
      "LAY KENNETH L        7000000.000\n",
      "LAVORATO JOHN J      8000000.000\n",
      "Name: bonus, dtype: float64\n",
      "\n",
      "long_term_incentive: 4\n",
      "LAVORATO JOHN J   2035380.000\n",
      "ECHOLS JOHN B     2234774.000\n",
      "LAY KENNETH L     3600000.000\n",
      "MARTIN AMANDA K   5145434.000\n",
      "Name: long_term_incentive, dtype: float64\n",
      "\n",
      "deferred_income: 5\n",
      "RICE KENNETH D     -3504386.000\n",
      "FREVERT MARK A     -3367011.000\n",
      "HANNON KEVIN P     -3117011.000\n",
      "ALLEN PHILLIP K    -3081055.000\n",
      "BELDEN TIMOTHY N   -2334434.000\n",
      "Name: deferred_income, dtype: float64\n",
      "\n",
      "deferral_payments: 4\n",
      "ALLEN PHILLIP K    2869717.000\n",
      "HUMPHREY GENE E    2964506.000\n",
      "HORTON STANLEY C   3131860.000\n",
      "FREVERT MARK A     6426990.000\n",
      "Name: deferral_payments, dtype: float64\n",
      "\n",
      "loan_advances: 0\n",
      "Series([], Name: loan_advances, dtype: float64)\n",
      "\n",
      "other: 9\n",
      "WHITE JR THOMAS E    1085463.000\n",
      "IZZO LAWRENCE L      1553729.000\n",
      "SHELBY REX           1573324.000\n",
      "PAI LOU L            1829457.000\n",
      "SHERRIFF JOHN R      1852186.000\n",
      "BAXTER JOHN C        2660303.000\n",
      "MARTIN AMANDA K      2818454.000\n",
      "FREVERT MARK A       7427621.000\n",
      "LAY KENNETH L       10359729.000\n",
      "Name: other, dtype: float64\n",
      "\n",
      "expenses: 2\n",
      "URQUHART JOHN A    228656.000\n",
      "MCCLELLAN GEORGE   228763.000\n",
      "Name: expenses, dtype: float64\n",
      "\n",
      "director_fees: 3\n",
      "POWERS WILLIAM    17500.000\n",
      "URQUHART JOHN A   36666.000\n",
      "MEYER JEROME J    38346.000\n",
      "Name: director_fees, dtype: float64\n",
      "\n",
      "total_payments: 7\n",
      "BELDEN TIMOTHY N       5501630.000\n",
      "BAXTER JOHN C          5634343.000\n",
      "MARTIN AMANDA K        8407016.000\n",
      "SKILLING JEFFREY K     8682716.000\n",
      "LAVORATO JOHN J       10425757.000\n",
      "FREVERT MARK A        17252530.000\n",
      "LAY KENNETH L        103559793.000\n",
      "Name: total_payments, dtype: float64\n",
      "\n",
      "exercised_stock_options: 12\n",
      "BAXTER JOHN C          6680544.000\n",
      "REDMOND BRIAN L        7509039.000\n",
      "DIMICHELE RICHARD G    8191755.000\n",
      "YEAGER F SCOTT         8308552.000\n",
      "DERRICK JR. JAMES V    8831913.000\n",
      "FREVERT MARK A        10433518.000\n",
      "PAI LOU L             15364167.000\n",
      "BHATNAGAR SANJAY      15456290.000\n",
      "SKILLING JEFFREY K    19250000.000\n",
      "RICE KENNETH D        19794175.000\n",
      "Name: exercised_stock_options, dtype: float64\n",
      "\n",
      "restricted_stock: 13\n",
      "CAUSEY RICHARD A     2502063.000\n",
      "BHATNAGAR SANJAY     2604490.000\n",
      "RICE KENNETH D       2748364.000\n",
      "WHALLEY LAWRENCE G   2796177.000\n",
      "YEAGER F SCOTT       3576206.000\n",
      "IZZO LAWRENCE L      3654808.000\n",
      "BAXTER JOHN C        3942714.000\n",
      "KEAN STEVEN J        4131594.000\n",
      "FREVERT MARK A       4188667.000\n",
      "SKILLING JEFFREY K   6843672.000\n",
      "Name: restricted_stock, dtype: float64\n",
      "\n",
      "restricted_stock_deferred: 2\n",
      "BHATNAGAR SANJAY      -2604490.000\n",
      "DERRICK JR. JAMES V   -1787380.000\n",
      "Name: restricted_stock_deferred, dtype: float64\n",
      "\n",
      "total_stock_value: 12\n",
      "DIMICHELE RICHARD G    8317782.000\n",
      "DERRICK JR. JAMES V    8831913.000\n",
      "BAXTER JOHN C         10623258.000\n",
      "YEAGER F SCOTT        11884758.000\n",
      "FREVERT MARK A        14622185.000\n",
      "WHITE JR THOMAS E     15144123.000\n",
      "BHATNAGAR SANJAY      15456290.000\n",
      "RICE KENNETH D        22542539.000\n",
      "PAI LOU L             23817930.000\n",
      "SKILLING JEFFREY K    26093672.000\n",
      "Name: total_stock_value, dtype: float64\n",
      "\n",
      "to_messages: 6\n",
      "LAVORATO JOHN J      7259.000\n",
      "BECK SALLY W         7315.000\n",
      "BELDEN TIMOTHY N     7991.000\n",
      "KITCHEN LOUISE       8305.000\n",
      "KEAN STEVEN J       12754.000\n",
      "SHAPIRO RICHARD S   15149.000\n",
      "Name: to_messages, dtype: float64\n",
      "\n",
      "shared_receipt_with_poi: 1\n",
      "BELDEN TIMOTHY N   5521.000\n",
      "Name: shared_receipt_with_poi, dtype: float64\n",
      "\n",
      "from_messages: 17\n",
      "BELDEN TIMOTHY N       484.000\n",
      "WHALLEY LAWRENCE G     556.000\n",
      "DERRICK JR. JAMES V    909.000\n",
      "BUY RICHARD B         1053.000\n",
      "HAYSLETT RODERICK J   1061.000\n",
      "HORTON STANLEY C      1073.000\n",
      "SHAPIRO RICHARD S     1215.000\n",
      "KITCHEN LOUISE        1728.000\n",
      "HAEDICKE MARK E       1941.000\n",
      "ALLEN PHILLIP K       2195.000\n",
      "Name: from_messages, dtype: float64\n",
      "\n",
      "from_this_person_to_poi: 8\n",
      "BELDEN TIMOTHY N      108.000\n",
      "KAMINSKI WINCENTY J   171.000\n",
      "KITCHEN LOUISE        194.000\n",
      "MCCONNELL MICHAEL S   194.000\n",
      "BECK SALLY W          386.000\n",
      "KEAN STEVEN J         387.000\n",
      "LAVORATO JOHN J       411.000\n",
      "DELAINEY DAVID W      609.000\n",
      "Name: from_this_person_to_poi, dtype: float64\n",
      "\n",
      "from_poi_to_this_person: 5\n",
      "COLWELL WESLEY     240.000\n",
      "FREVERT MARK A     242.000\n",
      "KITCHEN LOUISE     251.000\n",
      "DIETRICH JANET R   305.000\n",
      "LAVORATO JOHN J    528.000\n",
      "Name: from_poi_to_this_person, dtype: float64\n",
      "\n",
      "compute_total_payment: 7\n",
      "BELDEN TIMOTHY N       5501630.000\n",
      "BAXTER JOHN C          5634343.000\n",
      "MARTIN AMANDA K        8407016.000\n",
      "SKILLING JEFFREY K     8682716.000\n",
      "LAVORATO JOHN J       10425757.000\n",
      "FREVERT MARK A        17252530.000\n",
      "LAY KENNETH L        103559793.000\n",
      "Name: compute_total_payment, dtype: float64\n",
      "\n",
      "compute_total_stock: 12\n",
      "DIMICHELE RICHARD G    8317782.000\n",
      "DERRICK JR. JAMES V    8831913.000\n",
      "BAXTER JOHN C         10623258.000\n",
      "YEAGER F SCOTT        11884758.000\n",
      "FREVERT MARK A        14622185.000\n",
      "WHITE JR THOMAS E     15144123.000\n",
      "BHATNAGAR SANJAY      15456290.000\n",
      "RICE KENNETH D        22542539.000\n",
      "PAI LOU L             23817930.000\n",
      "SKILLING JEFFREY K    26093672.000\n",
      "Name: compute_total_stock, dtype: float64\n",
      "\n",
      "Total Cases:21\n"
     ]
    }
   ],
   "source": [
    "problem_persons = dict()\n",
    "\n",
    "cases = 0\n",
    "for column_name in list(enron_data_df):\n",
    "    if enron_data_df[column_name].dtype == 'float' and column_name != 'poi':\n",
    "        cases +=1\n",
    "        test_data = enron_data_df[enron_data_df[column_name]!=0]\n",
    "        Q1 = test_data[column_name].quantile(0.25)\n",
    "        Q3 = test_data[column_name].quantile(0.75)\n",
    "        IQR = Q3 - Q1\n",
    "\n",
    "        # Filtering Values between Q1-1.5IQR and Q3+1.5IQR\n",
    "        query_str = '(@Q1 - 2 * @IQR) >= ' + column_name + ' or  (@Q3 + 2 * @IQR) <=' + column_name\n",
    "        filtered = test_data.query(query_str)\n",
    "\n",
    "        print column_name + \": \" + str(len(filtered))\n",
    "        filtered = filtered.sort_values(column_name)\n",
    "        print filtered[column_name].head(10)\n",
    "        print \"\"\n",
    "        \n",
    "        for person in filtered.index.tolist():\n",
    "            try:\n",
    "               problem_persons[person] = 1 + problem_persons[person]\n",
    "            except:\n",
    "               problem_persons[person] = 1 \n",
    "\n",
    "print \"Total Cases:\" + str(cases)\n",
    "            "
   ]
  },
  {
   "cell_type": "code",
   "execution_count": 26,
   "metadata": {
    "collapsed": false
   },
   "outputs": [
    {
     "data": {
      "text/html": [
       "<div>\n",
       "<table border=\"1\" class=\"dataframe\">\n",
       "  <thead>\n",
       "    <tr style=\"text-align: right;\">\n",
       "      <th></th>\n",
       "      <th>Count</th>\n",
       "    </tr>\n",
       "  </thead>\n",
       "  <tbody>\n",
       "    <tr>\n",
       "      <th>FREVERT MARK A</th>\n",
       "      <td>11</td>\n",
       "    </tr>\n",
       "    <tr>\n",
       "      <th>LAY KENNETH L</th>\n",
       "      <td>10</td>\n",
       "    </tr>\n",
       "    <tr>\n",
       "      <th>BELDEN TIMOTHY N</th>\n",
       "      <td>8</td>\n",
       "    </tr>\n",
       "    <tr>\n",
       "      <th>SKILLING JEFFREY K</th>\n",
       "      <td>8</td>\n",
       "    </tr>\n",
       "    <tr>\n",
       "      <th>LAVORATO JOHN J</th>\n",
       "      <td>8</td>\n",
       "    </tr>\n",
       "    <tr>\n",
       "      <th>BAXTER JOHN C</th>\n",
       "      <td>7</td>\n",
       "    </tr>\n",
       "    <tr>\n",
       "      <th>DERRICK JR. JAMES V</th>\n",
       "      <td>5</td>\n",
       "    </tr>\n",
       "    <tr>\n",
       "      <th>KITCHEN LOUISE</th>\n",
       "      <td>5</td>\n",
       "    </tr>\n",
       "    <tr>\n",
       "      <th>PAI LOU L</th>\n",
       "      <td>5</td>\n",
       "    </tr>\n",
       "    <tr>\n",
       "      <th>BHATNAGAR SANJAY</th>\n",
       "      <td>5</td>\n",
       "    </tr>\n",
       "    <tr>\n",
       "      <th>RICE KENNETH D</th>\n",
       "      <td>5</td>\n",
       "    </tr>\n",
       "    <tr>\n",
       "      <th>MARTIN AMANDA K</th>\n",
       "      <td>4</td>\n",
       "    </tr>\n",
       "    <tr>\n",
       "      <th>KEAN STEVEN J</th>\n",
       "      <td>4</td>\n",
       "    </tr>\n",
       "    <tr>\n",
       "      <th>YEAGER F SCOTT</th>\n",
       "      <td>4</td>\n",
       "    </tr>\n",
       "    <tr>\n",
       "      <th>WHITE JR THOMAS E</th>\n",
       "      <td>4</td>\n",
       "    </tr>\n",
       "    <tr>\n",
       "      <th>WHALLEY LAWRENCE G</th>\n",
       "      <td>4</td>\n",
       "    </tr>\n",
       "    <tr>\n",
       "      <th>ALLEN PHILLIP K</th>\n",
       "      <td>4</td>\n",
       "    </tr>\n",
       "    <tr>\n",
       "      <th>DIMICHELE RICHARD G</th>\n",
       "      <td>3</td>\n",
       "    </tr>\n",
       "    <tr>\n",
       "      <th>HIRKO JOSEPH</th>\n",
       "      <td>3</td>\n",
       "    </tr>\n",
       "    <tr>\n",
       "      <th>DELAINEY DAVID W</th>\n",
       "      <td>3</td>\n",
       "    </tr>\n",
       "  </tbody>\n",
       "</table>\n",
       "</div>"
      ],
      "text/plain": [
       "                     Count\n",
       "FREVERT MARK A          11\n",
       "LAY KENNETH L           10\n",
       "BELDEN TIMOTHY N         8\n",
       "SKILLING JEFFREY K       8\n",
       "LAVORATO JOHN J          8\n",
       "BAXTER JOHN C            7\n",
       "DERRICK JR. JAMES V      5\n",
       "KITCHEN LOUISE           5\n",
       "PAI LOU L                5\n",
       "BHATNAGAR SANJAY         5\n",
       "RICE KENNETH D           5\n",
       "MARTIN AMANDA K          4\n",
       "KEAN STEVEN J            4\n",
       "YEAGER F SCOTT           4\n",
       "WHITE JR THOMAS E        4\n",
       "WHALLEY LAWRENCE G       4\n",
       "ALLEN PHILLIP K          4\n",
       "DIMICHELE RICHARD G      3\n",
       "HIRKO JOSEPH             3\n",
       "DELAINEY DAVID W         3"
      ]
     },
     "execution_count": 26,
     "metadata": {},
     "output_type": "execute_result"
    }
   ],
   "source": [
    "problem_persons_df = pd.DataFrame.from_dict(problem_persons, orient = 'index', dtype = int)\n",
    "problem_persons_df.columns = ['Count']\n",
    "problem_persons_df = problem_persons_df.sort_values('Count', ascending = False)\n",
    "problem_persons_df.head(20)"
   ]
  },
  {
   "cell_type": "markdown",
   "metadata": {},
   "source": [
    "As expected *LAY KENNETH L* and *SKILLING JEFFREY K* show up at the top of the list. However, a few new names are also there: *FREVERT MARK A*, *BELDEN TIMOTHY N*, *LAVORATO JOHN J*.\n",
    "\n",
    "In particular, *FREVERT MARK A* seems to be a strong outlier since it shows up in 11 cases. However, it seems like real outliers, so I will keep them \n"
   ]
  },
  {
   "cell_type": "markdown",
   "metadata": {},
   "source": [
    "## Iniitial Feature Selection"
   ]
  },
  {
   "cell_type": "markdown",
   "metadata": {},
   "source": [
    "From the small sample above I notice that certain features contain many *NaN* values. In order to access the usability of certain features, I should check how many *NaN* exist, and in particular, what is the breakdown between POI and non-POI to have a sense of the bias that certain features might bring.\n",
    "\n",
    "I'll also use the opportunity to create lists of features to be used later."
   ]
  },
  {
   "cell_type": "code",
   "execution_count": 27,
   "metadata": {
    "collapsed": false,
    "scrolled": true
   },
   "outputs": [
    {
     "name": "stdout",
     "output_type": "stream",
     "text": [
      "\n",
      "salary\n",
      "NaN in POIs: 1 (5.56%)\n",
      "NaN in non-POIs: 49 (38.89%)\n",
      "Valid: 94 (65.28%)\n",
      "\n",
      "to_messages\n",
      "NaN in POIs: 4 (22.22%)\n",
      "NaN in non-POIs: 54 (42.86%)\n",
      "Valid: 86 (59.72%)\n",
      "\n",
      "deferral_payments\n",
      "NaN in POIs: 13 (72.22%)\n",
      "NaN in non-POIs: 94 (74.6%)\n",
      "Valid: 37 (25.69%)\n",
      "\n",
      "total_payments\n",
      "NaN in POIs: 0 (0.0%)\n",
      "NaN in non-POIs: 21 (16.67%)\n",
      "Valid: 123 (85.42%)\n",
      "\n",
      "exercised_stock_options\n",
      "NaN in POIs: 6 (33.33%)\n",
      "NaN in non-POIs: 38 (30.16%)\n",
      "Valid: 100 (69.44%)\n",
      "\n",
      "bonus\n",
      "NaN in POIs: 2 (11.11%)\n",
      "NaN in non-POIs: 61 (48.41%)\n",
      "Valid: 81 (56.25%)\n",
      "\n",
      "restricted_stock\n",
      "NaN in POIs: 1 (5.56%)\n",
      "NaN in non-POIs: 33 (26.19%)\n",
      "Valid: 110 (76.39%)\n",
      "\n",
      "shared_receipt_with_poi\n",
      "NaN in POIs: 4 (22.22%)\n",
      "NaN in non-POIs: 54 (42.86%)\n",
      "Valid: 86 (59.72%)\n",
      "\n",
      "restricted_stock_deferred\n",
      "NaN in POIs: 18 (100.0%)\n",
      "NaN in non-POIs: 109 (86.51%)\n",
      "Valid: 17 (11.81%)\n",
      "\n",
      "total_stock_value\n",
      "NaN in POIs: 0 (0.0%)\n",
      "NaN in non-POIs: 19 (15.08%)\n",
      "Valid: 125 (86.81%)\n",
      "\n",
      "expenses\n",
      "NaN in POIs: 0 (0.0%)\n",
      "NaN in non-POIs: 48 (38.1%)\n",
      "Valid: 96 (66.67%)\n",
      "\n",
      "loan_advances\n",
      "NaN in POIs: 17 (94.44%)\n",
      "NaN in non-POIs: 124 (98.41%)\n",
      "Valid: 3 (2.08%)\n",
      "\n",
      "from_messages\n",
      "NaN in POIs: 4 (22.22%)\n",
      "NaN in non-POIs: 54 (42.86%)\n",
      "Valid: 86 (59.72%)\n",
      "\n",
      "other\n",
      "NaN in POIs: 0 (0.0%)\n",
      "NaN in non-POIs: 54 (42.86%)\n",
      "Valid: 90 (62.5%)\n",
      "\n",
      "from_this_person_to_poi\n",
      "NaN in POIs: 4 (22.22%)\n",
      "NaN in non-POIs: 54 (42.86%)\n",
      "Valid: 86 (59.72%)\n",
      "\n",
      "poi\n",
      "NaN in POIs: 0 (0.0%)\n",
      "NaN in non-POIs: 0 (0.0%)\n",
      "Valid: 144 (100.0%)\n",
      "\n",
      "director_fees\n",
      "NaN in POIs: 18 (100.0%)\n",
      "NaN in non-POIs: 111 (88.1%)\n",
      "Valid: 15 (10.42%)\n",
      "\n",
      "deferred_income\n",
      "NaN in POIs: 7 (38.89%)\n",
      "NaN in non-POIs: 88 (69.84%)\n",
      "Valid: 49 (34.03%)\n",
      "\n",
      "long_term_incentive\n",
      "NaN in POIs: 6 (33.33%)\n",
      "NaN in non-POIs: 73 (57.94%)\n",
      "Valid: 65 (45.14%)\n",
      "\n",
      "email_address\n",
      "NaN in POIs: 0 (0.0%)\n",
      "NaN in non-POIs: 33 (26.19%)\n",
      "Valid: 111 (77.08%)\n",
      "\n",
      "from_poi_to_this_person\n",
      "NaN in POIs: 4 (22.22%)\n",
      "NaN in non-POIs: 54 (42.86%)\n",
      "Valid: 86 (59.72%)\n"
     ]
    }
   ],
   "source": [
    "initial_selection_features = ['poi']\n",
    "all_features = ['poi']\n",
    "\n",
    "for feature in enron_data[enron_data.keys()[0]].keys():\n",
    "    nan_poi = 0\n",
    "    nan_non_poi = 0\n",
    "    valid_data = 0 \n",
    "    print \"\\n\"+feature\n",
    "    for person in enron_data.keys():\n",
    "        if enron_data[person][feature] =='NaN':\n",
    "            if enron_data[person]['poi']:\n",
    "                nan_poi +=1\n",
    "            else:\n",
    "                nan_non_poi +=1\n",
    "        else:\n",
    "            valid_data +=1\n",
    "    print \"NaN in POIs: \" + str(nan_poi) + \" (\" + str(round(float(nan_poi)/float(POI)*100,2))+\"%)\"\n",
    "    print \"NaN in non-POIs: \" + str(nan_non_poi) + \" (\" + str(round(float(nan_non_poi)/float(non_POI)*100,2))+\"%)\"\n",
    "    print \"Valid: \" + str(valid_data)  +\" (\" + str(round(float(valid_data)/float(POI+non_POI)*100,2))+\"%)\"\n",
    "    #print \"Total:\" + str(valid_data+nan_poi+nan_non_poi)\n",
    "    \n",
    "    # Keep feature only if at least 50% is valid:\n",
    "    if round(float(valid_data)/float(POI+non_POI)*100,2)>50:\n",
    "        # ignore email_address, since it is just text, and poi, which must be first\n",
    "        if feature !=\"email_address\" and feature !=\"poi\":\n",
    "            initial_selection_features.append(feature)\n",
    "            \n",
    "    # save all features to allow for comparison:\n",
    "    # ignore email_address, since it is just text, and poi, which must be first\n",
    "    if feature !=\"email_address\" and feature !=\"poi\":\n",
    "        all_features.append(feature)\n",
    "    "
   ]
  },
  {
   "cell_type": "markdown",
   "metadata": {},
   "source": [
    "From the test above, I notice that certain features are not good\n",
    "candidates for the classifer.\n",
    "\n",
    "In particular, *deferral_payments*, *restricted_stock_deferred*,*loan_advances*,\n",
    "*director_fees* have very low valid points to be seriously considered.\n",
    "\n",
    "As a general cut-off, I decide to drop any feature with less than 50% valid points\n",
    "will not be considered. I kept 14 features, listed below."
   ]
  },
  {
   "cell_type": "code",
   "execution_count": 28,
   "metadata": {
    "collapsed": false
   },
   "outputs": [
    {
     "name": "stdout",
     "output_type": "stream",
     "text": [
      "['poi', 'salary', 'to_messages', 'total_payments', 'exercised_stock_options', 'bonus', 'restricted_stock', 'shared_receipt_with_poi', 'total_stock_value', 'expenses', 'from_messages', 'other', 'from_this_person_to_poi', 'from_poi_to_this_person']\n",
      "\n",
      " Numbers of features: 14\n"
     ]
    }
   ],
   "source": [
    "print  initial_selection_features\n",
    "print \"\\n Numbers of features: \" + str(len(initial_selection_features))"
   ]
  },
  {
   "cell_type": "markdown",
   "metadata": {},
   "source": [
    "## Feature Creation"
   ]
  },
  {
   "cell_type": "markdown",
   "metadata": {},
   "source": [
    "I do not expect *to_messages* to be any informative to identify a POI. Likewise the absolute number of messages to/from poi or shared are less likely to be explanatory than their respective share version. I make therefore the transformation and update the list of features."
   ]
  },
  {
   "cell_type": "code",
   "execution_count": 29,
   "metadata": {
    "collapsed": false
   },
   "outputs": [
    {
     "name": "stdout",
     "output_type": "stream",
     "text": [
      "\n",
      "share_shared_receipt_with_poi\n",
      "NaN in POIs: 4 (22.22%)\n",
      "NaN in non-POIs: 54 (42.86%)\n",
      "Valid: 86 (59.72%)\n",
      "\n",
      "share_from_this_person_to_poi\n",
      "NaN in POIs: 4 (22.22%)\n",
      "NaN in non-POIs: 54 (42.86%)\n",
      "Valid: 86 (59.72%)\n",
      "\n",
      "share_from_poi_to_this_person\n",
      "NaN in POIs: 4 (22.22%)\n",
      "NaN in non-POIs: 54 (42.86%)\n",
      "Valid: 86 (59.72%)\n"
     ]
    }
   ],
   "source": [
    "initial_selection_features.remove('to_messages')\n",
    "initial_selection_features.remove('from_messages')\n",
    "initial_selection_features.remove('shared_receipt_with_poi')\n",
    "initial_selection_features.remove('from_this_person_to_poi')\n",
    "initial_selection_features.remove('from_poi_to_this_person')\n",
    "\n",
    "\n",
    "# supporting function  \n",
    "def convert_to_share(data, abs_var_name, base_var_name,new_var_name):\n",
    "    for person in data.keys():\n",
    "        if  data[person][abs_var_name] == \"NaN\" or  data[person][base_var_name] == \"NaN\":\n",
    "            data[person][new_var_name] = \"NaN\"\n",
    "        else:\n",
    "            data[person][new_var_name] = float(data[person][abs_var_name])/float(data[person][base_var_name])\n",
    "\n",
    "    return data\n",
    "   \n",
    "enron_data = convert_to_share(enron_data, 'shared_receipt_with_poi', 'to_messages','share_shared_receipt_with_poi') \n",
    "enron_data = convert_to_share(enron_data, 'from_this_person_to_poi', 'from_messages','share_from_this_person_to_poi') \n",
    "enron_data = convert_to_share(enron_data, 'from_poi_to_this_person', 'to_messages','share_from_poi_to_this_person') \n",
    "\n",
    "for feature in ['share_shared_receipt_with_poi','share_from_this_person_to_poi','share_from_poi_to_this_person']:\n",
    "    all_features.append(feature)\n",
    "    initial_selection_features.append(feature)\n",
    "    nan_poi = 0\n",
    "    nan_non_poi = 0\n",
    "    valid_data = 0 \n",
    "    print \"\\n\"+feature\n",
    "    for person in enron_data.keys():\n",
    "        if enron_data[person][feature] =='NaN':\n",
    "            if enron_data[person]['poi']:\n",
    "                nan_poi +=1\n",
    "            else:\n",
    "                nan_non_poi +=1\n",
    "        else:\n",
    "            valid_data +=1\n",
    "    print \"NaN in POIs: \" + str(nan_poi) + \" (\" + str(round(float(nan_poi)/float(POI)*100,2))+\"%)\"\n",
    "    print \"NaN in non-POIs: \" + str(nan_non_poi) + \" (\" + str(round(float(nan_non_poi)/float(non_POI)*100,2))+\"%)\"\n",
    "    print \"Valid: \" + str(valid_data)  +\" (\" + str(round(float(valid_data)/float(POI+non_POI)*100,2))+\"%)\""
   ]
  },
  {
   "cell_type": "markdown",
   "metadata": {},
   "source": [
    "And this is how the list of features looks like:"
   ]
  },
  {
   "cell_type": "code",
   "execution_count": 30,
   "metadata": {
    "collapsed": false
   },
   "outputs": [
    {
     "name": "stdout",
     "output_type": "stream",
     "text": [
      "['poi', 'salary', 'total_payments', 'exercised_stock_options', 'bonus', 'restricted_stock', 'total_stock_value', 'expenses', 'other', 'share_shared_receipt_with_poi', 'share_from_this_person_to_poi', 'share_from_poi_to_this_person']\n",
      "\n",
      " Numbers of features: 12\n"
     ]
    }
   ],
   "source": [
    "print  initial_selection_features\n",
    "print \"\\n Numbers of features: \" + str(len(initial_selection_features))"
   ]
  },
  {
   "cell_type": "markdown",
   "metadata": {},
   "source": [
    "I transform this according to feature format and check the initial listing"
   ]
  },
  {
   "cell_type": "code",
   "execution_count": 31,
   "metadata": {
    "collapsed": false
   },
   "outputs": [],
   "source": [
    "import sys\n",
    "sys.path.append(\"./tools/\") \n",
    "\n",
    "from feature_format import featureFormat, targetFeatureSplit\n",
    "from sklearn.model_selection import train_test_split\n",
    "\n",
    "data = featureFormat(enron_data, initial_selection_features, sort_keys = True)\n",
    "labels, features = targetFeatureSplit(data)\n",
    "\n",
    "features_train, features_test, labels_train, labels_test = \\\n",
    "    train_test_split(features, labels, test_size=0.3, random_state=42)"
   ]
  },
  {
   "cell_type": "code",
   "execution_count": 32,
   "metadata": {
    "collapsed": false
   },
   "outputs": [
    {
     "name": "stdout",
     "output_type": "stream",
     "text": [
      "143\n"
     ]
    }
   ],
   "source": [
    "# some checks\n",
    "print len(data)"
   ]
  },
  {
   "cell_type": "markdown",
   "metadata": {},
   "source": [
    "I noticed that one data point was dropped. Let's find out who, since this needs to be added to the initial list of outliers."
   ]
  },
  {
   "cell_type": "code",
   "execution_count": 33,
   "metadata": {
    "collapsed": false
   },
   "outputs": [
    {
     "name": "stdout",
     "output_type": "stream",
     "text": [
      "LOCKHART EUGENE E\n"
     ]
    }
   ],
   "source": [
    "for person in enron_data.keys():\n",
    "    suspect = person\n",
    "    for key in enron_data[enron_data.keys()[0]].keys():\n",
    "        suspect_found = True\n",
    "        if (enron_data[person][key] !=\"NaN\" and  enron_data[person][key] !=0):\n",
    "            suspect_found = False\n",
    "            break\n",
    "    if suspect_found:\n",
    "        print suspect\n",
    "        break"
   ]
  },
  {
   "cell_type": "code",
   "execution_count": 34,
   "metadata": {
    "collapsed": false
   },
   "outputs": [
    {
     "data": {
      "text/plain": [
       "{'bonus': 'NaN',\n",
       " 'deferral_payments': 'NaN',\n",
       " 'deferred_income': 'NaN',\n",
       " 'director_fees': 'NaN',\n",
       " 'email_address': 'NaN',\n",
       " 'exercised_stock_options': 'NaN',\n",
       " 'expenses': 'NaN',\n",
       " 'from_messages': 'NaN',\n",
       " 'from_poi_to_this_person': 'NaN',\n",
       " 'from_this_person_to_poi': 'NaN',\n",
       " 'loan_advances': 'NaN',\n",
       " 'long_term_incentive': 'NaN',\n",
       " 'other': 'NaN',\n",
       " 'poi': False,\n",
       " 'restricted_stock': 'NaN',\n",
       " 'restricted_stock_deferred': 'NaN',\n",
       " 'salary': 'NaN',\n",
       " 'share_from_poi_to_this_person': 'NaN',\n",
       " 'share_from_this_person_to_poi': 'NaN',\n",
       " 'share_shared_receipt_with_poi': 'NaN',\n",
       " 'shared_receipt_with_poi': 'NaN',\n",
       " 'to_messages': 'NaN',\n",
       " 'total_payments': 'NaN',\n",
       " 'total_stock_value': 'NaN'}"
      ]
     },
     "execution_count": 34,
     "metadata": {},
     "output_type": "execute_result"
    }
   ],
   "source": [
    "enron_data.pop('LOCKHART EUGENE E',0)"
   ]
  },
  {
   "cell_type": "markdown",
   "metadata": {},
   "source": [
    "Now I visualy inspect all initially selected variables:"
   ]
  },
  {
   "cell_type": "code",
   "execution_count": 35,
   "metadata": {
    "collapsed": false
   },
   "outputs": [
    {
     "data": {
      "image/png": "[encoded data removed]",
      "text/plain": [
       "<matplotlib.figure.Figure at 0xc81b0f0>"
      ]
     },
     "metadata": {},
     "output_type": "display_data"
    },
    {
     "data": {
      "image/png": "[encoded data removed]",
      "text/plain": [
       "<matplotlib.figure.Figure at 0xcd86c50>"
      ]
     },
     "metadata": {},
     "output_type": "display_data"
    },
    {
     "data": {
      "image/png": "[encoded data removed]",
      "text/plain": [
       "<matplotlib.figure.Figure at 0xded4fd0>"
      ]
     },
     "metadata": {},
     "output_type": "display_data"
    },
    {
     "data": {
      "image/png": "[encoded data removed]",
      "text/plain": [
       "<matplotlib.figure.Figure at 0xe491dd8>"
      ]
     },
     "metadata": {},
     "output_type": "display_data"
    },
    {
     "data": {
      "image/png": "[encoded data removed]",
      "text/plain": [
       "<matplotlib.figure.Figure at 0xe98ed68>"
      ]
     },
     "metadata": {},
     "output_type": "display_data"
    },
    {
     "data": {
      "image/png": "[encoded data removed]",
      "text/plain": [
       "<matplotlib.figure.Figure at 0xdfebfd0>"
      ]
     },
     "metadata": {},
     "output_type": "display_data"
    },
    {
     "data": {
      "image/png": "[encoded data removed]",
      "text/plain": [
       "<matplotlib.figure.Figure at 0xe98ae48>"
      ]
     },
     "metadata": {},
     "output_type": "display_data"
    },
    {
     "data": {
      "image/png": "[encoded data removed]",
      "text/plain": [
       "<matplotlib.figure.Figure at 0xceea2e8>"
      ]
     },
     "metadata": {},
     "output_type": "display_data"
    },
    {
     "data": {
      "image/png": "[encoded data removed]",
      "text/plain": [
       "<matplotlib.figure.Figure at 0xe12eba8>"
      ]
     },
     "metadata": {},
     "output_type": "display_data"
    },
    {
     "data": {
      "image/png": "[encoded data removed]",
      "text/plain": [
       "<matplotlib.figure.Figure at 0xcc2e908>"
      ]
     },
     "metadata": {},
     "output_type": "display_data"
    },
    {
     "data": {
      "image/png": "[encoded data removed]",
      "text/plain": [
       "<matplotlib.figure.Figure at 0xc9b64a8>"
      ]
     },
     "metadata": {},
     "output_type": "display_data"
    }
   ],
   "source": [
    "import matplotlib.pyplot as plt\n",
    "import seaborn as sb\n",
    "\n",
    "for i in range(1,len(initial_selection_features)):\n",
    "\n",
    "    for point in data:\n",
    "        if point[0]==1:\n",
    "            plt.scatter(point[0], point[i], color = \"r\")\n",
    "        else:\n",
    "            plt.scatter(point[0], point[i], color = \"b\")\n",
    "\n",
    "    plt.xlabel('POI')\n",
    "    plt.ylabel(initial_selection_features[i])\n",
    "    plt\n",
    "    plt.show()\n",
    "\n"
   ]
  },
  {
   "cell_type": "markdown",
   "metadata": {},
   "source": [
    "I notice that *total_payments* has clear outlier. I investigate who it is"
   ]
  },
  {
   "cell_type": "code",
   "execution_count": 36,
   "metadata": {
    "collapsed": false
   },
   "outputs": [
    {
     "name": "stdout",
     "output_type": "stream",
     "text": [
      "LAY KENNETH L\n",
      "103559793\n"
     ]
    }
   ],
   "source": [
    "start = 0\n",
    "suspect = \"\"\n",
    "for person in enron_data.keys():\n",
    "    if  enron_data[person]['total_payments']!= \"NaN\" and enron_data[person]['total_payments'] > start:\n",
    "        suspect =  person\n",
    "        start = enron_data[person]['total_payments']\n",
    "\n",
    "print suspect\n",
    "print start\n"
   ]
  },
  {
   "cell_type": "markdown",
   "metadata": {},
   "source": [
    "# Classifier\n",
    "Prepare data for classification and testing. I will test performance using the *tester.py* file provided by Udacity."
   ]
  },
  {
   "cell_type": "code",
   "execution_count": 37,
   "metadata": {
    "collapsed": false,
    "scrolled": true
   },
   "outputs": [
    {
     "name": "stderr",
     "output_type": "stream",
     "text": [
      "C:\\Users\\marcelot\\AppData\\Local\\Continuum\\Anaconda2\\lib\\site-packages\\sklearn\\cross_validation.py:44: DeprecationWarning: This module was deprecated in version 0.18 in favor of the model_selection module into which all the refactored classes and functions are moved. Also note that the interface of the new CV iterators are different from that of this module. This module will be removed in 0.20.\n",
      "  \"This module will be removed in 0.20.\", DeprecationWarning)\n"
     ]
    }
   ],
   "source": [
    "from tester import test_classifier"
   ]
  },
  {
   "cell_type": "markdown",
   "metadata": {},
   "source": [
    "## Create 4 initial classifiers"
   ]
  },
  {
   "cell_type": "code",
   "execution_count": 38,
   "metadata": {
    "collapsed": false
   },
   "outputs": [],
   "source": [
    "from sklearn.naive_bayes import GaussianNB\n",
    "from sklearn.svm import SVC\n",
    "from sklearn.tree import DecisionTreeClassifier\n",
    "from sklearn.ensemble import AdaBoostClassifier\n",
    "\n",
    "\n",
    "# Naive Bayes\n",
    "clf_NB = GaussianNB()\n",
    "\n",
    "# SVM\n",
    "clf_SVM = SVC()\n",
    "\n",
    "# Decision Tree\n",
    "clf_TREE = DecisionTreeClassifier()\n",
    "\n",
    "# AdaBoost:\n",
    "clf_ADA = AdaBoostClassifier()\n",
    "\n"
   ]
  },
  {
   "cell_type": "markdown",
   "metadata": {},
   "source": [
    "## Compare initial performance"
   ]
  },
  {
   "cell_type": "code",
   "execution_count": 39,
   "metadata": {
    "collapsed": false
   },
   "outputs": [
    {
     "name": "stdout",
     "output_type": "stream",
     "text": [
      "GaussianNB(priors=None)\n",
      "\tAccuracy: 0.84627\tPrecision: 0.37271\tRecall: 0.22400\tF1: 0.27983\tF2: 0.24343\n",
      "\tTotal predictions: 15000\tTrue positives:  448\tFalse positives:  754\tFalse negatives: 1552\tTrue negatives: 12246\n",
      "\n",
      "Got a divide by zero when trying out: SVC(C=1.0, cache_size=200, class_weight=None, coef0=0.0,\n",
      "  decision_function_shape=None, degree=3, gamma='auto', kernel='rbf',\n",
      "  max_iter=-1, probability=False, random_state=None, shrinking=True,\n",
      "  tol=0.001, verbose=False)\n",
      "Precision or recall may be undefined due to a lack of true positive predicitons.\n",
      "DecisionTreeClassifier(class_weight=None, criterion='gini', max_depth=None,\n",
      "            max_features=None, max_leaf_nodes=None,\n",
      "            min_impurity_split=1e-07, min_samples_leaf=1,\n",
      "            min_samples_split=2, min_weight_fraction_leaf=0.0,\n",
      "            presort=False, random_state=None, splitter='best')\n",
      "\tAccuracy: 0.80593\tPrecision: 0.29019\tRecall: 0.31500\tF1: 0.30209\tF2: 0.30970\n",
      "\tTotal predictions: 15000\tTrue positives:  630\tFalse positives: 1541\tFalse negatives: 1370\tTrue negatives: 11459\n",
      "\n",
      "AdaBoostClassifier(algorithm='SAMME.R', base_estimator=None,\n",
      "          learning_rate=1.0, n_estimators=50, random_state=None)\n",
      "\tAccuracy: 0.85593\tPrecision: 0.45034\tRecall: 0.36500\tF1: 0.40320\tF2: 0.37938\n",
      "\tTotal predictions: 15000\tTrue positives:  730\tFalse positives:  891\tFalse negatives: 1270\tTrue negatives: 12109\n",
      "\n"
     ]
    }
   ],
   "source": [
    "test_classifier(clf_NB, enron_data, initial_selection_features)\n",
    "test_classifier(clf_SVM, enron_data, initial_selection_features)\n",
    "test_classifier(clf_TREE, enron_data, initial_selection_features)\n",
    "test_classifier(clf_ADA, enron_data, initial_selection_features)\n"
   ]
  },
  {
   "cell_type": "markdown",
   "metadata": {},
   "source": [
    "AdaBoost has the best performance, so we go further only with it."
   ]
  },
  {
   "cell_type": "markdown",
   "metadata": {},
   "source": [
    "Check the feature importances importances on the training set"
   ]
  },
  {
   "cell_type": "code",
   "execution_count": 40,
   "metadata": {
    "collapsed": false
   },
   "outputs": [
    {
     "name": "stdout",
     "output_type": "stream",
     "text": [
      "salary: 0.2\n",
      "total_payments: 0.18\n",
      "exercised_stock_options: 0.12\n",
      "bonus: 0.16\n",
      "restricted_stock: 0.1\n",
      "total_stock_value: 0.04\n",
      "expenses: 0.08\n",
      "other: 0.02\n",
      "share_shared_receipt_with_poi: 0.04\n",
      "share_from_this_person_to_poi: 0.02\n",
      "share_from_poi_to_this_person: 0.04\n"
     ]
    }
   ],
   "source": [
    "clf_ADA.fit(features_train,labels_train)\n",
    "for feature, imp in zip(initial_selection_features[1:],clf_ADA.feature_importances_):\n",
    "    print feature +\": \" + str(round(imp,2))"
   ]
  },
  {
   "cell_type": "markdown",
   "metadata": {},
   "source": [
    "Tune this model, optimizing F1"
   ]
  },
  {
   "cell_type": "code",
   "execution_count": 41,
   "metadata": {
    "collapsed": false
   },
   "outputs": [
    {
     "name": "stderr",
     "output_type": "stream",
     "text": [
      "C:\\Users\\marcelot\\AppData\\Local\\Continuum\\Anaconda2\\lib\\site-packages\\sklearn\\metrics\\classification.py:1113: UndefinedMetricWarning: F-score is ill-defined and being set to 0.0 due to no predicted samples.\n",
      "  'precision', 'predicted', average, warn_for)\n"
     ]
    },
    {
     "data": {
      "text/plain": [
       "GridSearchCV(cv=10, error_score='raise',\n",
       "       estimator=AdaBoostClassifier(algorithm='SAMME.R', base_estimator=None,\n",
       "          learning_rate=1.0, n_estimators=50, random_state=None),\n",
       "       fit_params={}, iid=True, n_jobs=1,\n",
       "       param_grid={'n_estimators': [1, 5, 8, 10, 11, 12, 13, 14, 15, 16, 17, 18, 50, 100, 1000, 2000], 'learning_rate': [0.1, 0.2, 0.3, 0.5, 0.7, 0.8, 0.9, 1, 2, 3, 5, 10]},\n",
       "       pre_dispatch='2*n_jobs', refit=True, return_train_score=True,\n",
       "       scoring='f1', verbose=0)"
      ]
     },
     "execution_count": 41,
     "metadata": {},
     "output_type": "execute_result"
    }
   ],
   "source": [
    "from sklearn.model_selection import GridSearchCV\n",
    "parameters = {'learning_rate':[0.1, 0.2, 0.3, 0.5, 0.7,0.8, 0.9, 1, 2,3, 5, 10],'n_estimators':[1,5,8,10,11, 12, 13, 14, 15, 16, 17, 18,50,100,1000, 2000] }\n",
    "clf_ADA = AdaBoostClassifier()\n",
    "clf = GridSearchCV(clf_ADA, parameters, scoring = 'f1', cv = 10 )\n",
    "clf.fit(features, labels)"
   ]
  },
  {
   "cell_type": "code",
   "execution_count": 42,
   "metadata": {
    "collapsed": false
   },
   "outputs": [
    {
     "name": "stdout",
     "output_type": "stream",
     "text": [
      "{'n_estimators': 16, 'learning_rate': 0.9}\n",
      "0.551282051282\n"
     ]
    }
   ],
   "source": [
    "print clf.best_params_\n",
    "print clf.best_score_ "
   ]
  },
  {
   "cell_type": "markdown",
   "metadata": {},
   "source": [
    "Double check performance of the best model, and obtain the other metrics:"
   ]
  },
  {
   "cell_type": "code",
   "execution_count": 43,
   "metadata": {
    "collapsed": false
   },
   "outputs": [
    {
     "name": "stdout",
     "output_type": "stream",
     "text": [
      "AdaBoostClassifier(algorithm='SAMME.R', base_estimator=None,\n",
      "          learning_rate=0.9, n_estimators=16, random_state=None)\n",
      "\tAccuracy: 0.87300\tPrecision: 0.53251\tRecall: 0.38900\tF1: 0.44958\tF2: 0.41116\n",
      "\tTotal predictions: 15000\tTrue positives:  778\tFalse positives:  683\tFalse negatives: 1222\tTrue negatives: 12317\n",
      "\n"
     ]
    }
   ],
   "source": [
    "lr = 0.9\n",
    "n_est = 16\n",
    "clf_ADA = AdaBoostClassifier(learning_rate = lr, n_estimators = n_est)\n",
    "test_classifier(clf_ADA, enron_data, initial_selection_features)"
   ]
  },
  {
   "cell_type": "markdown",
   "metadata": {},
   "source": [
    "Check the feature importances importances on the training set"
   ]
  },
  {
   "cell_type": "code",
   "execution_count": 44,
   "metadata": {
    "collapsed": false
   },
   "outputs": [
    {
     "name": "stdout",
     "output_type": "stream",
     "text": [
      "salary: 0.13\n",
      "total_payments: 0.19\n",
      "exercised_stock_options: 0.13\n",
      "bonus: 0.25\n",
      "restricted_stock: 0.13\n",
      "total_stock_value: 0.0\n",
      "expenses: 0.06\n",
      "other: 0.06\n",
      "share_shared_receipt_with_poi: 0.06\n",
      "share_from_this_person_to_poi: 0.0\n",
      "share_from_poi_to_this_person: 0.0\n"
     ]
    }
   ],
   "source": [
    "clf_ADA.fit(features_train,labels_train)\n",
    "for feature, imp in zip(initial_selection_features[1:],clf_ADA.feature_importances_):\n",
    "    print feature +\": \" + str(round(imp,2))"
   ]
  },
  {
   "cell_type": "markdown",
   "metadata": {},
   "source": [
    "Let's see how the performance compares if we drop the features with 0 importance:"
   ]
  },
  {
   "cell_type": "code",
   "execution_count": 45,
   "metadata": {
    "collapsed": true
   },
   "outputs": [],
   "source": [
    "second_selection_features = initial_selection_features"
   ]
  },
  {
   "cell_type": "code",
   "execution_count": 46,
   "metadata": {
    "collapsed": true
   },
   "outputs": [],
   "source": [
    "second_selection_features.remove('share_from_this_person_to_poi')\n",
    "second_selection_features.remove('share_from_poi_to_this_person')\n",
    "second_selection_features.remove('total_stock_value')"
   ]
  },
  {
   "cell_type": "code",
   "execution_count": 47,
   "metadata": {
    "collapsed": false
   },
   "outputs": [
    {
     "name": "stdout",
     "output_type": "stream",
     "text": [
      "['poi', 'salary', 'total_payments', 'exercised_stock_options', 'bonus', 'restricted_stock', 'expenses', 'other', 'share_shared_receipt_with_poi']\n",
      "\n",
      " Numbers of features: 9\n"
     ]
    }
   ],
   "source": [
    "print  second_selection_features\n",
    "print \"\\n Numbers of features: \" + str(len(second_selection_features))"
   ]
  },
  {
   "cell_type": "markdown",
   "metadata": {},
   "source": [
    "Re-create relevant variables"
   ]
  },
  {
   "cell_type": "code",
   "execution_count": 48,
   "metadata": {
    "collapsed": true
   },
   "outputs": [],
   "source": [
    "data = featureFormat(enron_data, second_selection_features, sort_keys = True)\n",
    "labels, features = targetFeatureSplit(data)\n",
    "\n",
    "features_train, features_test, labels_train, labels_test = \\\n",
    "    train_test_split(features, labels, test_size=0.3, random_state=42)"
   ]
  },
  {
   "cell_type": "markdown",
   "metadata": {},
   "source": [
    "and test performance"
   ]
  },
  {
   "cell_type": "code",
   "execution_count": 49,
   "metadata": {
    "collapsed": false
   },
   "outputs": [
    {
     "name": "stdout",
     "output_type": "stream",
     "text": [
      "AdaBoostClassifier(algorithm='SAMME.R', base_estimator=None,\n",
      "          learning_rate=0.9, n_estimators=16, random_state=None)\n",
      "\tAccuracy: 0.87247\tPrecision: 0.52921\tRecall: 0.39400\tF1: 0.45171\tF2: 0.41522\n",
      "\tTotal predictions: 15000\tTrue positives:  788\tFalse positives:  701\tFalse negatives: 1212\tTrue negatives: 12299\n",
      "\n"
     ]
    }
   ],
   "source": [
    "test_classifier(clf_ADA, enron_data, second_selection_features)"
   ]
  },
  {
   "cell_type": "code",
   "execution_count": 50,
   "metadata": {
    "collapsed": false
   },
   "outputs": [
    {
     "name": "stdout",
     "output_type": "stream",
     "text": [
      "salary: 0.13\n",
      "total_payments: 0.19\n",
      "exercised_stock_options: 0.13\n",
      "bonus: 0.25\n",
      "restricted_stock: 0.13\n",
      "expenses: 0.06\n",
      "other: 0.06\n",
      "share_shared_receipt_with_poi: 0.06\n"
     ]
    }
   ],
   "source": [
    "clf_ADA.fit(features_train,labels_train)\n",
    "for feature, imp in zip(second_selection_features[1:],clf_ADA.feature_importances_):\n",
    "    print feature +\": \" + str(round(imp,2))"
   ]
  },
  {
   "cell_type": "markdown",
   "metadata": {},
   "source": [
    "The performance is roughly the same, with slightly better *Recall* and *F1*. "
   ]
  },
  {
   "cell_type": "markdown",
   "metadata": {},
   "source": [
    "Let's double check the tuning."
   ]
  },
  {
   "cell_type": "code",
   "execution_count": 51,
   "metadata": {
    "collapsed": false
   },
   "outputs": [
    {
     "data": {
      "text/plain": [
       "GridSearchCV(cv=10, error_score='raise',\n",
       "       estimator=AdaBoostClassifier(algorithm='SAMME.R', base_estimator=None,\n",
       "          learning_rate=1.0, n_estimators=50, random_state=None),\n",
       "       fit_params={}, iid=True, n_jobs=1,\n",
       "       param_grid={'n_estimators': [1, 5, 8, 10, 11, 12, 13, 14, 15, 16, 17, 18, 50, 100, 1000, 2000], 'learning_rate': [0.1, 0.2, 0.3, 0.5, 0.7, 0.8, 0.9, 1, 2, 3, 5, 10]},\n",
       "       pre_dispatch='2*n_jobs', refit=True, return_train_score=True,\n",
       "       scoring='f1', verbose=0)"
      ]
     },
     "execution_count": 51,
     "metadata": {},
     "output_type": "execute_result"
    }
   ],
   "source": [
    "clf_ADA = AdaBoostClassifier()\n",
    "clf = GridSearchCV(clf_ADA, parameters, scoring = 'f1', cv = 10 )\n",
    "clf.fit(features, labels)"
   ]
  },
  {
   "cell_type": "code",
   "execution_count": 52,
   "metadata": {
    "collapsed": false
   },
   "outputs": [
    {
     "name": "stdout",
     "output_type": "stream",
     "text": [
      "{'n_estimators': 11, 'learning_rate': 0.5}\n",
      "0.428904428904\n"
     ]
    }
   ],
   "source": [
    "print clf.best_params_\n",
    "print clf.best_score_ "
   ]
  },
  {
   "cell_type": "markdown",
   "metadata": {},
   "source": [
    "Double check performance of the best model, and obtain the other metrics:"
   ]
  },
  {
   "cell_type": "code",
   "execution_count": 53,
   "metadata": {
    "collapsed": false
   },
   "outputs": [
    {
     "name": "stdout",
     "output_type": "stream",
     "text": [
      "AdaBoostClassifier(algorithm='SAMME.R', base_estimator=None,\n",
      "          learning_rate=0.5, n_estimators=11, random_state=None)\n",
      "\tAccuracy: 0.88767\tPrecision: 0.63496\tRecall: 0.37050\tF1: 0.46795\tF2: 0.40417\n",
      "\tTotal predictions: 15000\tTrue positives:  741\tFalse positives:  426\tFalse negatives: 1259\tTrue negatives: 12574\n",
      "\n"
     ]
    }
   ],
   "source": [
    "lr = 0.5\n",
    "n_est = 11\n",
    "clf_ADA = AdaBoostClassifier(learning_rate = lr, n_estimators = n_est)\n",
    "test_classifier(clf_ADA, enron_data, second_selection_features)"
   ]
  },
  {
   "cell_type": "markdown",
   "metadata": {},
   "source": [
    "There is a clear improvement, particularly in Precision. Let's check the importance."
   ]
  },
  {
   "cell_type": "code",
   "execution_count": 54,
   "metadata": {
    "collapsed": false
   },
   "outputs": [
    {
     "name": "stdout",
     "output_type": "stream",
     "text": [
      "salary: 0.0\n",
      "total_payments: 0.09\n",
      "exercised_stock_options: 0.18\n",
      "bonus: 0.27\n",
      "restricted_stock: 0.27\n",
      "expenses: 0.09\n",
      "other: 0.0\n",
      "share_shared_receipt_with_poi: 0.09\n"
     ]
    }
   ],
   "source": [
    "clf_ADA.fit(features_train,labels_train)\n",
    "for feature, imp in zip(second_selection_features[1:],clf_ADA.feature_importances_):\n",
    "    print feature +\": \" + str(round(imp,2))"
   ]
  },
  {
   "cell_type": "markdown",
   "metadata": {},
   "source": [
    "Let's see how the performance compares if we drop the features with 0 importance:"
   ]
  },
  {
   "cell_type": "code",
   "execution_count": 55,
   "metadata": {
    "collapsed": true
   },
   "outputs": [],
   "source": [
    "third_selection_features = second_selection_features"
   ]
  },
  {
   "cell_type": "code",
   "execution_count": 56,
   "metadata": {
    "collapsed": true
   },
   "outputs": [],
   "source": [
    "third_selection_features.remove('other')"
   ]
  },
  {
   "cell_type": "code",
   "execution_count": 57,
   "metadata": {
    "collapsed": false
   },
   "outputs": [
    {
     "name": "stdout",
     "output_type": "stream",
     "text": [
      "['poi', 'salary', 'total_payments', 'exercised_stock_options', 'bonus', 'restricted_stock', 'expenses', 'share_shared_receipt_with_poi']\n",
      "\n",
      " Numbers of features: 8\n"
     ]
    }
   ],
   "source": [
    "print  third_selection_features\n",
    "print \"\\n Numbers of features: \" + str(len(third_selection_features))"
   ]
  },
  {
   "cell_type": "markdown",
   "metadata": {},
   "source": [
    "Re-create relevant variables"
   ]
  },
  {
   "cell_type": "code",
   "execution_count": 58,
   "metadata": {
    "collapsed": true
   },
   "outputs": [],
   "source": [
    "data = featureFormat(enron_data, third_selection_features, sort_keys = True)\n",
    "labels, features = targetFeatureSplit(data)\n",
    "\n",
    "features_train, features_test, labels_train, labels_test = \\\n",
    "    train_test_split(features, labels, test_size=0.3, random_state=42)"
   ]
  },
  {
   "cell_type": "markdown",
   "metadata": {},
   "source": [
    "and test performance"
   ]
  },
  {
   "cell_type": "code",
   "execution_count": 59,
   "metadata": {
    "collapsed": false
   },
   "outputs": [
    {
     "name": "stdout",
     "output_type": "stream",
     "text": [
      "AdaBoostClassifier(algorithm='SAMME.R', base_estimator=None,\n",
      "          learning_rate=0.5, n_estimators=11, random_state=None)\n",
      "\tAccuracy: 0.89007\tPrecision: 0.66924\tRecall: 0.34700\tF1: 0.45703\tF2: 0.38398\n",
      "\tTotal predictions: 15000\tTrue positives:  694\tFalse positives:  343\tFalse negatives: 1306\tTrue negatives: 12657\n",
      "\n"
     ]
    }
   ],
   "source": [
    "test_classifier(clf_ADA, enron_data, third_selection_features)"
   ]
  },
  {
   "cell_type": "markdown",
   "metadata": {},
   "source": [
    "Performance is slightly improved in *Precision* but drops in *Recall* and *F1*."
   ]
  },
  {
   "cell_type": "markdown",
   "metadata": {},
   "source": [
    "We stop this investigation and stick with the *second_selection_features* list, with the *learning rate* = 0.5 and *n_estimators* = 11."
   ]
  },
  {
   "cell_type": "markdown",
   "metadata": {},
   "source": [
    "# Alternative Feature Selection"
   ]
  },
  {
   "cell_type": "markdown",
   "metadata": {},
   "source": [
    "In this case I will start with the full list of features including the created festures, and use recursive feature elimination (RFE) to select the 8 best features from the full list and compare performance the performance against my manually selected features. I'll start the RFE using the tuned parameters from above."
   ]
  },
  {
   "cell_type": "code",
   "execution_count": 60,
   "metadata": {
    "collapsed": true
   },
   "outputs": [],
   "source": [
    "from sklearn.feature_selection import RFE"
   ]
  },
  {
   "cell_type": "code",
   "execution_count": 61,
   "metadata": {
    "collapsed": true
   },
   "outputs": [],
   "source": [
    "data = featureFormat(enron_data, all_features, sort_keys = True)\n",
    "labels, features = targetFeatureSplit(data)"
   ]
  },
  {
   "cell_type": "code",
   "execution_count": 62,
   "metadata": {
    "collapsed": false
   },
   "outputs": [],
   "source": [
    "rfe = RFE(clf_ADA,8)\n",
    "selector = rfe.fit(features,labels)"
   ]
  },
  {
   "cell_type": "code",
   "execution_count": 63,
   "metadata": {
    "collapsed": false
   },
   "outputs": [
    {
     "name": "stdout",
     "output_type": "stream",
     "text": [
      "salary (15)\n",
      "to_messages (14)\n",
      "deferral_payments (13)\n",
      "total_payments (1)\n",
      "exercised_stock_options (1)\n",
      "bonus (1)\n",
      "restricted_stock (1)\n",
      "shared_receipt_with_poi (9)\n",
      "restricted_stock_deferred (8)\n",
      "total_stock_value (7)\n",
      "expenses (1)\n",
      "loan_advances (11)\n",
      "from_messages (12)\n",
      "other (1)\n",
      "from_this_person_to_poi (6)\n",
      "director_fees (5)\n",
      "deferred_income (4)\n",
      "long_term_incentive (3)\n",
      "from_poi_to_this_person (2)\n",
      "share_shared_receipt_with_poi (1)\n",
      "share_from_this_person_to_poi (1)\n",
      "share_from_poi_to_this_person (10)\n"
     ]
    }
   ],
   "source": [
    "for feature, rank in zip(all_features[1:], selector.ranking_ ):\n",
    "    print feature +\" (\" + str(rank) +\")\""
   ]
  },
  {
   "cell_type": "code",
   "execution_count": 64,
   "metadata": {
    "collapsed": true
   },
   "outputs": [],
   "source": [
    "alternative_selection_features = ['poi']\n",
    "for feature, rank in zip(all_features[1:], selector.ranking_ ):\n",
    "    if rank == 1:\n",
    "        alternative_selection_features.append(feature)"
   ]
  },
  {
   "cell_type": "code",
   "execution_count": 65,
   "metadata": {
    "collapsed": false
   },
   "outputs": [
    {
     "name": "stdout",
     "output_type": "stream",
     "text": [
      "['poi', 'total_payments', 'exercised_stock_options', 'bonus', 'restricted_stock', 'expenses', 'other', 'share_shared_receipt_with_poi', 'share_from_this_person_to_poi']\n",
      "\n",
      " Numbers of features: 9\n"
     ]
    }
   ],
   "source": [
    "print  alternative_selection_features\n",
    "print \"\\n Numbers of features: \" + str(len(alternative_selection_features))"
   ]
  },
  {
   "cell_type": "markdown",
   "metadata": {},
   "source": [
    "Re-create relevant variables"
   ]
  },
  {
   "cell_type": "code",
   "execution_count": 66,
   "metadata": {
    "collapsed": true
   },
   "outputs": [],
   "source": [
    "data = featureFormat(enron_data, alternative_selection_features, sort_keys = True)\n",
    "labels, features = targetFeatureSplit(data)\n",
    "\n",
    "features_train, features_test, labels_train, labels_test = \\\n",
    "    train_test_split(features, labels, test_size=0.3, random_state=42)"
   ]
  },
  {
   "cell_type": "markdown",
   "metadata": {},
   "source": [
    "and test performance"
   ]
  },
  {
   "cell_type": "code",
   "execution_count": 67,
   "metadata": {
    "collapsed": false
   },
   "outputs": [
    {
     "name": "stdout",
     "output_type": "stream",
     "text": [
      "AdaBoostClassifier(algorithm='SAMME.R', base_estimator=None,\n",
      "          learning_rate=0.5, n_estimators=11, random_state=None)\n",
      "\tAccuracy: 0.88933\tPrecision: 0.64912\tRecall: 0.37000\tF1: 0.47134\tF2: 0.40481\n",
      "\tTotal predictions: 15000\tTrue positives:  740\tFalse positives:  400\tFalse negatives: 1260\tTrue negatives: 12600\n",
      "\n"
     ]
    }
   ],
   "source": [
    "test_classifier(clf_ADA, enron_data, alternative_selection_features)"
   ]
  },
  {
   "cell_type": "markdown",
   "metadata": {},
   "source": [
    "We notice an increase in performance, particularly in *Recall* and *F1*, therefore we proceed in this path. Let's check the importance of features."
   ]
  },
  {
   "cell_type": "code",
   "execution_count": 68,
   "metadata": {
    "collapsed": false
   },
   "outputs": [
    {
     "name": "stdout",
     "output_type": "stream",
     "text": [
      "total_payments: 0.09\n",
      "exercised_stock_options: 0.18\n",
      "bonus: 0.27\n",
      "restricted_stock: 0.27\n",
      "expenses: 0.09\n",
      "other: 0.0\n",
      "share_shared_receipt_with_poi: 0.09\n",
      "share_from_this_person_to_poi: 0.0\n"
     ]
    }
   ],
   "source": [
    "clf_ADA.fit(features_train,labels_train)\n",
    "for feature, imp in zip(alternative_selection_features[1:],clf_ADA.feature_importances_):\n",
    "    print feature +\": \" + str(round(imp,2))"
   ]
  },
  {
   "cell_type": "markdown",
   "metadata": {},
   "source": [
    "Since there are features with close to 0 importance, we investigate if we can drop features."
   ]
  },
  {
   "cell_type": "code",
   "execution_count": 69,
   "metadata": {
    "collapsed": true
   },
   "outputs": [],
   "source": [
    "data = featureFormat(enron_data, all_features, sort_keys = True)\n",
    "labels, features = targetFeatureSplit(data)\n",
    "\n",
    "rfe = RFE(clf_ADA,6)\n",
    "selector = rfe.fit(features,labels)"
   ]
  },
  {
   "cell_type": "code",
   "execution_count": 70,
   "metadata": {
    "collapsed": false
   },
   "outputs": [
    {
     "name": "stdout",
     "output_type": "stream",
     "text": [
      "salary (17)\n",
      "to_messages (16)\n",
      "deferral_payments (15)\n",
      "total_payments (3)\n",
      "exercised_stock_options (1)\n",
      "bonus (1)\n",
      "restricted_stock (2)\n",
      "shared_receipt_with_poi (11)\n",
      "restricted_stock_deferred (10)\n",
      "total_stock_value (9)\n",
      "expenses (1)\n",
      "loan_advances (13)\n",
      "from_messages (14)\n",
      "other (1)\n",
      "from_this_person_to_poi (8)\n",
      "director_fees (7)\n",
      "deferred_income (6)\n",
      "long_term_incentive (5)\n",
      "from_poi_to_this_person (4)\n",
      "share_shared_receipt_with_poi (1)\n",
      "share_from_this_person_to_poi (1)\n",
      "share_from_poi_to_this_person (12)\n"
     ]
    }
   ],
   "source": [
    "for feature, rank in zip(all_features[1:], selector.ranking_ ):\n",
    "    print feature +\" (\" + str(rank) +\")\""
   ]
  },
  {
   "cell_type": "code",
   "execution_count": 71,
   "metadata": {
    "collapsed": true
   },
   "outputs": [],
   "source": [
    "second_alternative_selection_features = ['poi']\n",
    "for feature, rank in zip(all_features[1:], selector.ranking_ ):\n",
    "    if rank == 1:\n",
    "        second_alternative_selection_features.append(feature)"
   ]
  },
  {
   "cell_type": "code",
   "execution_count": 72,
   "metadata": {
    "collapsed": false
   },
   "outputs": [
    {
     "name": "stdout",
     "output_type": "stream",
     "text": [
      "['poi', 'exercised_stock_options', 'bonus', 'expenses', 'other', 'share_shared_receipt_with_poi', 'share_from_this_person_to_poi']\n",
      "\n",
      " Numbers of features: 7\n"
     ]
    }
   ],
   "source": [
    "print  second_alternative_selection_features\n",
    "print \"\\n Numbers of features: \" + str(len(second_alternative_selection_features))"
   ]
  },
  {
   "cell_type": "markdown",
   "metadata": {},
   "source": [
    "Re-create relevant variables"
   ]
  },
  {
   "cell_type": "code",
   "execution_count": 73,
   "metadata": {
    "collapsed": true
   },
   "outputs": [],
   "source": [
    "data = featureFormat(enron_data, second_alternative_selection_features, sort_keys = True)\n",
    "labels, features = targetFeatureSplit(data)\n",
    "\n",
    "features_train, features_test, labels_train, labels_test = \\\n",
    "    train_test_split(features, labels, test_size=0.3, random_state=42)\n"
   ]
  },
  {
   "cell_type": "markdown",
   "metadata": {},
   "source": [
    "and test performance"
   ]
  },
  {
   "cell_type": "code",
   "execution_count": 74,
   "metadata": {
    "collapsed": false
   },
   "outputs": [
    {
     "name": "stdout",
     "output_type": "stream",
     "text": [
      "AdaBoostClassifier(algorithm='SAMME.R', base_estimator=None,\n",
      "          learning_rate=0.5, n_estimators=11, random_state=None)\n",
      "\tAccuracy: 0.88943\tPrecision: 0.72027\tRecall: 0.36950\tF1: 0.48843\tF2: 0.40937\n",
      "\tTotal predictions: 14000\tTrue positives:  739\tFalse positives:  287\tFalse negatives: 1261\tTrue negatives: 11713\n",
      "\n"
     ]
    }
   ],
   "source": [
    "test_classifier(clf_ADA, enron_data, second_alternative_selection_features)"
   ]
  },
  {
   "cell_type": "markdown",
   "metadata": {},
   "source": [
    "Performance is again improved, therefore we can investigate further. Let's see the importance again."
   ]
  },
  {
   "cell_type": "code",
   "execution_count": 75,
   "metadata": {
    "collapsed": false
   },
   "outputs": [
    {
     "name": "stdout",
     "output_type": "stream",
     "text": [
      "exercised_stock_options: 0.27\n",
      "bonus: 0.18\n",
      "expenses: 0.18\n",
      "other: 0.18\n",
      "share_shared_receipt_with_poi: 0.0\n",
      "share_from_this_person_to_poi: 0.18\n"
     ]
    }
   ],
   "source": [
    "clf_ADA.fit(features_train,labels_train)\n",
    "for feature, imp in zip(second_alternative_selection_features[1:],clf_ADA.feature_importances_):\n",
    "    print feature +\": \" + str(round(imp,2))"
   ]
  },
  {
   "cell_type": "markdown",
   "metadata": {},
   "source": [
    "There are still features with close to 0 importance. Let's see what happens if we drop an additional feature."
   ]
  },
  {
   "cell_type": "code",
   "execution_count": 76,
   "metadata": {
    "collapsed": true
   },
   "outputs": [],
   "source": [
    "data = featureFormat(enron_data, all_features, sort_keys = True)\n",
    "labels, features = targetFeatureSplit(data)\n",
    "\n",
    "rfe = RFE(clf_ADA,5)\n",
    "selector = rfe.fit(features,labels)"
   ]
  },
  {
   "cell_type": "code",
   "execution_count": 77,
   "metadata": {
    "collapsed": false
   },
   "outputs": [
    {
     "name": "stdout",
     "output_type": "stream",
     "text": [
      "salary (18)\n",
      "to_messages (17)\n",
      "deferral_payments (16)\n",
      "total_payments (4)\n",
      "exercised_stock_options (1)\n",
      "bonus (1)\n",
      "restricted_stock (3)\n",
      "shared_receipt_with_poi (12)\n",
      "restricted_stock_deferred (11)\n",
      "total_stock_value (10)\n",
      "expenses (2)\n",
      "loan_advances (14)\n",
      "from_messages (15)\n",
      "other (1)\n",
      "from_this_person_to_poi (9)\n",
      "director_fees (8)\n",
      "deferred_income (7)\n",
      "long_term_incentive (6)\n",
      "from_poi_to_this_person (5)\n",
      "share_shared_receipt_with_poi (1)\n",
      "share_from_this_person_to_poi (1)\n",
      "share_from_poi_to_this_person (13)\n"
     ]
    }
   ],
   "source": [
    "for feature, rank in zip(all_features[1:], selector.ranking_ ):\n",
    "    print feature +\" (\" + str(rank) +\")\""
   ]
  },
  {
   "cell_type": "code",
   "execution_count": 78,
   "metadata": {
    "collapsed": true
   },
   "outputs": [],
   "source": [
    "third_alternative_selection_features = ['poi']\n",
    "for feature, rank in zip(all_features[1:], selector.ranking_ ):\n",
    "    if rank == 1:\n",
    "        third_alternative_selection_features.append(feature)"
   ]
  },
  {
   "cell_type": "code",
   "execution_count": 79,
   "metadata": {
    "collapsed": false
   },
   "outputs": [
    {
     "name": "stdout",
     "output_type": "stream",
     "text": [
      "['poi', 'exercised_stock_options', 'bonus', 'other', 'share_shared_receipt_with_poi', 'share_from_this_person_to_poi']\n",
      "\n",
      " Numbers of features: 6\n"
     ]
    }
   ],
   "source": [
    "print  third_alternative_selection_features\n",
    "print \"\\n Numbers of features: \" + str(len(third_alternative_selection_features))"
   ]
  },
  {
   "cell_type": "markdown",
   "metadata": {},
   "source": [
    "Re-create relevant variables"
   ]
  },
  {
   "cell_type": "code",
   "execution_count": 80,
   "metadata": {
    "collapsed": true
   },
   "outputs": [],
   "source": [
    "data = featureFormat(enron_data, third_alternative_selection_features, sort_keys = True)\n",
    "labels, features = targetFeatureSplit(data)\n",
    "\n",
    "features_train, features_test, labels_train, labels_test = \\\n",
    "    train_test_split(features, labels, test_size=0.3, random_state=42)"
   ]
  },
  {
   "cell_type": "markdown",
   "metadata": {},
   "source": [
    "and test performance"
   ]
  },
  {
   "cell_type": "code",
   "execution_count": 81,
   "metadata": {
    "collapsed": false
   },
   "outputs": [
    {
     "name": "stdout",
     "output_type": "stream",
     "text": [
      "AdaBoostClassifier(algorithm='SAMME.R', base_estimator=None,\n",
      "          learning_rate=0.5, n_estimators=11, random_state=None)\n",
      "\tAccuracy: 0.84331\tPrecision: 0.47919\tRecall: 0.21300\tF1: 0.29491\tF2: 0.23962\n",
      "\tTotal predictions: 13000\tTrue positives:  426\tFalse positives:  463\tFalse negatives: 1574\tTrue negatives: 10537\n",
      "\n"
     ]
    }
   ],
   "source": [
    "test_classifier(clf_ADA, enron_data, third_alternative_selection_features)"
   ]
  },
  {
   "cell_type": "markdown",
   "metadata": {},
   "source": [
    "Performance is clearly reduced. Let's check the importance."
   ]
  },
  {
   "cell_type": "code",
   "execution_count": 82,
   "metadata": {
    "collapsed": false
   },
   "outputs": [
    {
     "name": "stdout",
     "output_type": "stream",
     "text": [
      "exercised_stock_options: 0.18\n",
      "bonus: 0.09\n",
      "other: 0.36\n",
      "share_shared_receipt_with_poi: 0.18\n",
      "share_from_this_person_to_poi: 0.18\n"
     ]
    }
   ],
   "source": [
    "clf_ADA.fit(features_train,labels_train)\n",
    "for feature, imp in zip(third_alternative_selection_features[1:],clf_ADA.feature_importances_):\n",
    "    print feature +\": \" + str(round(imp,2))"
   ]
  },
  {
   "cell_type": "markdown",
   "metadata": {},
   "source": [
    "Final thing we can do is to manually remove the features with near 0 importance and compare performance."
   ]
  },
  {
   "cell_type": "code",
   "execution_count": 83,
   "metadata": {
    "collapsed": false
   },
   "outputs": [],
   "source": [
    "forth_alternative_selection_features = second_alternative_selection_features\n",
    "forth_alternative_selection_features.remove('share_shared_receipt_with_poi')"
   ]
  },
  {
   "cell_type": "code",
   "execution_count": 84,
   "metadata": {
    "collapsed": false
   },
   "outputs": [
    {
     "name": "stdout",
     "output_type": "stream",
     "text": [
      "['poi', 'exercised_stock_options', 'bonus', 'expenses', 'other', 'share_from_this_person_to_poi']\n",
      "\n",
      " Numbers of features: 6\n"
     ]
    }
   ],
   "source": [
    "print  forth_alternative_selection_features\n",
    "print \"\\n Numbers of features: \" + str(len(forth_alternative_selection_features))"
   ]
  },
  {
   "cell_type": "markdown",
   "metadata": {},
   "source": [
    "Re-create relevant variables"
   ]
  },
  {
   "cell_type": "code",
   "execution_count": 85,
   "metadata": {
    "collapsed": true
   },
   "outputs": [],
   "source": [
    "data = featureFormat(enron_data, forth_alternative_selection_features, sort_keys = True)\n",
    "labels, features = targetFeatureSplit(data)\n",
    "\n",
    "features_train, features_test, labels_train, labels_test = \\\n",
    "    train_test_split(features, labels, test_size=0.3, random_state=42)"
   ]
  },
  {
   "cell_type": "markdown",
   "metadata": {},
   "source": [
    "and test performance"
   ]
  },
  {
   "cell_type": "code",
   "execution_count": 86,
   "metadata": {
    "collapsed": false
   },
   "outputs": [
    {
     "name": "stdout",
     "output_type": "stream",
     "text": [
      "AdaBoostClassifier(algorithm='SAMME.R', base_estimator=None,\n",
      "          learning_rate=0.5, n_estimators=11, random_state=None)\n",
      "\tAccuracy: 0.86864\tPrecision: 0.57285\tRecall: 0.31650\tF1: 0.40773\tF2: 0.34761\n",
      "\tTotal predictions: 14000\tTrue positives:  633\tFalse positives:  472\tFalse negatives: 1367\tTrue negatives: 11528\n",
      "\n"
     ]
    }
   ],
   "source": [
    "test_classifier(clf_ADA, enron_data, forth_alternative_selection_features)"
   ]
  },
  {
   "cell_type": "markdown",
   "metadata": {},
   "source": [
    "Let's see the importance:"
   ]
  },
  {
   "cell_type": "code",
   "execution_count": 87,
   "metadata": {
    "collapsed": false
   },
   "outputs": [
    {
     "name": "stdout",
     "output_type": "stream",
     "text": [
      "exercised_stock_options: 0.09\n",
      "bonus: 0.18\n",
      "expenses: 0.27\n",
      "other: 0.27\n",
      "share_from_this_person_to_poi: 0.18\n"
     ]
    }
   ],
   "source": [
    "clf_ADA.fit(features_train,labels_train)\n",
    "for feature, imp in zip(forth_alternative_selection_features[1:],clf_ADA.feature_importances_):\n",
    "    print feature +\": \" + str(round(imp,2))"
   ]
  },
  {
   "cell_type": "markdown",
   "metadata": {},
   "source": [
    "So far, *second_alternative_selection_features* seems the best option."
   ]
  },
  {
   "cell_type": "markdown",
   "metadata": {},
   "source": [
    "## Best option"
   ]
  },
  {
   "cell_type": "code",
   "execution_count": 89,
   "metadata": {
    "collapsed": false
   },
   "outputs": [
    {
     "name": "stdout",
     "output_type": "stream",
     "text": [
      "['poi', 'exercised_stock_options', 'bonus', 'expenses', 'other', 'share_shared_receipt_with_poi', 'share_from_this_person_to_poi']\n",
      "\n",
      " Numbers of features: 7\n"
     ]
    }
   ],
   "source": [
    "second_alternative_selection_features = ['poi', 'exercised_stock_options', 'bonus', 'expenses', 'other', 'share_shared_receipt_with_poi', 'share_from_this_person_to_poi']\n",
    "\n",
    "print  second_alternative_selection_features\n",
    "print \"\\n Numbers of features: \" + str(len(second_alternative_selection_features))"
   ]
  },
  {
   "cell_type": "markdown",
   "metadata": {},
   "source": [
    "### Double Check tune"
   ]
  },
  {
   "cell_type": "code",
   "execution_count": 90,
   "metadata": {
    "collapsed": true
   },
   "outputs": [],
   "source": [
    "data = featureFormat(enron_data, second_alternative_selection_features, sort_keys = True)\n",
    "labels, features = targetFeatureSplit(data)\n",
    "\n",
    "features_train, features_test, labels_train, labels_test = \\\n",
    "    train_test_split(features, labels, test_size=0.3, random_state=42)"
   ]
  },
  {
   "cell_type": "code",
   "execution_count": 91,
   "metadata": {
    "collapsed": false
   },
   "outputs": [
    {
     "data": {
      "text/plain": [
       "GridSearchCV(cv=10, error_score='raise',\n",
       "       estimator=AdaBoostClassifier(algorithm='SAMME.R', base_estimator=None,\n",
       "          learning_rate=1.0, n_estimators=50, random_state=None),\n",
       "       fit_params={}, iid=True, n_jobs=1,\n",
       "       param_grid={'n_estimators': [1, 5, 8, 10, 11, 12, 13, 14, 15, 16, 17, 18, 50, 100, 1000, 2000], 'learning_rate': [0.1, 0.2, 0.3, 0.5, 0.7, 0.8, 0.9, 1, 2, 3, 5, 10]},\n",
       "       pre_dispatch='2*n_jobs', refit=True, return_train_score=True,\n",
       "       scoring='f1', verbose=0)"
      ]
     },
     "execution_count": 91,
     "metadata": {},
     "output_type": "execute_result"
    }
   ],
   "source": [
    "clf_ADA = AdaBoostClassifier()\n",
    "clf = GridSearchCV(clf_ADA, parameters, scoring = 'f1', cv = 10 )\n",
    "clf.fit(features, labels)"
   ]
  },
  {
   "cell_type": "code",
   "execution_count": 92,
   "metadata": {
    "collapsed": false
   },
   "outputs": [
    {
     "name": "stdout",
     "output_type": "stream",
     "text": [
      "{'n_estimators': 13, 'learning_rate': 2}\n",
      "0.500241545894\n"
     ]
    }
   ],
   "source": [
    "print clf.best_params_\n",
    "print clf.best_score_ "
   ]
  },
  {
   "cell_type": "markdown",
   "metadata": {},
   "source": [
    "Double check performance with the optimal parameters"
   ]
  },
  {
   "cell_type": "code",
   "execution_count": 93,
   "metadata": {
    "collapsed": false
   },
   "outputs": [
    {
     "name": "stdout",
     "output_type": "stream",
     "text": [
      "AdaBoostClassifier(algorithm='SAMME.R', base_estimator=None, learning_rate=2,\n",
      "          n_estimators=13, random_state=None)\n",
      "\tAccuracy: 0.87736\tPrecision: 0.58408\tRecall: 0.49150\tF1: 0.53380\tF2: 0.50759\n",
      "\tTotal predictions: 14000\tTrue positives:  983\tFalse positives:  700\tFalse negatives: 1017\tTrue negatives: 11300\n",
      "\n"
     ]
    }
   ],
   "source": [
    "lr = 2\n",
    "n_est = 13\n",
    "clf_ADA = AdaBoostClassifier(learning_rate = lr, n_estimators = n_est)\n",
    "test_classifier(clf_ADA, enron_data, second_alternative_selection_features)"
   ]
  },
  {
   "cell_type": "markdown",
   "metadata": {},
   "source": [
    "and the importance of features:"
   ]
  },
  {
   "cell_type": "code",
   "execution_count": 101,
   "metadata": {
    "collapsed": false
   },
   "outputs": [
    {
     "name": "stdout",
     "output_type": "stream",
     "text": [
      "exercised_stock_options: 0.692307692308\n",
      "bonus: 0.230769230769\n",
      "expenses: 0.0769230769231\n",
      "other: 0.0\n",
      "share_shared_receipt_with_poi: 0.0\n",
      "share_from_this_person_to_poi: 0.0\n"
     ]
    }
   ],
   "source": [
    "clf_ADA.fit(features_train,labels_train)\n",
    "for feature, imp in zip(second_alternative_selection_features[1:],clf_ADA.feature_importances_):\n",
    "    print feature +\": \" + str(imp)"
   ]
  },
  {
   "cell_type": "markdown",
   "metadata": {},
   "source": [
    "Let's see what happens if we drop the features with near 0 importance"
   ]
  },
  {
   "cell_type": "code",
   "execution_count": 102,
   "metadata": {
    "collapsed": false
   },
   "outputs": [
    {
     "name": "stdout",
     "output_type": "stream",
     "text": [
      "['poi', 'exercised_stock_options', 'bonus', 'expenses']\n",
      "\n",
      " Numbers of features: 4\n"
     ]
    }
   ],
   "source": [
    "final_selection_features = ['poi', 'exercised_stock_options', 'bonus', 'expenses']\n",
    "\n",
    "print  final_selection_features\n",
    "print \"\\n Numbers of features: \" + str(len(final_selection_features))"
   ]
  },
  {
   "cell_type": "code",
   "execution_count": 103,
   "metadata": {
    "collapsed": true
   },
   "outputs": [],
   "source": [
    "data = featureFormat(enron_data, final_selection_features, sort_keys = True)\n",
    "labels, features = targetFeatureSplit(data)\n",
    "\n",
    "features_train, features_test, labels_train, labels_test = \\\n",
    "    train_test_split(features, labels, test_size=0.3, random_state=42)"
   ]
  },
  {
   "cell_type": "code",
   "execution_count": 105,
   "metadata": {
    "collapsed": false
   },
   "outputs": [
    {
     "name": "stdout",
     "output_type": "stream",
     "text": [
      "AdaBoostClassifier(algorithm='SAMME.R', base_estimator=None, learning_rate=2,\n",
      "          n_estimators=13, random_state=None)\n",
      "\tAccuracy: 0.85129\tPrecision: 0.46645\tRecall: 0.28500\tF1: 0.35382\tF2: 0.30904\n",
      "\tTotal predictions: 14000\tTrue positives:  570\tFalse positives:  652\tFalse negatives: 1430\tTrue negatives: 11348\n",
      "\n"
     ]
    }
   ],
   "source": [
    "clf_ADA = AdaBoostClassifier(learning_rate = lr, n_estimators = n_est)\n",
    "test_classifier(clf_ADA, enron_data, final_selection_features)"
   ]
  },
  {
   "cell_type": "markdown",
   "metadata": {},
   "source": [
    "Clearly not an improvement"
   ]
  },
  {
   "cell_type": "markdown",
   "metadata": {},
   "source": [
    "## Impact of created features"
   ]
  },
  {
   "cell_type": "markdown",
   "metadata": {},
   "source": [
    "In order to access the impact of the created features, we compare the performance of the classifier with and without it."
   ]
  },
  {
   "cell_type": "code",
   "execution_count": 111,
   "metadata": {
    "collapsed": false
   },
   "outputs": [
    {
     "name": "stdout",
     "output_type": "stream",
     "text": [
      "['poi', 'exercised_stock_options', 'bonus', 'expenses', 'other', 'share_shared_receipt_with_poi', 'share_from_this_person_to_poi']\n",
      "\n",
      " Numbers of features: 7\n",
      "AdaBoostClassifier(algorithm='SAMME.R', base_estimator=None, learning_rate=2,\n",
      "          n_estimators=13, random_state=None)\n",
      "\tAccuracy: 0.87700\tPrecision: 0.58264\tRecall: 0.49000\tF1: 0.53232\tF2: 0.50609\n",
      "\tTotal predictions: 14000\tTrue positives:  980\tFalse positives:  702\tFalse negatives: 1020\tTrue negatives: 11298\n",
      "\n"
     ]
    }
   ],
   "source": [
    "data = featureFormat(enron_data, second_alternative_selection_features, sort_keys = True)\n",
    "labels, features = targetFeatureSplit(data)\n",
    "\n",
    "features_train, features_test, labels_train, labels_test = \\\n",
    "    train_test_split(features, labels, test_size=0.3, random_state=42)\n",
    "\n",
    "print  second_alternative_selection_features\n",
    "print \"\\n Numbers of features: \" + str(len(second_alternative_selection_features))\n",
    "\n",
    "lr = 2\n",
    "n_est = 13\n",
    "clf_ADA = AdaBoostClassifier(learning_rate = lr, n_estimators = n_est)\n",
    "test_classifier(clf_ADA, enron_data, second_alternative_selection_features)"
   ]
  },
  {
   "cell_type": "code",
   "execution_count": 112,
   "metadata": {
    "collapsed": false
   },
   "outputs": [
    {
     "name": "stdout",
     "output_type": "stream",
     "text": [
      "exercised_stock_options: 0.69\n",
      "bonus: 0.23\n",
      "expenses: 0.08\n",
      "other: 0.0\n",
      "share_shared_receipt_with_poi: 0.0\n",
      "share_from_this_person_to_poi: 0.0\n"
     ]
    }
   ],
   "source": [
    "clf_ADA.fit(features_train,labels_train)\n",
    "for feature, imp in zip(second_alternative_selection_features[1:],clf_ADA.feature_importances_):\n",
    "    print feature +\": \" + str(round(imp,2))"
   ]
  },
  {
   "cell_type": "code",
   "execution_count": 108,
   "metadata": {
    "collapsed": false
   },
   "outputs": [
    {
     "name": "stdout",
     "output_type": "stream",
     "text": [
      "['poi', 'exercised_stock_options', 'bonus', 'expenses', 'other']\n",
      "\n",
      " Numbers of features: 5\n",
      "AdaBoostClassifier(algorithm='SAMME.R', base_estimator=None, learning_rate=2,\n",
      "          n_estimators=13, random_state=None)\n",
      "\tAccuracy: 0.85186\tPrecision: 0.47068\tRecall: 0.29700\tF1: 0.36419\tF2: 0.32067\n",
      "\tTotal predictions: 14000\tTrue positives:  594\tFalse positives:  668\tFalse negatives: 1406\tTrue negatives: 11332\n",
      "\n"
     ]
    }
   ],
   "source": [
    "second_alternative_selection_features_without = ['poi', 'exercised_stock_options', 'bonus', 'expenses', 'other']\n",
    "print  second_alternative_selection_features_without\n",
    "print \"\\n Numbers of features: \" + str(len(second_alternative_selection_features_without))\n",
    "\n",
    "lr = 2\n",
    "n_est = 13\n",
    "clf_ADA = AdaBoostClassifier(learning_rate = lr, n_estimators = n_est)\n",
    "test_classifier(clf_ADA, enron_data, second_alternative_selection_features_without)"
   ]
  }
 ],
 "metadata": {
  "anaconda-cloud": {},
  "kernelspec": {
   "display_name": "Python [default]",
   "language": "python",
   "name": "python2"
  },
  "language_info": {
   "codemirror_mode": {
    "name": "ipython",
    "version": 2
   },
   "file_extension": ".py",
   "mimetype": "text/x-python",
   "name": "python",
   "nbconvert_exporter": "python",
   "pygments_lexer": "ipython2",
   "version": "2.7.12"
  }
 },
 "nbformat": 4,
 "nbformat_minor": 1
}
