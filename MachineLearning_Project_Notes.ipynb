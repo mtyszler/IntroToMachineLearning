{
 "cells": [
  {
   "cell_type": "markdown",
   "metadata": {},
   "source": [
    "# Notes about the Intro to Machine Learning Project\n",
    "[Marcelo Tyszler](mailto:tyszler.jobs@gmail.com)\n",
    "18/Sep/2017\n",
    "\n",
    "In this notebook I summarize my steps and findings towards the Final Project in the Intro to Machine Learning course. This is in the Scope of the Udacity Data Analyst Nanodegree.\n",
    "\n",
    "# Choice of tools\n",
    "\n",
    "For this project I opted for:\n",
    "* Keep basic documentation and notes in the Jupyter Notebook\n",
    "* Save files in Github\n",
    "* Use PyCharm as Python environment\n"
   ]
  }
 ],
 "metadata": {
  "anaconda-cloud": {},
  "kernelspec": {
   "display_name": "Python [default]",
   "language": "python",
   "name": "python2"
  },
  "language_info": {
   "codemirror_mode": {
    "name": "ipython",
    "version": 2
   },
   "file_extension": ".py",
   "mimetype": "text/x-python",
   "name": "python",
   "nbconvert_exporter": "python",
   "pygments_lexer": "ipython2",
   "version": "2.7.12"
  }
 },
 "nbformat": 4,
 "nbformat_minor": 1
}
